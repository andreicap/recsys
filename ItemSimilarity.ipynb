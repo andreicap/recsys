{
 "cells": [
  {
   "cell_type": "markdown",
   "metadata": {},
   "source": [
    "# Item Similarity"
   ]
  },
  {
   "cell_type": "code",
   "execution_count": 1,
   "metadata": {
    "collapsed": true
   },
   "outputs": [],
   "source": [
    "import pandas\n",
    "import pandas as pd\n",
    "import numpy as np\n",
    "\n",
    "from sklearn.externals import joblib\n",
    "from sklearn.model_selection import train_test_split\n",
    "from sklearn.neighbors import NearestNeighbors\n",
    "\n",
    "from scipy.spatial.distance import cosine\n",
    "from scipy.sparse import csr_matrix\n",
    "\n",
    "\n",
    "import time\n",
    "import itemSimilarity as Recommenders\n"
   ]
  },
  {
   "cell_type": "code",
   "execution_count": 2,
   "metadata": {
    "collapsed": true
   },
   "outputs": [],
   "source": [
    "track_playlist_is_model = Recommenders.item_similarity_recommender_py()\n",
    "track_user_is_model =  Recommenders.item_similarity_recommender_py()"
   ]
  },
  {
   "cell_type": "code",
   "execution_count": 3,
   "metadata": {},
   "outputs": [
    {
     "name": "stdout",
     "output_type": "stream",
     "text": [
      "succesful import\n"
     ]
    }
   ],
   "source": [
    "import time\n",
    "import pickle\n",
    "import math\n",
    "import pandas as pd\n",
    "import numpy as np\n",
    "import scipy.sparse\n",
    "from sklearn import preprocessing\n",
    "\n",
    "print(\"succesful import\")"
   ]
  },
  {
   "cell_type": "code",
   "execution_count": 4,
   "metadata": {},
   "outputs": [
    {
     "name": "stdout",
     "output_type": "stream",
     "text": [
      "Successfully read data\n"
     ]
    }
   ],
   "source": [
    "target_playlists = pd.read_csv('datasets/target_playlists.csv', sep='\\t')\n",
    "target_tracks = pd.read_csv('datasets/target_tracks.csv', sep='\\t')\n",
    "tracks_final = pd.read_csv('datasets/tracks_final.csv', sep='\\t')\n",
    "playlists_final = pd.read_csv('datasets/playlists_final.csv', sep='\\t')\n",
    "train_final = pd.read_csv('datasets/train_final.csv', sep='\\t')\n",
    "\n",
    "print('Successfully read data')"
   ]
  },
  {
   "cell_type": "code",
   "execution_count": 5,
   "metadata": {},
   "outputs": [
    {
     "name": "stdout",
     "output_type": "stream",
     "text": [
      "41\n"
     ]
    }
   ],
   "source": [
    "import gc as gc\n",
    "print(gc.collect())\n",
    "\n",
    "def save_sparse_csr(filename,array):\n",
    "    np.savez(filename,data = array.data ,indices=array.indices,\n",
    "             indptr =array.indptr, shape=array.shape )\n",
    "\n",
    "def load_sparse_csr(filename):\n",
    "    loader = np.load(filename)\n",
    "    return csr_matrix((loader['data'], loader['indices'], loader['indptr']),\n",
    "                         shape = loader['shape'])\n"
   ]
  },
  {
   "cell_type": "code",
   "execution_count": 6,
   "metadata": {
    "collapsed": true
   },
   "outputs": [],
   "source": [
    "removed_tracks = tracks_final.query('duration == -1'); \n",
    "tracks_final = tracks_final.query('duration != -1');"
   ]
  },
  {
   "cell_type": "code",
   "execution_count": 7,
   "metadata": {
    "collapsed": true
   },
   "outputs": [],
   "source": [
    "combined = train_final.merge(tracks_final, left_on = 'track_id', right_on = 'track_id', how = 'left')"
   ]
  },
  {
   "cell_type": "code",
   "execution_count": 8,
   "metadata": {
    "collapsed": true
   },
   "outputs": [],
   "source": [
    "combined = combined[combined.track_id.isin(target_tracks.track_id)]"
   ]
  },
  {
   "cell_type": "code",
   "execution_count": 9,
   "metadata": {},
   "outputs": [
    {
     "data": {
      "text/html": [
       "<div>\n",
       "<style>\n",
       "    .dataframe thead tr:only-child th {\n",
       "        text-align: right;\n",
       "    }\n",
       "\n",
       "    .dataframe thead th {\n",
       "        text-align: left;\n",
       "    }\n",
       "\n",
       "    .dataframe tbody tr th {\n",
       "        vertical-align: top;\n",
       "    }\n",
       "</style>\n",
       "<table border=\"1\" class=\"dataframe\">\n",
       "  <thead>\n",
       "    <tr style=\"text-align: right;\">\n",
       "      <th></th>\n",
       "      <th>playlist_id</th>\n",
       "      <th>track_id</th>\n",
       "      <th>artist_id</th>\n",
       "      <th>duration</th>\n",
       "      <th>playcount</th>\n",
       "      <th>album</th>\n",
       "      <th>tags</th>\n",
       "    </tr>\n",
       "  </thead>\n",
       "  <tbody>\n",
       "    <tr>\n",
       "      <th>0</th>\n",
       "      <td>3271849</td>\n",
       "      <td>2801526</td>\n",
       "      <td>325531.0</td>\n",
       "      <td>157000.0</td>\n",
       "      <td>1086.0</td>\n",
       "      <td>[149604]</td>\n",
       "      <td>[3982, 170251, 189631, 237215, 237214]</td>\n",
       "    </tr>\n",
       "    <tr>\n",
       "      <th>1</th>\n",
       "      <td>5616275</td>\n",
       "      <td>727878</td>\n",
       "      <td>442798.0</td>\n",
       "      <td>249000.0</td>\n",
       "      <td>1498.0</td>\n",
       "      <td>[205572]</td>\n",
       "      <td>[115752, 115355, 11056, 191177, 117800]</td>\n",
       "    </tr>\n",
       "    <tr>\n",
       "      <th>5</th>\n",
       "      <td>5270369</td>\n",
       "      <td>2821391</td>\n",
       "      <td>NaN</td>\n",
       "      <td>NaN</td>\n",
       "      <td>NaN</td>\n",
       "      <td>NaN</td>\n",
       "      <td>NaN</td>\n",
       "    </tr>\n",
       "    <tr>\n",
       "      <th>7</th>\n",
       "      <td>7908370</td>\n",
       "      <td>2498280</td>\n",
       "      <td>3747.0</td>\n",
       "      <td>188000.0</td>\n",
       "      <td>624.0</td>\n",
       "      <td>[None]</td>\n",
       "      <td>[11242, 205245, 2474, 11056, 72354]</td>\n",
       "    </tr>\n",
       "    <tr>\n",
       "      <th>9</th>\n",
       "      <td>886396</td>\n",
       "      <td>863177</td>\n",
       "      <td>155304.0</td>\n",
       "      <td>151000.0</td>\n",
       "      <td>550.0</td>\n",
       "      <td>[70155]</td>\n",
       "      <td>[70618, 70625, 43212, 117167, 112283]</td>\n",
       "    </tr>\n",
       "  </tbody>\n",
       "</table>\n",
       "</div>"
      ],
      "text/plain": [
       "   playlist_id  track_id  artist_id  duration  playcount     album  \\\n",
       "0      3271849   2801526   325531.0  157000.0     1086.0  [149604]   \n",
       "1      5616275    727878   442798.0  249000.0     1498.0  [205572]   \n",
       "5      5270369   2821391        NaN       NaN        NaN       NaN   \n",
       "7      7908370   2498280     3747.0  188000.0      624.0    [None]   \n",
       "9       886396    863177   155304.0  151000.0      550.0   [70155]   \n",
       "\n",
       "                                      tags  \n",
       "0   [3982, 170251, 189631, 237215, 237214]  \n",
       "1  [115752, 115355, 11056, 191177, 117800]  \n",
       "5                                      NaN  \n",
       "7      [11242, 205245, 2474, 11056, 72354]  \n",
       "9    [70618, 70625, 43212, 117167, 112283]  "
      ]
     },
     "execution_count": 9,
     "metadata": {},
     "output_type": "execute_result"
    }
   ],
   "source": [
    "combined.head(5)"
   ]
  },
  {
   "cell_type": "code",
   "execution_count": 10,
   "metadata": {
    "collapsed": true
   },
   "outputs": [],
   "source": [
    "combined = combined[-combined['playcount'].apply(np.isnan)]\n"
   ]
  },
  {
   "cell_type": "code",
   "execution_count": 11,
   "metadata": {},
   "outputs": [
    {
     "data": {
      "text/html": [
       "<div>\n",
       "<style>\n",
       "    .dataframe thead tr:only-child th {\n",
       "        text-align: right;\n",
       "    }\n",
       "\n",
       "    .dataframe thead th {\n",
       "        text-align: left;\n",
       "    }\n",
       "\n",
       "    .dataframe tbody tr th {\n",
       "        vertical-align: top;\n",
       "    }\n",
       "</style>\n",
       "<table border=\"1\" class=\"dataframe\">\n",
       "  <thead>\n",
       "    <tr style=\"text-align: right;\">\n",
       "      <th></th>\n",
       "      <th>playlist_id</th>\n",
       "      <th>track_id</th>\n",
       "      <th>artist_id</th>\n",
       "      <th>duration</th>\n",
       "      <th>playcount</th>\n",
       "      <th>album</th>\n",
       "      <th>tags</th>\n",
       "    </tr>\n",
       "  </thead>\n",
       "  <tbody>\n",
       "    <tr>\n",
       "      <th>0</th>\n",
       "      <td>3271849</td>\n",
       "      <td>2801526</td>\n",
       "      <td>325531.0</td>\n",
       "      <td>157000.0</td>\n",
       "      <td>1086.0</td>\n",
       "      <td>[149604]</td>\n",
       "      <td>[3982, 170251, 189631, 237215, 237214]</td>\n",
       "    </tr>\n",
       "    <tr>\n",
       "      <th>1</th>\n",
       "      <td>5616275</td>\n",
       "      <td>727878</td>\n",
       "      <td>442798.0</td>\n",
       "      <td>249000.0</td>\n",
       "      <td>1498.0</td>\n",
       "      <td>[205572]</td>\n",
       "      <td>[115752, 115355, 11056, 191177, 117800]</td>\n",
       "    </tr>\n",
       "    <tr>\n",
       "      <th>7</th>\n",
       "      <td>7908370</td>\n",
       "      <td>2498280</td>\n",
       "      <td>3747.0</td>\n",
       "      <td>188000.0</td>\n",
       "      <td>624.0</td>\n",
       "      <td>[None]</td>\n",
       "      <td>[11242, 205245, 2474, 11056, 72354]</td>\n",
       "    </tr>\n",
       "    <tr>\n",
       "      <th>9</th>\n",
       "      <td>886396</td>\n",
       "      <td>863177</td>\n",
       "      <td>155304.0</td>\n",
       "      <td>151000.0</td>\n",
       "      <td>550.0</td>\n",
       "      <td>[70155]</td>\n",
       "      <td>[70618, 70625, 43212, 117167, 112283]</td>\n",
       "    </tr>\n",
       "    <tr>\n",
       "      <th>10</th>\n",
       "      <td>5758965</td>\n",
       "      <td>676462</td>\n",
       "      <td>286103.0</td>\n",
       "      <td>377000.0</td>\n",
       "      <td>2977.0</td>\n",
       "      <td>[131776]</td>\n",
       "      <td>[255208, 70618, 64978, 43212, 70625]</td>\n",
       "    </tr>\n",
       "  </tbody>\n",
       "</table>\n",
       "</div>"
      ],
      "text/plain": [
       "    playlist_id  track_id  artist_id  duration  playcount     album  \\\n",
       "0       3271849   2801526   325531.0  157000.0     1086.0  [149604]   \n",
       "1       5616275    727878   442798.0  249000.0     1498.0  [205572]   \n",
       "7       7908370   2498280     3747.0  188000.0      624.0    [None]   \n",
       "9        886396    863177   155304.0  151000.0      550.0   [70155]   \n",
       "10      5758965    676462   286103.0  377000.0     2977.0  [131776]   \n",
       "\n",
       "                                       tags  \n",
       "0    [3982, 170251, 189631, 237215, 237214]  \n",
       "1   [115752, 115355, 11056, 191177, 117800]  \n",
       "7       [11242, 205245, 2474, 11056, 72354]  \n",
       "9     [70618, 70625, 43212, 117167, 112283]  \n",
       "10     [255208, 70618, 64978, 43212, 70625]  "
      ]
     },
     "execution_count": 11,
     "metadata": {},
     "output_type": "execute_result"
    }
   ],
   "source": [
    "combined.head(5)"
   ]
  },
  {
   "cell_type": "code",
   "execution_count": 12,
   "metadata": {
    "collapsed": true
   },
   "outputs": [],
   "source": [
    "combined['tags'] = [v[1:-1].split(',') for v in combined['tags']]"
   ]
  },
  {
   "cell_type": "code",
   "execution_count": 13,
   "metadata": {
    "collapsed": true
   },
   "outputs": [],
   "source": [
    "playlistList = combined['playlist_id']\n",
    "itemList = combined['track_id']\n",
    "playcount = combined['playcount']\n",
    "tagList = combined['tags']\n"
   ]
  },
  {
   "cell_type": "code",
   "execution_count": 14,
   "metadata": {
    "collapsed": true
   },
   "outputs": [],
   "source": [
    "playlists_final.head(10)\n",
    "#add owner to combined datat\n",
    "combined = combined.merge(playlists_final.drop(playlists_final.columns[[0, 2, 3, 4]], axis=1), left_on = 'playlist_id', right_on = 'playlist_id', how = 'left')"
   ]
  },
  {
   "cell_type": "code",
   "execution_count": 15,
   "metadata": {
    "scrolled": true
   },
   "outputs": [
    {
     "data": {
      "text/html": [
       "<div>\n",
       "<style>\n",
       "    .dataframe thead tr:only-child th {\n",
       "        text-align: right;\n",
       "    }\n",
       "\n",
       "    .dataframe thead th {\n",
       "        text-align: left;\n",
       "    }\n",
       "\n",
       "    .dataframe tbody tr th {\n",
       "        vertical-align: top;\n",
       "    }\n",
       "</style>\n",
       "<table border=\"1\" class=\"dataframe\">\n",
       "  <thead>\n",
       "    <tr style=\"text-align: right;\">\n",
       "      <th></th>\n",
       "      <th>playlist_id</th>\n",
       "      <th>track_id</th>\n",
       "      <th>artist_id</th>\n",
       "      <th>duration</th>\n",
       "      <th>playcount</th>\n",
       "      <th>album</th>\n",
       "      <th>tags</th>\n",
       "      <th>owner</th>\n",
       "    </tr>\n",
       "  </thead>\n",
       "  <tbody>\n",
       "    <tr>\n",
       "      <th>0</th>\n",
       "      <td>3271849</td>\n",
       "      <td>2801526</td>\n",
       "      <td>325531.0</td>\n",
       "      <td>157000.0</td>\n",
       "      <td>1086.0</td>\n",
       "      <td>[149604]</td>\n",
       "      <td>[3982,  170251,  189631,  237215,  237214]</td>\n",
       "      <td>44122</td>\n",
       "    </tr>\n",
       "    <tr>\n",
       "      <th>1</th>\n",
       "      <td>5616275</td>\n",
       "      <td>727878</td>\n",
       "      <td>442798.0</td>\n",
       "      <td>249000.0</td>\n",
       "      <td>1498.0</td>\n",
       "      <td>[205572]</td>\n",
       "      <td>[115752,  115355,  11056,  191177,  117800]</td>\n",
       "      <td>3725</td>\n",
       "    </tr>\n",
       "    <tr>\n",
       "      <th>2</th>\n",
       "      <td>7908370</td>\n",
       "      <td>2498280</td>\n",
       "      <td>3747.0</td>\n",
       "      <td>188000.0</td>\n",
       "      <td>624.0</td>\n",
       "      <td>[None]</td>\n",
       "      <td>[11242,  205245,  2474,  11056,  72354]</td>\n",
       "      <td>40373</td>\n",
       "    </tr>\n",
       "    <tr>\n",
       "      <th>3</th>\n",
       "      <td>886396</td>\n",
       "      <td>863177</td>\n",
       "      <td>155304.0</td>\n",
       "      <td>151000.0</td>\n",
       "      <td>550.0</td>\n",
       "      <td>[70155]</td>\n",
       "      <td>[70618,  70625,  43212,  117167,  112283]</td>\n",
       "      <td>27265</td>\n",
       "    </tr>\n",
       "    <tr>\n",
       "      <th>4</th>\n",
       "      <td>5758965</td>\n",
       "      <td>676462</td>\n",
       "      <td>286103.0</td>\n",
       "      <td>377000.0</td>\n",
       "      <td>2977.0</td>\n",
       "      <td>[131776]</td>\n",
       "      <td>[255208,  70618,  64978,  43212,  70625]</td>\n",
       "      <td>40640</td>\n",
       "    </tr>\n",
       "  </tbody>\n",
       "</table>\n",
       "</div>"
      ],
      "text/plain": [
       "   playlist_id  track_id  artist_id  duration  playcount     album  \\\n",
       "0      3271849   2801526   325531.0  157000.0     1086.0  [149604]   \n",
       "1      5616275    727878   442798.0  249000.0     1498.0  [205572]   \n",
       "2      7908370   2498280     3747.0  188000.0      624.0    [None]   \n",
       "3       886396    863177   155304.0  151000.0      550.0   [70155]   \n",
       "4      5758965    676462   286103.0  377000.0     2977.0  [131776]   \n",
       "\n",
       "                                          tags  owner  \n",
       "0   [3982,  170251,  189631,  237215,  237214]  44122  \n",
       "1  [115752,  115355,  11056,  191177,  117800]   3725  \n",
       "2      [11242,  205245,  2474,  11056,  72354]  40373  \n",
       "3    [70618,  70625,  43212,  117167,  112283]  27265  \n",
       "4     [255208,  70618,  64978,  43212,  70625]  40640  "
      ]
     },
     "execution_count": 15,
     "metadata": {},
     "output_type": "execute_result"
    }
   ],
   "source": [
    "combined.head(5)"
   ]
  },
  {
   "cell_type": "code",
   "execution_count": 16,
   "metadata": {
    "collapsed": true
   },
   "outputs": [],
   "source": [
    "track_playlist_is_model = Recommenders.item_similarity_recommender_py()\n",
    "track_user_is_model =  Recommenders.item_similarity_recommender_py()"
   ]
  },
  {
   "cell_type": "code",
   "execution_count": 17,
   "metadata": {
    "collapsed": true
   },
   "outputs": [],
   "source": [
    "track_playlist_is_model.create(combined, 'playlist_id', 'track_id')"
   ]
  },
  {
   "cell_type": "code",
   "execution_count": 18,
   "metadata": {},
   "outputs": [
    {
     "data": {
      "text/plain": [
       "41228"
      ]
     },
     "execution_count": 18,
     "metadata": {},
     "output_type": "execute_result"
    }
   ],
   "source": [
    "playlists = playlistList.unique()\n",
    "len(playlists)"
   ]
  },
  {
   "cell_type": "code",
   "execution_count": 19,
   "metadata": {},
   "outputs": [
    {
     "data": {
      "text/plain": [
       "31436"
      ]
     },
     "execution_count": 19,
     "metadata": {},
     "output_type": "execute_result"
    }
   ],
   "source": [
    "tracksList = itemList\n",
    "tracks = tracksList.unique()\n",
    "len(tracks)"
   ]
  },
  {
   "cell_type": "code",
   "execution_count": 20,
   "metadata": {},
   "outputs": [
    {
     "data": {
      "text/plain": [
       "41228"
      ]
     },
     "execution_count": 20,
     "metadata": {},
     "output_type": "execute_result"
    }
   ],
   "source": [
    "playlist_id = playlists[5]\n",
    "playlist_items = track_playlist_is_model.get_user_items(playlist_id)\n",
    "len(playlists)"
   ]
  },
  {
   "cell_type": "code",
   "execution_count": 67,
   "metadata": {},
   "outputs": [
    {
     "data": {
      "text/plain": [
       "22"
      ]
     },
     "execution_count": 67,
     "metadata": {},
     "output_type": "execute_result"
    }
   ],
   "source": [
    "\n",
    "submission_csv = open('submissions.csv'.format('csv'), 'w')\n",
    "submission_csv.write('playlist_id,track_ids\\n')\n"
   ]
  },
  {
   "cell_type": "code",
   "execution_count": 74,
   "metadata": {},
   "outputs": [
    {
     "name": "stdout",
     "output_type": "stream",
     "text": [
      "No. of unique songs for the user: 32\n",
      "no. of unique songs in the training set: 31436\n",
      "Non zero values in cooccurence_matrix :37503\n"
     ]
    }
   ],
   "source": [
    "for pl_id in target_playlists.values:\n",
    "    submission_csv.write('{},'.format(pl_id[0]))\n",
    "    recs = track_playlist_is_model.recommend(pl_id[0])\n",
    "    recs = recs.head(5).song\n",
    "    recs = [int(i) for i in recs]\n",
    "    row = ''\n",
    "    for track_id in recs:\n",
    "        row += ' {}'.format(track_id)\n",
    "    row += '\\n'\n",
    "    submission_csv.write(row)\n",
    "    break\n"
   ]
  },
  {
   "cell_type": "code",
   "execution_count": 63,
   "metadata": {},
   "outputs": [],
   "source": [
    "\n"
   ]
  },
  {
   "cell_type": "code",
   "execution_count": null,
   "metadata": {
    "collapsed": true
   },
   "outputs": [],
   "source": [
    "a = track_playlist_is_model.recommend(target_playlists.values[100][0])"
   ]
  }
 ],
 "metadata": {
  "kernelspec": {
   "display_name": "Python 3",
   "language": "python",
   "name": "python3"
  },
  "language_info": {
   "codemirror_mode": {
    "name": "ipython",
    "version": 3
   },
   "file_extension": ".py",
   "mimetype": "text/x-python",
   "name": "python",
   "nbconvert_exporter": "python",
   "pygments_lexer": "ipython3",
   "version": "3.5.2"
  }
 },
 "nbformat": 4,
 "nbformat_minor": 2
}
