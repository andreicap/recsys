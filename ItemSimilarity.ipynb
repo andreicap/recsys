{
 "cells": [
  {
   "cell_type": "markdown",
   "metadata": {},
   "source": [
    "# Item Similarity"
   ]
  },
  {
   "cell_type": "code",
   "execution_count": 2,
   "metadata": {
    "collapsed": true
   },
   "outputs": [],
   "source": [
    "import pandas\n",
    "import pandas as pd\n",
    "import numpy as np\n",
    "\n",
    "from sklearn.externals import joblib\n",
    "from sklearn.model_selection import train_test_split\n",
    "from sklearn.neighbors import NearestNeighbors\n",
    "\n",
    "from scipy.spatial.distance import cosine\n",
    "from scipy.sparse import csr_matrix\n",
    "\n",
    "\n",
    "import time\n",
    "import itemSimilarity as Recommenders\n"
   ]
  },
  {
   "cell_type": "code",
   "execution_count": 3,
   "metadata": {
    "collapsed": true
   },
   "outputs": [],
   "source": [
    "track_playlist_is_model = Recommenders.item_similarity_recommender_py()\n",
    "track_user_is_model =  Recommenders.item_similarity_recommender_py()"
   ]
  },
  {
   "cell_type": "code",
   "execution_count": 4,
   "metadata": {},
   "outputs": [
    {
     "name": "stdout",
     "output_type": "stream",
     "text": [
      "succesful import\n"
     ]
    }
   ],
   "source": [
    "import time\n",
    "import pickle\n",
    "import math\n",
    "import pandas as pd\n",
    "import numpy as np\n",
    "import scipy.sparse\n",
    "from sklearn import preprocessing\n",
    "\n",
    "print(\"succesful import\")"
   ]
  },
  {
   "cell_type": "code",
   "execution_count": 5,
   "metadata": {},
   "outputs": [
    {
     "name": "stdout",
     "output_type": "stream",
     "text": [
      "Successfully read data\n"
     ]
    }
   ],
   "source": [
    "target_playlists = pd.read_csv('datasets/target_playlists.csv', sep='\\t')\n",
    "target_tracks = pd.read_csv('datasets/target_tracks.csv', sep='\\t')\n",
    "tracks_final = pd.read_csv('datasets/tracks_final.csv', sep='\\t')\n",
    "playlists_final = pd.read_csv('datasets/playlists_final.csv', sep='\\t')\n",
    "train_final = pd.read_csv('datasets/train_final.csv', sep='\\t')\n",
    "\n",
    "print('Successfully read data')"
   ]
  },
  {
   "cell_type": "code",
   "execution_count": 6,
   "metadata": {},
   "outputs": [
    {
     "name": "stdout",
     "output_type": "stream",
     "text": [
      "0\n"
     ]
    }
   ],
   "source": [
    "import gc as gc\n",
    "print(gc.collect())\n",
    "\n",
    "def save_sparse_csr(filename,array):\n",
    "    np.savez(filename,data = array.data ,indices=array.indices,\n",
    "             indptr =array.indptr, shape=array.shape )\n",
    "\n",
    "def load_sparse_csr(filename):\n",
    "    loader = np.load(filename)\n",
    "    return csr_matrix((loader['data'], loader['indices'], loader['indptr']),\n",
    "                         shape = loader['shape'])\n"
   ]
  },
  {
   "cell_type": "code",
   "execution_count": 7,
   "metadata": {
    "collapsed": true
   },
   "outputs": [],
   "source": [
    "removed_tracks = tracks_final.query('duration == -1'); \n",
    "tracks_final = tracks_final.query('duration != -1');"
   ]
  },
  {
   "cell_type": "code",
   "execution_count": 8,
   "metadata": {
    "collapsed": true
   },
   "outputs": [],
   "source": [
    "combined = train_final.merge(tracks_final, left_on = 'track_id', right_on = 'track_id', how = 'left')"
   ]
  },
  {
   "cell_type": "code",
   "execution_count": 9,
   "metadata": {
    "collapsed": true
   },
   "outputs": [],
   "source": [
    "combined = combined[combined.track_id.isin(target_tracks.track_id)]"
   ]
  },
  {
   "cell_type": "code",
   "execution_count": 10,
   "metadata": {},
   "outputs": [
    {
     "data": {
      "text/html": [
       "<div>\n",
       "<style>\n",
       "    .dataframe thead tr:only-child th {\n",
       "        text-align: right;\n",
       "    }\n",
       "\n",
       "    .dataframe thead th {\n",
       "        text-align: left;\n",
       "    }\n",
       "\n",
       "    .dataframe tbody tr th {\n",
       "        vertical-align: top;\n",
       "    }\n",
       "</style>\n",
       "<table border=\"1\" class=\"dataframe\">\n",
       "  <thead>\n",
       "    <tr style=\"text-align: right;\">\n",
       "      <th></th>\n",
       "      <th>playlist_id</th>\n",
       "      <th>track_id</th>\n",
       "      <th>artist_id</th>\n",
       "      <th>duration</th>\n",
       "      <th>playcount</th>\n",
       "      <th>album</th>\n",
       "      <th>tags</th>\n",
       "    </tr>\n",
       "  </thead>\n",
       "  <tbody>\n",
       "    <tr>\n",
       "      <th>0</th>\n",
       "      <td>3271849</td>\n",
       "      <td>2801526</td>\n",
       "      <td>325531.0</td>\n",
       "      <td>157000.0</td>\n",
       "      <td>1086.0</td>\n",
       "      <td>[149604]</td>\n",
       "      <td>[3982, 170251, 189631, 237215, 237214]</td>\n",
       "    </tr>\n",
       "    <tr>\n",
       "      <th>1</th>\n",
       "      <td>5616275</td>\n",
       "      <td>727878</td>\n",
       "      <td>442798.0</td>\n",
       "      <td>249000.0</td>\n",
       "      <td>1498.0</td>\n",
       "      <td>[205572]</td>\n",
       "      <td>[115752, 115355, 11056, 191177, 117800]</td>\n",
       "    </tr>\n",
       "    <tr>\n",
       "      <th>5</th>\n",
       "      <td>5270369</td>\n",
       "      <td>2821391</td>\n",
       "      <td>NaN</td>\n",
       "      <td>NaN</td>\n",
       "      <td>NaN</td>\n",
       "      <td>NaN</td>\n",
       "      <td>NaN</td>\n",
       "    </tr>\n",
       "    <tr>\n",
       "      <th>7</th>\n",
       "      <td>7908370</td>\n",
       "      <td>2498280</td>\n",
       "      <td>3747.0</td>\n",
       "      <td>188000.0</td>\n",
       "      <td>624.0</td>\n",
       "      <td>[None]</td>\n",
       "      <td>[11242, 205245, 2474, 11056, 72354]</td>\n",
       "    </tr>\n",
       "    <tr>\n",
       "      <th>9</th>\n",
       "      <td>886396</td>\n",
       "      <td>863177</td>\n",
       "      <td>155304.0</td>\n",
       "      <td>151000.0</td>\n",
       "      <td>550.0</td>\n",
       "      <td>[70155]</td>\n",
       "      <td>[70618, 70625, 43212, 117167, 112283]</td>\n",
       "    </tr>\n",
       "  </tbody>\n",
       "</table>\n",
       "</div>"
      ],
      "text/plain": [
       "   playlist_id  track_id  artist_id  duration  playcount     album  \\\n",
       "0      3271849   2801526   325531.0  157000.0     1086.0  [149604]   \n",
       "1      5616275    727878   442798.0  249000.0     1498.0  [205572]   \n",
       "5      5270369   2821391        NaN       NaN        NaN       NaN   \n",
       "7      7908370   2498280     3747.0  188000.0      624.0    [None]   \n",
       "9       886396    863177   155304.0  151000.0      550.0   [70155]   \n",
       "\n",
       "                                      tags  \n",
       "0   [3982, 170251, 189631, 237215, 237214]  \n",
       "1  [115752, 115355, 11056, 191177, 117800]  \n",
       "5                                      NaN  \n",
       "7      [11242, 205245, 2474, 11056, 72354]  \n",
       "9    [70618, 70625, 43212, 117167, 112283]  "
      ]
     },
     "execution_count": 10,
     "metadata": {},
     "output_type": "execute_result"
    }
   ],
   "source": [
    "combined.head(5)"
   ]
  },
  {
   "cell_type": "code",
   "execution_count": 11,
   "metadata": {
    "collapsed": true
   },
   "outputs": [],
   "source": [
    "combined = combined[-combined['playcount'].apply(np.isnan)]\n"
   ]
  },
  {
   "cell_type": "code",
   "execution_count": 12,
   "metadata": {},
   "outputs": [
    {
     "data": {
      "text/html": [
       "<div>\n",
       "<style>\n",
       "    .dataframe thead tr:only-child th {\n",
       "        text-align: right;\n",
       "    }\n",
       "\n",
       "    .dataframe thead th {\n",
       "        text-align: left;\n",
       "    }\n",
       "\n",
       "    .dataframe tbody tr th {\n",
       "        vertical-align: top;\n",
       "    }\n",
       "</style>\n",
       "<table border=\"1\" class=\"dataframe\">\n",
       "  <thead>\n",
       "    <tr style=\"text-align: right;\">\n",
       "      <th></th>\n",
       "      <th>playlist_id</th>\n",
       "      <th>track_id</th>\n",
       "      <th>artist_id</th>\n",
       "      <th>duration</th>\n",
       "      <th>playcount</th>\n",
       "      <th>album</th>\n",
       "      <th>tags</th>\n",
       "    </tr>\n",
       "  </thead>\n",
       "  <tbody>\n",
       "    <tr>\n",
       "      <th>0</th>\n",
       "      <td>3271849</td>\n",
       "      <td>2801526</td>\n",
       "      <td>325531.0</td>\n",
       "      <td>157000.0</td>\n",
       "      <td>1086.0</td>\n",
       "      <td>[149604]</td>\n",
       "      <td>[3982, 170251, 189631, 237215, 237214]</td>\n",
       "    </tr>\n",
       "    <tr>\n",
       "      <th>1</th>\n",
       "      <td>5616275</td>\n",
       "      <td>727878</td>\n",
       "      <td>442798.0</td>\n",
       "      <td>249000.0</td>\n",
       "      <td>1498.0</td>\n",
       "      <td>[205572]</td>\n",
       "      <td>[115752, 115355, 11056, 191177, 117800]</td>\n",
       "    </tr>\n",
       "    <tr>\n",
       "      <th>7</th>\n",
       "      <td>7908370</td>\n",
       "      <td>2498280</td>\n",
       "      <td>3747.0</td>\n",
       "      <td>188000.0</td>\n",
       "      <td>624.0</td>\n",
       "      <td>[None]</td>\n",
       "      <td>[11242, 205245, 2474, 11056, 72354]</td>\n",
       "    </tr>\n",
       "    <tr>\n",
       "      <th>9</th>\n",
       "      <td>886396</td>\n",
       "      <td>863177</td>\n",
       "      <td>155304.0</td>\n",
       "      <td>151000.0</td>\n",
       "      <td>550.0</td>\n",
       "      <td>[70155]</td>\n",
       "      <td>[70618, 70625, 43212, 117167, 112283]</td>\n",
       "    </tr>\n",
       "    <tr>\n",
       "      <th>10</th>\n",
       "      <td>5758965</td>\n",
       "      <td>676462</td>\n",
       "      <td>286103.0</td>\n",
       "      <td>377000.0</td>\n",
       "      <td>2977.0</td>\n",
       "      <td>[131776]</td>\n",
       "      <td>[255208, 70618, 64978, 43212, 70625]</td>\n",
       "    </tr>\n",
       "  </tbody>\n",
       "</table>\n",
       "</div>"
      ],
      "text/plain": [
       "    playlist_id  track_id  artist_id  duration  playcount     album  \\\n",
       "0       3271849   2801526   325531.0  157000.0     1086.0  [149604]   \n",
       "1       5616275    727878   442798.0  249000.0     1498.0  [205572]   \n",
       "7       7908370   2498280     3747.0  188000.0      624.0    [None]   \n",
       "9        886396    863177   155304.0  151000.0      550.0   [70155]   \n",
       "10      5758965    676462   286103.0  377000.0     2977.0  [131776]   \n",
       "\n",
       "                                       tags  \n",
       "0    [3982, 170251, 189631, 237215, 237214]  \n",
       "1   [115752, 115355, 11056, 191177, 117800]  \n",
       "7       [11242, 205245, 2474, 11056, 72354]  \n",
       "9     [70618, 70625, 43212, 117167, 112283]  \n",
       "10     [255208, 70618, 64978, 43212, 70625]  "
      ]
     },
     "execution_count": 12,
     "metadata": {},
     "output_type": "execute_result"
    }
   ],
   "source": [
    "combined.head(5)"
   ]
  },
  {
   "cell_type": "code",
   "execution_count": 13,
   "metadata": {
    "collapsed": true
   },
   "outputs": [],
   "source": [
    "combined['tags'] = [v[1:-1].split(',') for v in combined['tags']]"
   ]
  },
  {
   "cell_type": "code",
   "execution_count": 14,
   "metadata": {
    "collapsed": true
   },
   "outputs": [],
   "source": [
    "playlistList = combined['playlist_id']\n",
    "itemList = combined['track_id']\n",
    "playcount = combined['playcount']\n",
    "tagList = combined['tags']\n"
   ]
  },
  {
   "cell_type": "code",
   "execution_count": 15,
   "metadata": {
    "collapsed": true
   },
   "outputs": [],
   "source": [
    "playlists_final.head(10)\n",
    "#add owner to combined datat\n",
    "combined = combined.merge(playlists_final.drop(playlists_final.columns[[0, 2, 3, 4]], axis=1), left_on = 'playlist_id', right_on = 'playlist_id', how = 'left')"
   ]
  },
  {
   "cell_type": "code",
   "execution_count": 16,
   "metadata": {
    "scrolled": true
   },
   "outputs": [
    {
     "data": {
      "text/html": [
       "<div>\n",
       "<style>\n",
       "    .dataframe thead tr:only-child th {\n",
       "        text-align: right;\n",
       "    }\n",
       "\n",
       "    .dataframe thead th {\n",
       "        text-align: left;\n",
       "    }\n",
       "\n",
       "    .dataframe tbody tr th {\n",
       "        vertical-align: top;\n",
       "    }\n",
       "</style>\n",
       "<table border=\"1\" class=\"dataframe\">\n",
       "  <thead>\n",
       "    <tr style=\"text-align: right;\">\n",
       "      <th></th>\n",
       "      <th>playlist_id</th>\n",
       "      <th>track_id</th>\n",
       "      <th>artist_id</th>\n",
       "      <th>duration</th>\n",
       "      <th>playcount</th>\n",
       "      <th>album</th>\n",
       "      <th>tags</th>\n",
       "      <th>owner</th>\n",
       "    </tr>\n",
       "  </thead>\n",
       "  <tbody>\n",
       "    <tr>\n",
       "      <th>0</th>\n",
       "      <td>3271849</td>\n",
       "      <td>2801526</td>\n",
       "      <td>325531.0</td>\n",
       "      <td>157000.0</td>\n",
       "      <td>1086.0</td>\n",
       "      <td>[149604]</td>\n",
       "      <td>[3982,  170251,  189631,  237215,  237214]</td>\n",
       "      <td>44122</td>\n",
       "    </tr>\n",
       "    <tr>\n",
       "      <th>1</th>\n",
       "      <td>5616275</td>\n",
       "      <td>727878</td>\n",
       "      <td>442798.0</td>\n",
       "      <td>249000.0</td>\n",
       "      <td>1498.0</td>\n",
       "      <td>[205572]</td>\n",
       "      <td>[115752,  115355,  11056,  191177,  117800]</td>\n",
       "      <td>3725</td>\n",
       "    </tr>\n",
       "    <tr>\n",
       "      <th>2</th>\n",
       "      <td>7908370</td>\n",
       "      <td>2498280</td>\n",
       "      <td>3747.0</td>\n",
       "      <td>188000.0</td>\n",
       "      <td>624.0</td>\n",
       "      <td>[None]</td>\n",
       "      <td>[11242,  205245,  2474,  11056,  72354]</td>\n",
       "      <td>40373</td>\n",
       "    </tr>\n",
       "    <tr>\n",
       "      <th>3</th>\n",
       "      <td>886396</td>\n",
       "      <td>863177</td>\n",
       "      <td>155304.0</td>\n",
       "      <td>151000.0</td>\n",
       "      <td>550.0</td>\n",
       "      <td>[70155]</td>\n",
       "      <td>[70618,  70625,  43212,  117167,  112283]</td>\n",
       "      <td>27265</td>\n",
       "    </tr>\n",
       "    <tr>\n",
       "      <th>4</th>\n",
       "      <td>5758965</td>\n",
       "      <td>676462</td>\n",
       "      <td>286103.0</td>\n",
       "      <td>377000.0</td>\n",
       "      <td>2977.0</td>\n",
       "      <td>[131776]</td>\n",
       "      <td>[255208,  70618,  64978,  43212,  70625]</td>\n",
       "      <td>40640</td>\n",
       "    </tr>\n",
       "  </tbody>\n",
       "</table>\n",
       "</div>"
      ],
      "text/plain": [
       "   playlist_id  track_id  artist_id  duration  playcount     album  \\\n",
       "0      3271849   2801526   325531.0  157000.0     1086.0  [149604]   \n",
       "1      5616275    727878   442798.0  249000.0     1498.0  [205572]   \n",
       "2      7908370   2498280     3747.0  188000.0      624.0    [None]   \n",
       "3       886396    863177   155304.0  151000.0      550.0   [70155]   \n",
       "4      5758965    676462   286103.0  377000.0     2977.0  [131776]   \n",
       "\n",
       "                                          tags  owner  \n",
       "0   [3982,  170251,  189631,  237215,  237214]  44122  \n",
       "1  [115752,  115355,  11056,  191177,  117800]   3725  \n",
       "2      [11242,  205245,  2474,  11056,  72354]  40373  \n",
       "3    [70618,  70625,  43212,  117167,  112283]  27265  \n",
       "4     [255208,  70618,  64978,  43212,  70625]  40640  "
      ]
     },
     "execution_count": 16,
     "metadata": {},
     "output_type": "execute_result"
    }
   ],
   "source": [
    "combined.head(5)"
   ]
  },
  {
   "cell_type": "code",
   "execution_count": 17,
   "metadata": {
    "collapsed": true
   },
   "outputs": [],
   "source": [
    "track_playlist_is_model = Recommenders.item_similarity_recommender_py()\n",
    "track_user_is_model =  Recommenders.item_similarity_recommender_py()"
   ]
  },
  {
   "cell_type": "code",
   "execution_count": 18,
   "metadata": {
    "collapsed": true
   },
   "outputs": [],
   "source": [
    "track_playlist_is_model.create(combined, 'playlist_id', 'track_id')"
   ]
  },
  {
   "cell_type": "code",
   "execution_count": 19,
   "metadata": {},
   "outputs": [
    {
     "data": {
      "text/plain": [
       "41228"
      ]
     },
     "execution_count": 19,
     "metadata": {},
     "output_type": "execute_result"
    }
   ],
   "source": [
    "playlists = playlistList.unique()\n",
    "len(playlists)"
   ]
  },
  {
   "cell_type": "code",
   "execution_count": 20,
   "metadata": {},
   "outputs": [
    {
     "data": {
      "text/plain": [
       "31436"
      ]
     },
     "execution_count": 20,
     "metadata": {},
     "output_type": "execute_result"
    }
   ],
   "source": [
    "tracksList = itemList\n",
    "tracks = tracksList.unique()\n",
    "len(tracks)"
   ]
  },
  {
   "cell_type": "code",
   "execution_count": 21,
   "metadata": {},
   "outputs": [
    {
     "data": {
      "text/plain": [
       "41228"
      ]
     },
     "execution_count": 21,
     "metadata": {},
     "output_type": "execute_result"
    }
   ],
   "source": [
    "playlist_id = playlists[5]\n",
    "playlist_items = track_playlist_is_model.get_user_items(playlist_id)\n",
    "len(playlists)"
   ]
  },
  {
   "cell_type": "code",
   "execution_count": null,
   "metadata": {},
   "outputs": [
    {
     "name": "stdout",
     "output_type": "stream",
     "text": [
<<<<<<< HEAD
      "6565499\n"
=======
      "done - 0\n"
>>>>>>> 2946b547fa0a585e2cfdb845e4dd7a22b016a5a1
     ]
    }
   ],
   "source": [
<<<<<<< HEAD
    "for i in range (685, 5000):\n",
    "    print(target_playlists.values[i][0])\n",
    "    break"
=======
    "submissions = []\n",
    "i = 0\n",
    "recs = []\n",
    "row = []\n",
    "\n",
    "for p in range (5000, 10000):\n",
    "    try:\n",
    "        pl_id = target_playlists.values[p]\n",
    "        row = '{},'.format(pl_id[0])\n",
    "        recs = track_playlist_is_model.recommend(pl_id[0])\n",
    "        recs = recs.head(5).song\n",
    "\n",
    "        recs = [int(i) for i in recs]\n",
    "        for track_id in recs:\n",
    "            row += ' {}'.format(track_id)\n",
    "        row += '\\n'\n",
    "        submissions.append(row)\n",
    "    except:\n",
    "        pass\n",
    "    if i%5==0:\n",
    "        try:\n",
    "            print(submissions[-1])\n",
    "        except:\n",
    "            pass     \n",
    "        print('done - {}'.format(i))  \n",
    "    i+=1"
>>>>>>> 2946b547fa0a585e2cfdb845e4dd7a22b016a5a1
   ]
  },
  {
   "cell_type": "code",
   "execution_count": 22,
   "metadata": {},
<<<<<<< HEAD
   "outputs": [
    {
     "name": "stdout",
     "output_type": "stream",
     "text": [
      "6565499, 3053369 712283 2967871 3550778 2460527\n",
      "\n",
      "done - 0\n",
      "8679406, 1321053 3211593 3679249 2949623 2730084\n",
      "\n",
      "done - 5\n",
      "6674964, 1325593 2464176 99157 2147887 4733003\n",
      "\n",
      "done - 10\n",
      "5682741, 2803834 2584680 2820770 315461 3071645\n",
      "\n",
      "done - 15\n",
      "10398106, 3481218 130827 1209718 1094884 2750825\n",
      "\n",
      "done - 20\n",
      "6824028, 1815838 1881438 3638206 3193037 2330306\n",
      "\n",
      "done - 25\n",
      "5869556, 3405 135748 320234 2146580 3624767\n",
      "\n",
      "done - 30\n",
      "7770673, 3801170 2163467 4442550 1990289 1700032\n",
      "\n",
      "done - 35\n",
      "8469697, 1964864 1816337 1161576 2920551 2692619\n",
      "\n",
      "done - 40\n",
      "6530814, 1827398 1668459 1259687 1435554 820165\n",
      "\n",
      "done - 45\n",
      "7128204, 3093188 951097 440150 357216 1223921\n",
      "\n",
      "done - 50\n",
      "7168213, 2190338 49045 3875964 3074646 2277774\n",
      "\n",
      "done - 55\n",
      "7282487, 1807310 2967714 3803678 183353 3542379\n",
      "\n",
      "done - 60\n",
      "5155209, 47331 2897521 2989670 1668729 2199955\n",
      "\n",
      "done - 65\n",
      "2133288, 686664 722520 2761544 2612484 86518\n",
      "\n",
      "done - 70\n",
      "6235949, 3552555 1241677 475520 3117842 1991735\n",
      "\n",
      "done - 75\n",
      "10657108, 3414387 1547224 1813752 3102246 1920333\n",
      "\n",
      "done - 80\n",
      "5610508, 2329106 1926637 1805611 2795970 3296456\n",
      "\n",
      "done - 85\n",
      "7542196, 1824364 1621191 1428106 1688652 2799770\n",
      "\n",
      "done - 90\n",
      "6466341, 1173128 2800306 1857156 3534205 1832341\n",
      "\n",
      "done - 95\n",
      "3637610, 226759 2265491 3783264 3127479 137945\n",
      "\n",
      "done - 100\n",
      "6009345, 606605 1187606 2834148 703663 1659523\n",
      "\n",
      "done - 105\n",
      "5269274, 3863544 2587499 2302904 2393702 2212281\n",
      "\n",
      "done - 110\n",
      "6322275, 4733003 723392 3057494 731534 3375402\n",
      "\n",
      "done - 115\n",
      "8494093, 1945842 2695612 1297529 187574 1193578\n",
      "\n",
      "done - 120\n",
      "10962970, 22550 1321053 3679249 185169 662501\n",
      "\n",
      "done - 125\n",
      "6003690, 2637110 1503917 491008 3147598 3166665\n",
      "\n",
      "done - 130\n",
      "10797303, 1874623 861210 1289700 1671988 3861322\n",
      "\n",
      "done - 135\n",
      "3753328, 968654 1065480 3173860 2801390 3361599\n",
      "\n",
      "done - 140\n",
      "6603392, 1136419 567926 729062 2787866 2679688\n",
      "\n",
      "done - 145\n",
      "935383, 2732418 1735519 3235998 3124586 706619\n",
      "\n",
      "done - 150\n",
      "8350810, 2932409 1121299 3603230 1294920 1707977\n",
      "\n",
      "done - 155\n",
      "3927159, 3450796 1689907 2213456 2053306 489397\n",
      "\n",
      "done - 160\n",
      "2441686, 443407 2594453 2531068 206081 3368450\n",
      "\n",
      "done - 165\n",
      "10150988, 2141811 1558660 969969 1040171 2398985\n",
      "\n",
      "done - 170\n",
      "4639524, 2409930 850399 7217 1767659 2450172\n",
      "\n",
      "done - 175\n",
      "8965216, 1617784 3557198 944675 3784247 3885264\n",
      "\n",
      "done - 180\n",
      "7697348, 2396563 3532483 453673 3496069 904378\n",
      "\n",
      "done - 185\n",
      "8216278, 2883137 459966 3666035 683614 2361623\n",
      "\n",
      "done - 190\n",
      "8737375, 3358703 1528634 3782567 3743091 2944487\n",
      "\n",
      "done - 195\n",
      "3919713, 3218721 2322826 2301504 1198639 2542910\n",
      "\n",
      "done - 200\n",
      "10619478, 3459831 1646674 1498486 2705061 188271\n",
      "\n",
      "done - 205\n",
      "5427567, 2247131 2163595 2009238 432067 3459300\n",
      "\n",
      "done - 210\n",
      "907612, 3879846 374330 3585823 2185590 2834772\n",
      "\n",
      "done - 215\n",
      "8153152, 3621721 1361996 2839253 3690587 2821505\n",
      "\n",
      "done - 220\n",
      "39529, 3862221 171498 2814313 307771 3588773\n",
      "\n",
      "done - 225\n",
      "2158156, 3826915 2159342 2214012 1321456 3863551\n",
      "\n",
      "done - 230\n",
      "1712875, 184737 3778293 3621084 1373077 1482828\n",
      "\n",
      "done - 235\n",
      "10879093, 2840855 2221948 1580480 3187360 2999747\n",
      "\n",
      "done - 240\n",
      "6366953, 543730 524972 2203596 3636918 478553\n",
      "\n",
      "done - 245\n",
      "10449160, 3481281 3679249 462738 3526178 94083\n",
      "\n",
      "done - 250\n",
      "10597834, 2023548 1587538 2827378 1566807 1851001\n",
      "\n",
      "done - 255\n",
      "3370315, 1206974 2433268 1349120 1127506 427678\n",
      "\n",
      "done - 260\n"
     ]
    },
    {
     "name": "stderr",
     "output_type": "stream",
     "text": [
      "/home/ubuntu/recsys/itemSimilarity.py:85: RuntimeWarning: invalid value encountered in true_divide\n",
      "  user_sim_scores = cooccurence_matrix.sum(axis=0)/float(cooccurence_matrix.shape[0])\n"
     ]
    },
    {
     "name": "stdout",
     "output_type": "stream",
     "text": [
      "2945090, 1173778 329058 374583 3692039 2349016\n",
      "\n",
      "done - 265\n",
      "8502324, 1517504 2493000 726853 1434261 212269\n",
      "\n",
      "done - 270\n",
      "11127382, 1615206 3705881 1209729 3057494 2715138\n",
      "\n",
      "done - 275\n",
      "10114319, 1807310 3803678 1156359 1813360 183353\n",
      "\n",
      "done - 280\n",
      "4797746, 3693833 219947 1873672 3357328 2487988\n",
      "\n",
      "done - 285\n",
      "10121723, 1174456 325804 1102888 2985464 132621\n",
      "\n",
      "done - 290\n",
      "8978329, 3679249 2950530 2840855 3481281 3876951\n",
      "\n",
      "done - 295\n",
      "10516709, 1113993 3251657 1916470 109056 3050801\n",
      "\n",
      "done - 300\n",
      "11047787, 1185697 3192041 826501 3776672 3007592\n",
      "\n",
      "done - 305\n",
      "6037165, 503853 1181285 2367829 1158818 166355\n",
      "\n",
      "done - 310\n",
      "7506067, 335116 1871380 2812452 2086791 222988\n",
      "\n",
      "done - 315\n",
      "10993194, 3534182 1070352 1896558 3197875 209196\n",
      "\n",
      "done - 320\n",
      "8375176, 2338943 2807456 258342 1655062 3333139\n",
      "\n",
      "done - 325\n",
      "6381404, 2863952 1075093 346147 543282 2690153\n",
      "\n",
      "done - 330\n",
      "11728060, 3856862 1281245 3863551 3826915 2607899\n",
      "\n",
      "done - 335\n",
      "2939668, 3566671 2671399 3469807 2828094 3470393\n",
      "\n",
      "done - 340\n",
      "5115256, 2046424 725946 1701987 815033 1042184\n",
      "\n",
      "done - 345\n",
      "11477544, 2741789 222478 159953 3481281 477570\n",
      "\n",
      "done - 350\n",
      "247462, 3876951 185169 540211 2762459 1075325\n",
      "\n",
      "done - 355\n",
      "8356745, 2874346 573442 455821 106982 844622\n",
      "\n",
      "done - 360\n",
      "11063078, 2679688 1136419 1375071 2894765 729062\n",
      "\n",
      "done - 365\n",
      "6557783, 338400 3214500 453359 3668470 265042\n",
      "\n",
      "done - 370\n",
      "3931479, 3373378 1181241 2087110 2788000 840796\n",
      "\n",
      "done - 375\n",
      "8561498, 636228 810877 193318 392274 824198\n",
      "\n",
      "done - 380\n",
      "10267863, 2947303 463286 1942904 2492996 3821070\n",
      "\n",
      "done - 385\n",
      "6803667, 3361981 1477388 809205 205651 464385\n",
      "\n",
      "done - 390\n",
      "656053, 2537070 1610085 2735522 2770492 3365533\n",
      "\n",
      "done - 395\n",
      "3404184, 3690005 1563309 1839528 415173 2524197\n",
      "\n",
      "done - 400\n",
      "6108279, 1595978 2158999 1390500 3091338 2378010\n",
      "\n",
      "done - 405\n",
      "862794, 540211 2209079 157469 1381678 2268852\n",
      "\n",
      "done - 410\n"
     ]
    }
   ],
   "source": [
    "from contextlib import suppress\n",
=======
   "outputs": [],
   "source": [
    "from multiprocessing import Pool\n",
>>>>>>> 2946b547fa0a585e2cfdb845e4dd7a22b016a5a1
    "\n",
    "submissions = []\n",
    "i = 0\n",
    "recs = []\n",
    "row = []\n",
    "\n",
<<<<<<< HEAD
    "with open('submissions.csv'.format('csv'), 'w') as submission_csv:\n",
    "    submission_csv.write('playlist_id,track_ids\\n')\n",
    "    for p in range (685, 5000):\n",
    "        try:\n",
    "            pl_id = target_playlists.values[p]\n",
    "            row = '{},'.format(pl_id[0])\n",
    "            recs = track_playlist_is_model.recommend(pl_id[0])\n",
    "            recs = recs.head(5).song\n",
    "\n",
    "            recs = [int(i) for i in recs]\n",
    "            for track_id in recs:\n",
    "                row += ' {}'.format(track_id)\n",
    "            row += '\\n'\n",
    "            submissions.append(row)\n",
    "            a = submission_csv.write(row)\n",
    "        except:\n",
    "            pass\n",
    "\n",
    "        if i%5==0:\n",
    "            try:\n",
    "                print (submissions[-1])\n",
    "            except:\n",
    "                pass     \n",
    "            print('done - {}'.format(i))  \n",
    "        i+=1"
=======
    "def process_submission(playlist):\n",
    "    try:\n",
    "        pl_id = playlist[0]\n",
    "        row = '{},'.format(pl_id[0])\n",
    "        recs = track_playlist_is_model.recommend(pl_id[0])\n",
    "        recs = recs.head(5).song\n",
    "\n",
    "        recs = [int(i) for i in recs]\n",
    "        for track_id in recs:\n",
    "            row += ' {}'.format(track_id)\n",
    "        row += '\\n'\n",
    "        submissions.append(row)\n",
    "    except:\n",
    "        pass\n",
    "    if i%5==0:\n",
    "        try:\n",
    "            print(submissions[-1])\n",
    "        except:\n",
    "            pass     \n",
    "        print('done - {}'.format(i))  \n",
    "    i+=1\n",
    "    \n",
    "\n",
    "if __name__ == '__main__':\n",
    "    pool = Pool(os.cpu_count())                         # Create a multiprocessing Pool\n",
    "    pool.map(process_submission, data_inputs) "
>>>>>>> 2946b547fa0a585e2cfdb845e4dd7a22b016a5a1
   ]
  },
  {
   "cell_type": "code",
<<<<<<< HEAD
   "execution_count": null,
   "metadata": {
    "collapsed": true
   },
   "outputs": [],
   "source": []
=======
   "execution_count": 23,
   "metadata": {},
   "outputs": [
    {
     "data": {
      "text/plain": [
       "array([[ 5501506],\n",
       "       [ 4982277],\n",
       "       [ 7154616],\n",
       "       ..., \n",
       "       [11369546],\n",
       "       [ 7939535],\n",
       "       [  297021]])"
      ]
     },
     "execution_count": 23,
     "metadata": {},
     "output_type": "execute_result"
    }
   ],
   "source": [
    "target_playlists.values[5000:10000]"
   ]
>>>>>>> 2946b547fa0a585e2cfdb845e4dd7a22b016a5a1
  }
 ],
 "metadata": {
  "kernelspec": {
   "display_name": "Python 3",
   "language": "python",
   "name": "python3"
  },
  "language_info": {
   "codemirror_mode": {
    "name": "ipython",
    "version": 2
   },
   "file_extension": ".py",
   "mimetype": "text/x-python",
   "name": "python",
   "nbconvert_exporter": "python",
   "pygments_lexer": "ipython2",
   "version": "2.7.14"
  }
 },
 "nbformat": 4,
 "nbformat_minor": 2
}
