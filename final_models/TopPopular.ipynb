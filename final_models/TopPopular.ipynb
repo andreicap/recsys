{
 "cells": [
  {
   "cell_type": "code",
   "execution_count": 1,
   "metadata": {
    "collapsed": true
   },
   "outputs": [],
   "source": [
    "import time\n",
    "import pickle\n",
    "import pandas as pd\n",
    "import numpy as np\n",
    "import scipy.sparse"
   ]
  },
  {
   "cell_type": "code",
   "execution_count": 2,
   "metadata": {
    "collapsed": true
   },
   "outputs": [],
   "source": [
    "SUBMISSION = False\n",
    "SUBMISSION_FILENAME = 'submission.csv'\n",
    "TEST_FILENAME = 'test.csv'"
   ]
  },
  {
   "cell_type": "code",
   "execution_count": 3,
   "metadata": {
    "collapsed": false
   },
   "outputs": [
    {
     "name": "stdout",
     "output_type": "stream",
     "text": [
      "Successfully read data\n"
     ]
    }
   ],
   "source": [
    "target_playlists = pd.read_csv('../datasets/target_playlists.csv', sep='\\t')\n",
    "target_tracks = pd.read_csv('../datasets/target_tracks.csv', sep='\\t')\n",
    "tracks_final = pd.read_csv('../datasets/tracks_final.csv', sep='\\t')\n",
    "playlists_final = pd.read_csv('../datasets/playlists_final.csv', sep='\\t')\n",
    "train_final = pd.read_csv('../datasets/train_final.csv', sep='\\t')\n",
    "\n",
    "print('Successfully read data')"
   ]
  },
  {
   "cell_type": "code",
   "execution_count": 4,
   "metadata": {
    "collapsed": false
   },
   "outputs": [
    {
     "name": "stdout",
     "output_type": "stream",
     "text": [
      "target_playlists_and_tracks (362661, 2)\n",
      "   playlist_id  track_id\n",
      "0     10024884   2879006\n",
      "1     10024884   1532328\n",
      "2     10024884   3027673\n",
      "3     10024884   3236144\n",
      "4     10024884   1563134\n",
      "5     10024884    435345\n",
      "6     10024884    353291\n",
      "7     10024884    247331\n",
      "8     10024884    161455\n",
      "9     10024884   3338954\n"
     ]
    }
   ],
   "source": [
    "# Playlist and tracks that belong to them\n",
    "target_playlists_and_tracks = pd.merge(target_playlists, train_final, on='playlist_id')\n",
    "print('target_playlists_and_tracks {}'.format(target_playlists_and_tracks.shape))\n",
    "print(target_playlists_and_tracks.head(10))"
   ]
  },
  {
   "cell_type": "code",
   "execution_count": 5,
   "metadata": {
    "collapsed": false
   },
   "outputs": [
    {
     "name": "stdout",
     "output_type": "stream",
     "text": [
      "training_set: (1010522, 2) validation_set: (30000, 2)\n",
      "   playlist_id  track_id\n",
      "0      3271849   2801526\n",
      "1      5616275    727878\n",
      "2     11267488   2805283\n",
      "3     10103900   1515105\n",
      "4      3836898   2945623\n",
      "training_set: (1010522, 2) validation_set: (30000, 2)\n",
      "   playlist_id  track_id\n",
      "0         7614   2141817\n",
      "1         7614   3833025\n",
      "2         7614   3711434\n",
      "3         7692   2053595\n",
      "4         7692   2172361\n",
      "test_target_tracks: (21958, 1)\n",
      "   track_id\n",
      "0   2141817\n",
      "1   3833025\n",
      "2   3711434\n",
      "3   2053595\n",
      "4   2172361\n"
     ]
    }
   ],
   "source": [
    "def split_training_data(train_final, target_playlists_and_tracks, random_state):\n",
    "    validation_set = target_playlists_and_tracks.groupby(['playlist_id'])\\\n",
    "                        .apply(lambda x: x.sample(n=3, random_state=random_state))\\\n",
    "                        .reset_index(drop=True)\n",
    "    df_concat = pd.concat([train_final, validation_set])\n",
    "    training_set = df_concat.drop_duplicates(keep=False)\n",
    "    return training_set, validation_set\n",
    "\n",
    "# Split dataset - from all target playlists remove randomly 3 tracks\n",
    "training_set, validation_set = split_training_data(train_final, target_playlists_and_tracks, random_state=0)\n",
    "test_target_tracks = validation_set['track_id'].drop_duplicates(keep='first').to_frame()\n",
    "\n",
    "print('training_set: {} validation_set: {}'.format(training_set.shape, validation_set.shape))\n",
    "print(training_set.head(5))\n",
    "print('training_set: {} validation_set: {}'.format(training_set.shape, validation_set.shape))\n",
    "print(validation_set.head(5))\n",
    "print('test_target_tracks: {}'.format(test_target_tracks.shape))\n",
    "print(test_target_tracks.head(5))"
   ]
  },
  {
   "cell_type": "code",
   "execution_count": 6,
   "metadata": {
    "collapsed": false
   },
   "outputs": [],
   "source": [
    "class TopPopularRecommender:\n",
    "    def __init__(self, training_playlists_and_tracks, target_tracks, n):\n",
    "        self.training_playlists_and_tracks = training_playlists_and_tracks\n",
    "\n",
    "        # Count popularity of items in training set\n",
    "        training_playlists_and_tracks['count'] = training_playlists_and_tracks \\\n",
    "                                                    .groupby(['track_id']) \\\n",
    "                                                    .transform('count')\n",
    "        print('training_playlists_and_tracks[\\'count\\'] {}'.format(training_playlists_and_tracks['count'].shape))\n",
    "        print(training_playlists_and_tracks.head(3))\n",
    "        \n",
    "        tracks_with_popularity = training_playlists_and_tracks\\\n",
    "                                    .groupby(['track_id', 'count'])\\\n",
    "                                    .head(1)\\\n",
    "                                    .sort_values('count', ascending=False)\n",
    "        print('tracks_with_popularity {}'.format(tracks_with_popularity.shape))\n",
    "        print(tracks_with_popularity.head(3))\n",
    "        \n",
    "        # Select target items\n",
    "        target_tracks_with_popularity = pd.merge(target_tracks, tracks_with_popularity, on='track_id').groupby('track_id').head(1)\n",
    "        self.target_top_popular_tracks = target_tracks_with_popularity.sort_values('count', ascending=False)        \n",
    "        print('target_top_popular_tracks {}'.format(self.target_top_popular_tracks.shape))\n",
    "        print(self.target_top_popular_tracks.head(3))\n",
    "\n",
    "        self.n = n\n",
    "\n",
    "    def recommend(self, target_playlists):\n",
    "        def make_recommendation(playlist):\n",
    "            # Get all tracks that are on the playlist\n",
    "            tracks_on_playlist = self.training_playlists_and_tracks.loc[\n",
    "                self.training_playlists_and_tracks['playlist_id'] == playlist['playlist_id']]\n",
    "\n",
    "            # Take n + number of playlists from top popular tracks.\n",
    "            # Then remove all duplications so that tracks that are already on playlist are not selected\n",
    "            temp = self.target_top_popular_tracks.head(tracks_on_playlist.shape[0] + self.n)\n",
    "            df_concat = pd.concat([temp, tracks_on_playlist])\n",
    "            top_n = df_concat.drop_duplicates(subset=['track_id', 'count'], keep=False)\n",
    "\n",
    "            playlist['recommendation'] = top_n['track_id'].head(self.n).reset_index(drop=True)\n",
    "            return playlist\n",
    "\n",
    "        recommended_items = target_playlists.apply(lambda playlist: make_recommendation(playlist), axis=1)\n",
    "        return recommended_items"
   ]
  },
  {
   "cell_type": "code",
   "execution_count": 7,
   "metadata": {
    "collapsed": false
   },
   "outputs": [
    {
     "name": "stdout",
     "output_type": "stream",
     "text": [
      "Building model...\n",
      "training_playlists_and_tracks['count'] (1010522,)\n",
      "   playlist_id  track_id  count\n",
      "0      3271849   2801526    140\n",
      "1      5616275    727878     60\n",
      "2     11267488   2805283     10\n",
      "tracks_with_popularity (99992, 3)\n",
      "      playlist_id  track_id  count\n",
      "483       3098690   1563309    458\n",
      "133      10772937   1363985    422\n",
      "1458      5858765   3705881    418\n",
      "target_top_popular_tracks (21951, 3)\n",
      "      track_id  playlist_id  count\n",
      "263    1563309      3098690    458\n",
      "9179   1363985     10772937    422\n",
      "3816   3705881      5858765    418\n",
      "Took 0.64623s\n"
     ]
    }
   ],
   "source": [
    "print('Building model...')\n",
    "begin = time.time()\n",
    "if SUBMISSION:\n",
    "    recommender = TopPopularRecommender(train_final, target_tracks, n=5)\n",
    "else:\n",
    "    recommender = TopPopularRecommender(training_set, test_target_tracks, n=3)\n",
    "print('Took {0:.{digits}f}s'.format(time.time() - begin, digits=5))"
   ]
  },
  {
   "cell_type": "code",
   "execution_count": 8,
   "metadata": {
    "collapsed": false
   },
   "outputs": [
    {
     "name": "stdout",
     "output_type": "stream",
     "text": [
      "Recommending...\n",
      "Took 58.73378s\n",
      "recommended_items (10000, 2)\n",
      "   playlist_id                                     recommendation\n",
      "0     10024884  0    1563309\n",
      "1    1363985\n",
      "2    3705881\n",
      "Name: t...\n",
      "1     10624787  0    1563309\n",
      "1    1363985\n",
      "2    3705881\n",
      "Name: t...\n",
      "2      4891851  0    1563309\n",
      "1    1363985\n",
      "2    3705881\n",
      "Name: t...\n"
     ]
    }
   ],
   "source": [
    "print('Recommending...')\n",
    "begin = time.time()\n",
    "recommended_items = recommender.recommend(target_playlists)\n",
    "print('Took {0:.{digits}f}s'.format(time.time() - begin, digits=5))\n",
    "\n",
    "print('recommended_items {}'.format(recommended_items.shape))\n",
    "print(recommended_items.head(3))"
   ]
  },
  {
   "cell_type": "code",
   "execution_count": 9,
   "metadata": {
    "collapsed": true
   },
   "outputs": [],
   "source": [
    "def is_relevant(recommendation_item, validation_set):\n",
    "    validation_item = validation_set.loc[validation_set['playlist_id'] == recommendation_item['playlist_id']]\n",
    "    recommendation_item['recommendation'] = recommendation_item['recommendation']\\\n",
    "                                                .isin(list(validation_item['track_id']))\n",
    "    return recommendation_item\n",
    "\n",
    "\n",
    "def precision(recommended_items_relevance):\n",
    "    precision_scores = recommended_items_relevance.sum(axis=1) / recommended_items_relevance.shape[1]\n",
    "    return precision_scores.mean()\n",
    "\n",
    "\n",
    "def mAP(recommended_items_relevance):\n",
    "    p_at_k = recommended_items_relevance.cumsum(axis=1) / (1 + np.arange(recommended_items_relevance.shape[1]))\n",
    "    recommended_items_mAP = p_at_k.sum(axis=1) / recommended_items_relevance.shape[1]\n",
    "    return recommended_items_mAP.mean()\n",
    "\n",
    "\n",
    "def evaluate_recommendations(recommended_items, validation_set):\n",
    "    items_relevance = recommended_items.apply(lambda recommendation_item: is_relevant(recommendation_item, validation_set), axis=1)\n",
    "    recommended_items_relevance = pd.DataFrame(list(items_relevance['recommendation']), index=items_relevance['recommendation'].index)\n",
    "    precision_score = precision(recommended_items_relevance)\n",
    "    mAP_score = mAP(recommended_items_relevance)\n",
    "    return precision_score, mAP_score\n",
    "\n",
    "def evaluate(recommended_items, validation_set):\n",
    "    print('Evaluating...')\n",
    "    begin = time.time()\n",
    "    precision_score, mAP_score = evaluate_recommendations(recommended_items, validation_set)\n",
    "    print('Precision: {0:.{digits}f}, mAP: {1:.{digits}f}, took {2:.{digits}f}s'\n",
    "          .format(precision_score, mAP_score, time.time() - begin, digits=5))"
   ]
  },
  {
   "cell_type": "code",
   "execution_count": 10,
   "metadata": {
    "collapsed": false
   },
   "outputs": [
    {
     "name": "stdout",
     "output_type": "stream",
     "text": [
      "Evaluating...\n",
      "Precision: 0.00120, mAP: 0.00148, took 11.52334s\n"
     ]
    }
   ],
   "source": [
    "if not SUBMISSION:\n",
    "    evaluate(recommended_items, validation_set)"
   ]
  },
  {
   "cell_type": "code",
   "execution_count": null,
   "metadata": {
    "collapsed": true
   },
   "outputs": [],
   "source": []
  }
 ],
 "metadata": {
  "anaconda-cloud": {},
  "kernelspec": {
   "display_name": "Python [Root]",
   "language": "python",
   "name": "Python [Root]"
  },
  "language_info": {
   "codemirror_mode": {
    "name": "ipython",
    "version": 3
   },
   "file_extension": ".py",
   "mimetype": "text/x-python",
   "name": "python",
   "nbconvert_exporter": "python",
   "pygments_lexer": "ipython3",
   "version": "3.5.2"
  }
 },
 "nbformat": 4,
 "nbformat_minor": 0
}
