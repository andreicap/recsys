{
 "cells": [
  {
   "cell_type": "code",
   "execution_count": 1,
   "metadata": {
    "collapsed": true
   },
   "outputs": [],
   "source": [
    "import time\n",
    "import pickle\n",
    "import math\n",
    "import pandas as pd\n",
    "import numpy as np\n",
    "import scipy.sparse\n",
    "from sklearn import preprocessing"
   ]
  },
  {
   "cell_type": "code",
   "execution_count": 2,
   "metadata": {
    "collapsed": true
   },
   "outputs": [],
   "source": [
    "SUBMISSION = False\n",
    "SUBMISSION_FILENAME = 'submission.csv'\n",
    "TEST_FILENAME = 'test.csv'"
   ]
  },
  {
   "cell_type": "code",
   "execution_count": 3,
   "metadata": {},
   "outputs": [
    {
     "name": "stdout",
     "output_type": "stream",
     "text": [
      "Successfully read data\n"
     ]
    }
   ],
   "source": [
    "target_playlists = pd.read_csv('../datasets/target_playlists.csv', sep='\\t')\n",
    "target_tracks = pd.read_csv('../datasets/target_tracks.csv', sep='\\t')\n",
    "tracks_final = pd.read_csv('../datasets/tracks_final.csv', sep='\\t')\n",
    "playlists_final = pd.read_csv('../datasets/playlists_final.csv', sep='\\t')\n",
    "train_final = pd.read_csv('../datasets/train_final.csv', sep='\\t')\n",
    "\n",
    "print('Successfully read data')"
   ]
  },
  {
   "cell_type": "code",
   "execution_count": 4,
   "metadata": {
    "collapsed": true
   },
   "outputs": [],
   "source": [
    "def check_matrix(X, format='csc', dtype=np.float32):\n",
    "    if format == 'csc' and not isinstance(X, scipy.sparse.csc_matrix):\n",
    "        return X.tocsc().astype(dtype)\n",
    "    elif format == 'csr' and not isinstance(X, scipy.sparse.csr_matrix):\n",
    "        return X.tocsr().astype(dtype)\n",
    "    elif format == 'coo' and not isinstance(X, scipy.sparse.coo_matrix):\n",
    "        return X.tocoo().astype(dtype)\n",
    "    elif format == 'dok' and not isinstance(X, scipy.sparse.dok_matrix):\n",
    "        return X.todok().astype(dtype)\n",
    "    elif format == 'bsr' and not isinstance(X, scipy.sparse.bsr_matrix):\n",
    "        return X.tobsr().astype(dtype)\n",
    "    elif format == 'dia' and not isinstance(X, scipy.sparse.dia_matrix):\n",
    "        return X.todia().astype(dtype)\n",
    "    elif format == 'lil' and not isinstance(X, scipy.sparse.lil_matrix):\n",
    "        return X.tolil().astype(dtype)\n",
    "    else:\n",
    "        return X.astype(dtype)"
   ]
  },
  {
   "cell_type": "code",
   "execution_count": 5,
   "metadata": {
    "collapsed": true
   },
   "outputs": [],
   "source": [
    "def is_relevant(recommendation_item, validation_set):\n",
    "    validation_item = validation_set.loc[validation_set['playlist_id'] == recommendation_item['playlist_id']]\n",
    "    recommendation_item['recommendation'] = pd.Series(recommendation_item['recommendation'])\\\n",
    "                                                .isin(list(validation_item['track_id']))\n",
    "    return recommendation_item\n",
    "\n",
    "\n",
    "def precision(recommended_items_relevance):\n",
    "    precision_scores = recommended_items_relevance.sum(axis=1) / recommended_items_relevance.shape[1]\n",
    "    return precision_scores.mean()\n",
    "\n",
    "\n",
    "def mAP(recommended_items_relevance):\n",
    "    p_at_k = recommended_items_relevance.cumsum(axis=1) / (1 + np.arange(recommended_items_relevance.shape[1]))\n",
    "    recommended_items_mAP = p_at_k.sum(axis=1) / recommended_items_relevance.shape[1]\n",
    "    return recommended_items_mAP.mean()\n",
    "\n",
    "\n",
    "def evaluate_recommendations(recommended_items, validation_set):\n",
    "    items_relevance = recommended_items.apply(lambda recommendation_item: is_relevant(recommendation_item, validation_set), axis=1)\n",
    "    recommended_items_relevance = pd.DataFrame(list(items_relevance['recommendation']), index=items_relevance['recommendation'].index)\n",
    "    precision_score = precision(recommended_items_relevance)\n",
    "    mAP_score = mAP(recommended_items_relevance)\n",
    "    return precision_score, mAP_score\n",
    "\n",
    "def evaluate(recommended_items, validation_set):\n",
    "    print('Evaluating...')\n",
    "    begin = time.time()\n",
    "    precision_score, mAP_score = evaluate_recommendations(recommended_items, validation_set)\n",
    "    print('Precision: {0:.{digits}f}, mAP: {1:.{digits}f}, took {2:.{digits}f}s'\n",
    "          .format(precision_score, mAP_score, time.time() - begin, digits=5))"
   ]
  },
  {
   "cell_type": "code",
   "execution_count": 6,
   "metadata": {
    "collapsed": true
   },
   "outputs": [],
   "source": [
    "def str_tags_to_list(str_tags):\n",
    "    if str_tags == '[]':\n",
    "        return []\n",
    "    return list(map(int, str_tags.replace('[', '').replace(']', '').replace(' ', '').split(',')))\n",
    "\n",
    "\n",
    "def str_album_to_int(album):\n",
    "    if album == '[]' or album == '[None]':\n",
    "        return -1\n",
    "    return int(album.replace('[', '').replace(']', ''))"
   ]
  },
  {
   "cell_type": "code",
   "execution_count": 7,
   "metadata": {},
   "outputs": [
    {
     "name": "stdout",
     "output_type": "stream",
     "text": [
      "tracks_tags (483501, 3)\n",
      "  track_id     tag  weight\n",
      "0  2972914   54087     2.5\n",
      "1  2972914    1757     2.0\n",
      "2  2972914    1718     1.6\n",
      "3  2972914  116712     1.2\n",
      "4  2972914  189631     1.0\n",
      "0  2750239  189631     2.5\n"
     ]
    }
   ],
   "source": [
    "def get_weight(i):\n",
    "    if i == 0:\n",
    "        return 2.5\n",
    "    if i == 1:\n",
    "        return 2.0\n",
    "    if i == 2:\n",
    "        return 1.6\n",
    "    if i == 3:\n",
    "        return 1.2\n",
    "    if i == 4:\n",
    "        return 1.0\n",
    "\n",
    "def get_tracks_tags(track_final):\n",
    "    track_tags_list = str_tags_to_list(track_final['tags'])\n",
    "    return [[track_final['track_id'], track_tag, get_weight(i)] for i, track_tag in enumerate(track_tags_list)]\n",
    "\n",
    "tracks_tags = pd.concat([pd.DataFrame(data=get_tracks_tags(track_final), columns=['track_id', 'tag', 'weight']) for index, track_final in tracks_final.iterrows()])\n",
    "print('tracks_tags {}'.format(tracks_tags.shape))\n",
    "print(tracks_tags.head(6))"
   ]
  },
  {
   "cell_type": "code",
   "execution_count": 8,
   "metadata": {},
   "outputs": [
    {
     "name": "stdout",
     "output_type": "stream",
     "text": [
      "tracks_albums (73244, 2)\n",
      "   track_id  album\n",
      "0   2972914      7\n",
      "0   2750239      8\n",
      "0   1550729      9\n",
      "0   2169950      9\n",
      "0   2256817      9\n",
      "0   2561768     26\n"
     ]
    }
   ],
   "source": [
    "def get_track_album(track_final):\n",
    "    track_album = str_album_to_int(track_final['album'])\n",
    "    return [[track_final['track_id'], track_album]]\n",
    "\n",
    "tracks_albums = pd.concat([pd.DataFrame(data=get_track_album(track_final), columns=['track_id', 'album']) for index, track_final in tracks_final.iterrows()])\n",
    "# Remove tracks without album\n",
    "tracks_albums = tracks_albums[tracks_albums.album != -1]\n",
    "print('tracks_albums {}'.format(tracks_albums.shape))\n",
    "print(tracks_albums.head(6))"
   ]
  },
  {
   "cell_type": "code",
   "execution_count": 9,
   "metadata": {},
   "outputs": [
    {
     "name": "stdout",
     "output_type": "stream",
     "text": [
      "tracks_artist (100000, 2)\n",
      "   track_id  artist_id\n",
      "0   2972914        144\n",
      "1   2750239        246\n",
      "2   1550729        144\n",
      "3   2169950        144\n",
      "4   1903709        144\n",
      "5   2256817        144\n"
     ]
    }
   ],
   "source": [
    "tracks_artist = pd.DataFrame()\n",
    "tracks_artist['track_id'] = tracks_final['track_id']\n",
    "tracks_artist['artist_id'] = tracks_final['artist_id']\n",
    "print('tracks_artist {}'.format(tracks_artist.shape))\n",
    "print(tracks_artist.head(6))"
   ]
  },
  {
   "cell_type": "code",
   "execution_count": 10,
   "metadata": {},
   "outputs": [
    {
     "name": "stdout",
     "output_type": "stream",
     "text": [
      "Data info:\n",
      "Tracks with album count: 73244\n",
      "Unique album count: 27604\n",
      "\n",
      "Tracks with tags count: 97211\n",
      "Unique tags count: 31900\n",
      "\n",
      "Tracks with artists count: 100000\n",
      "Unique artists count: 17536\n",
      "\n",
      "Unique tracks count: 100000\n",
      "Unique playlist count: 57561\n",
      "Target tracks count: 32195\n",
      "Target playlists count: 10000\n"
     ]
    }
   ],
   "source": [
    "print('Data info:')\n",
    "print('Tracks with album count: {}'.format(tracks_albums['track_id'].nunique()))\n",
    "print('Unique album count: {}\\n'.format(tracks_albums['album'].nunique()))\n",
    "\n",
    "print('Tracks with tags count: {}'.format(tracks_tags['track_id'].nunique()))\n",
    "print('Unique tags count: {}\\n'.format(tracks_tags['tag'].nunique()))\n",
    "\n",
    "print('Tracks with artists count: {}'.format(tracks_artist['track_id'].nunique()))\n",
    "print('Unique artists count: {}\\n'.format(tracks_artist['artist_id'].nunique()))\n",
    "\n",
    "print('Unique tracks count: {}'.format(tracks_final['track_id'].nunique()))\n",
    "print('Unique playlist count: {}'.format(playlists_final['playlist_id'].nunique()))\n",
    "print('Target tracks count: {}'.format(target_tracks['track_id'].nunique()))\n",
    "print('Target playlists count: {}'.format(target_playlists['playlist_id'].nunique()))"
   ]
  },
  {
   "cell_type": "code",
   "execution_count": 11,
   "metadata": {},
   "outputs": [
    {
     "name": "stdout",
     "output_type": "stream",
     "text": [
      "track_id_le classes: 100000\n",
      "tags_le classes: 31900\n",
      "album_le classes: 27604\n",
      "artist_le classes: 17536\n"
     ]
    }
   ],
   "source": [
    "track_id_le = preprocessing.LabelEncoder()\n",
    "track_id_le.fit(list(tracks_final['track_id']))\n",
    "print('track_id_le classes: {}'.format(len(track_id_le.classes_)))\n",
    "\n",
    "tags_le = preprocessing.LabelEncoder()\n",
    "tags_le.fit(list(tracks_tags['tag']))\n",
    "print('tags_le classes: {}'.format(len(tags_le.classes_)))\n",
    "\n",
    "album_le = preprocessing.LabelEncoder()\n",
    "album_le.fit(list(tracks_albums['album']))\n",
    "print('album_le classes: {}'.format(len(album_le.classes_)))\n",
    "\n",
    "artist_le = preprocessing.LabelEncoder()\n",
    "artist_le.fit(list(tracks_artist['artist_id']))\n",
    "print('artist_le classes: {}'.format(len(artist_le.classes_)))"
   ]
  },
  {
   "cell_type": "code",
   "execution_count": 12,
   "metadata": {},
   "outputs": [
    {
     "name": "stdout",
     "output_type": "stream",
     "text": [
      "  track_id    tag  weight  transformed_track_id  transformed_tag\n",
      "0  2972914  54087     2.5                 77187             6683\n",
      "1  2972914   1757     2.0                 77187              257\n",
      "2  2972914   1718     1.6                 77187              254\n",
      "   track_id  album  transformed_track_id\n",
      "0   2972914  31901                 77187\n",
      "0   2750239  31902                 69189\n",
      "0   1550729  31903                 37833\n",
      "   track_id  artist_id  transformed_track_id  transformed_artist_id\n",
      "0   2972914        144                 77187                  59506\n",
      "1   2750239        246                 69189                  59508\n",
      "2   1550729        144                 37833                  59506\n"
     ]
    }
   ],
   "source": [
    "tracks_tags['transformed_track_id'] = track_id_le.transform(list(tracks_tags['track_id']))\n",
    "tracks_tags['transformed_tag'] = tags_le.transform(list(tracks_tags['tag']))\n",
    "print(tracks_tags.head(3))\n",
    "\n",
    "tracks_albums['transformed_track_id'] = track_id_le.transform(list(tracks_albums['track_id']))\n",
    "tracks_albums['album'] = list(map(lambda x: x + len(tags_le.classes_),\\\n",
    "                                  album_le.transform(list(tracks_albums['album']))))\n",
    "print(tracks_albums.head(3))\n",
    "\n",
    "tracks_artist['transformed_track_id'] = track_id_le.transform(list(tracks_artist['track_id']))\n",
    "tracks_artist['transformed_artist_id'] = list(map(lambda x: x + len(tags_le.classes_) + len(album_le.classes_),\\\n",
    "                                                  artist_le.transform(list(tracks_artist['artist_id']))))\n",
    "print(tracks_artist.head(3))"
   ]
  },
  {
   "cell_type": "code",
   "execution_count": 13,
   "metadata": {},
   "outputs": [
    {
     "name": "stdout",
     "output_type": "stream",
     "text": [
      "target_playlists_and_tracks (362661, 2)\n",
      "   playlist_id  track_id\n",
      "0     10024884   2879006\n",
      "1     10024884   1532328\n",
      "2     10024884   3027673\n",
      "3     10024884   3236144\n",
      "4     10024884   1563134\n",
      "5     10024884    435345\n",
      "6     10024884    353291\n",
      "7     10024884    247331\n",
      "8     10024884    161455\n",
      "9     10024884   3338954\n"
     ]
    }
   ],
   "source": [
    "# Playlist and tracks that belong to them\n",
    "target_playlists_and_tracks = pd.merge(target_playlists, train_final, on='playlist_id')\n",
    "print('target_playlists_and_tracks {}'.format(target_playlists_and_tracks.shape))\n",
    "print(target_playlists_and_tracks.head(10))"
   ]
  },
  {
   "cell_type": "code",
   "execution_count": 14,
   "metadata": {},
   "outputs": [
    {
     "name": "stdout",
     "output_type": "stream",
     "text": [
      "training_set: (1010522, 2)\n",
      "   playlist_id  track_id\n",
      "0      3271849   2801526\n",
      "1      5616275    727878\n",
      "2     11267488   2805283\n",
      "3     10103900   1515105\n",
      "4      3836898   2945623\n",
      "validation_set: (30000, 2)\n",
      "   playlist_id  track_id\n",
      "0         7614   2141817\n",
      "1         7614   3833025\n",
      "2         7614   3711434\n",
      "3         7692   2053595\n",
      "4         7692   2172361\n",
      "test_target_tracks: (21958, 2)\n",
      "   track_id  transformed_track_id\n",
      "0   2141817                 53522\n",
      "1   3833025                 97760\n",
      "2   3711434                 94876\n",
      "3   2053595                 51310\n",
      "4   2172361                 54282\n"
     ]
    }
   ],
   "source": [
    "def split_training_data(train_final, target_playlists_and_tracks, random_state):\n",
    "    validation_set = target_playlists_and_tracks.groupby(['playlist_id'])\\\n",
    "                        .apply(lambda x: x.sample(n=3, random_state=random_state))\\\n",
    "                        .reset_index(drop=True)\n",
    "    df_concat = pd.concat([train_final, validation_set])\n",
    "    training_set = df_concat.drop_duplicates(keep=False)\n",
    "    return training_set, validation_set\n",
    "\n",
    "# Split dataset - from all target playlists remove randomly 3 tracks\n",
    "training_set, validation_set = split_training_data(train_final, target_playlists_and_tracks, random_state=0)\n",
    "test_target_tracks = validation_set['track_id'].drop_duplicates(keep='first').to_frame()\n",
    "test_target_tracks['transformed_track_id'] = track_id_le.transform(list(test_target_tracks['track_id']))\n",
    "target_tracks['transformed_track_id'] = track_id_le.transform(list(target_tracks['track_id']))\n",
    "\n",
    "print('training_set: {}'.format(training_set.shape))\n",
    "print(training_set.head(5))\n",
    "print('validation_set: {}'.format(validation_set.shape))\n",
    "print(validation_set.head(5))\n",
    "print('test_target_tracks: {}'.format(test_target_tracks.shape))\n",
    "print(test_target_tracks.head(5))"
   ]
  },
  {
   "cell_type": "code",
   "execution_count": 15,
   "metadata": {},
   "outputs": [
    {
     "name": "stdout",
     "output_type": "stream",
     "text": [
      "tracks_tags.shape (483501, 5)\n",
      "tracks_albums.shape (73244, 3)\n",
      "tracks_artist.shape (100000, 4)\n",
      "values shape: (656745,), vector: [ 2.5  2.   1.6 ...,  1.   1.   1. ]\n",
      "(100000, 77040)\n",
      "features_per_item.shape (100000, 1)\n",
      "items_per_feature.shape (1, 77040)\n"
     ]
    }
   ],
   "source": [
    "print('tracks_tags.shape {}'.format(tracks_tags.shape))\n",
    "print('tracks_albums.shape {}'.format(tracks_albums.shape))\n",
    "print('tracks_artist.shape {}'.format(tracks_artist.shape))\n",
    "\n",
    "tracks_albums_v = np.ones(tracks_albums.shape[0])\n",
    "tracks_artist_v = np.ones(tracks_artist.shape[0])\n",
    "# values = np.ones(tracks_tags.shape[0] + tracks_albums.shape[0] + tracks_artist.shape[0])\n",
    "values = np.append(tracks_tags['weight'], np.append(tracks_albums_v, tracks_artist_v))\n",
    "print('values shape: {}, vector: {}'.format(values.shape, values))\n",
    "\n",
    "ICM = scipy.sparse.coo_matrix((values, (list(tracks_tags['transformed_track_id']) + list(tracks_albums['transformed_track_id']) + list(tracks_artist['transformed_track_id']),\\\n",
    "                                        list(tracks_tags['transformed_tag']) + list(tracks_albums['album']) + list(tracks_artist['transformed_artist_id']))))\n",
    "ICM = ICM.tocsr()\n",
    "\n",
    "print(ICM.shape)\n",
    "features_per_item = (ICM > 0).sum(axis=1)\n",
    "items_per_feature = (ICM > 0).sum(axis=0)\n",
    "\n",
    "print('features_per_item.shape {}'.format(features_per_item.shape))\n",
    "print('items_per_feature.shape {}'.format(items_per_feature.shape))"
   ]
  },
  {
   "cell_type": "code",
   "execution_count": 16,
   "metadata": {},
   "outputs": [
    {
     "name": "stdout",
     "output_type": "stream",
     "text": [
      "(77040,)\n",
      "(100000, 77040)\n",
      "(77040,)\n"
     ]
    }
   ],
   "source": [
    "num_tot_items = ICM.shape[0]\n",
    "IDF = np.array(np.log(num_tot_items / items_per_feature))[0]\n",
    "ICM_idf = ICM.copy()\n",
    "# compute the number of non-zeros in each col\n",
    "# NOTE: this works only if X is instance of sparse.csc_matrix\n",
    "col_nnz = np.diff(check_matrix(ICM_idf, 'csc').indptr)\n",
    "print(col_nnz.shape)\n",
    "print(ICM_idf.shape)\n",
    "print(IDF.shape)\n",
    "# then normalize the values in each col\n",
    "ICM_idf.data *= np.repeat(IDF, col_nnz)"
   ]
  },
  {
   "cell_type": "code",
   "execution_count": null,
   "metadata": {
    "collapsed": true
   },
   "outputs": [],
   "source": []
  },
  {
   "cell_type": "code",
   "execution_count": 17,
   "metadata": {},
   "outputs": [
    {
     "name": "stdout",
     "output_type": "stream",
     "text": [
      "(100000,)\n",
      "(77040,)\n"
     ]
    }
   ],
   "source": [
    "features_per_item = np.array(features_per_item).squeeze()\n",
    "items_per_feature = np.array(items_per_feature).squeeze()\n",
    "\n",
    "print(features_per_item.shape)\n",
    "print(items_per_feature.shape)\n",
    "\n",
    "features_per_item = np.sort(features_per_item)\n",
    "items_per_feature = np.sort(items_per_feature)"
   ]
  },
  {
   "cell_type": "code",
   "execution_count": 18,
   "metadata": {},
   "outputs": [
    {
     "data": {
      "image/png": "[encoded data removed]",
      "text/plain": [
       "<matplotlib.figure.Figure at 0x111c949d0>"
      ]
     },
     "metadata": {},
     "output_type": "display_data"
    }
   ],
   "source": [
    "import matplotlib.pyplot as pyplot\n",
    "%matplotlib inline  \n",
    "\n",
    "pyplot.plot(features_per_item, 'ro')\n",
    "pyplot.ylabel('Num features ')\n",
    "pyplot.xlabel('Item Index')\n",
    "pyplot.show()"
   ]
  },
  {
   "cell_type": "code",
   "execution_count": 19,
   "metadata": {},
   "outputs": [
    {
     "data": {
      "image/png": "[encoded data removed]",
      "text/plain": [
       "<matplotlib.figure.Figure at 0x113859f90>"
      ]
     },
     "metadata": {},
     "output_type": "display_data"
    }
   ],
   "source": [
    "pyplot.plot(items_per_feature, 'ro')\n",
    "pyplot.ylabel('Num items ')\n",
    "pyplot.xlabel('Feature Index')\n",
    "pyplot.show()"
   ]
  },
  {
   "cell_type": "code",
   "execution_count": 20,
   "metadata": {},
   "outputs": [
    {
     "name": "stdout",
     "output_type": "stream",
     "text": [
      "   index  track_id  transformed_track_id  playlist_id  count\n",
      "0   5869   2289961                 57595     10526030      1\n",
      "1  12359   2209432                 55047      1687663      1\n",
      "2  18662   1881593                 46606      3835179      1\n",
      "3   1586   2898917                 74939     10951086      1\n",
      "4  16309   1596853                 38903      5431593      1\n"
     ]
    }
   ],
   "source": [
    "if SUBMISSION:\n",
    "    train_final['count'] = train_final.groupby(['track_id']).transform('count')\n",
    "    tracks_with_popularity = train_final.groupby(['track_id', 'count']).head(1).sort_values('count', ascending=False)\n",
    "    target_tracks_with_popularity = pd.merge(target_tracks, tracks_with_popularity, on='track_id').groupby('track_id').head(1)\n",
    "    target_tracks_with_popularity = target_tracks_with_popularity.sort_values('count').reset_index()\n",
    "    print(target_tracks_with_popularity.head(5))\n",
    "else:\n",
    "    training_set['count'] = training_set.groupby(['track_id']).transform('count')\n",
    "    tracks_with_popularity = training_set.groupby(['track_id', 'count']).head(1).sort_values('count', ascending=False)\n",
    "    target_tracks_with_popularity = pd.merge(test_target_tracks, tracks_with_popularity, on='track_id').groupby('track_id').head(1)\n",
    "    target_tracks_with_popularity = target_tracks_with_popularity.sort_values('count').reset_index()\n",
    "    print(target_tracks_with_popularity.head(5))"
   ]
  },
  {
   "cell_type": "code",
   "execution_count": null,
   "metadata": {
    "collapsed": true
   },
   "outputs": [],
   "source": []
  },
  {
   "cell_type": "code",
   "execution_count": 21,
   "metadata": {},
   "outputs": [
    {
     "name": "stdout",
     "output_type": "stream",
     "text": [
      "count    21951.000000\n",
      "mean        19.728577\n",
      "std         30.163626\n",
      "min          1.000000\n",
      "25%          4.000000\n",
      "50%          9.000000\n",
      "75%         22.000000\n",
      "max        458.000000\n",
      "Name: count, dtype: float64\n"
     ]
    },
    {
     "data": {
      "image/png": "[encoded data removed]",
      "text/plain": [
       "<matplotlib.figure.Figure at 0x1a2a482790>"
      ]
     },
     "metadata": {},
     "output_type": "display_data"
    }
   ],
   "source": [
    "# target_tracks_popularity = target_tracks_with_popularity.sort_values('count').reset_index()\n",
    "print(target_tracks_with_popularity['count'].describe())\n",
    "pyplot.plot(target_tracks_with_popularity['count'], 'ro')\n",
    "pyplot.ylabel('Popularity')\n",
    "pyplot.xlabel('Target tracks')\n",
    "pyplot.show()"
   ]
  },
  {
   "cell_type": "code",
   "execution_count": 22,
   "metadata": {
    "collapsed": true
   },
   "outputs": [],
   "source": [
    "class ISimilarity(object):\n",
    "    \"\"\"Abstract interface for the similarity metrics\"\"\"\n",
    "\n",
    "    def __init__(self, shrinkage=10):\n",
    "        self.shrinkage = shrinkage\n",
    "\n",
    "    def compute(self, X):\n",
    "        pass\n",
    "\n",
    "\n",
    "class Cosine(ISimilarity):\n",
    "    def compute(self, X):\n",
    "        # convert to csc matrix for faster column-wise operations\n",
    "        X = check_matrix(X, 'csc', dtype=np.float32)\n",
    "\n",
    "        # 1) normalize the columns in X\n",
    "        # compute the column-wise norm\n",
    "        # NOTE: this is slightly inefficient. We must copy X to compute the column norms.\n",
    "        # A faster solution is to  normalize the matrix inplace with a Cython function.\n",
    "        Xsq = X.copy()\n",
    "        Xsq.data **= 2\n",
    "        norm = np.sqrt(Xsq.sum(axis=0))\n",
    "        norm = np.asarray(norm).ravel()\n",
    "        norm += 1e-6\n",
    "        # compute the number of non-zeros in each column\n",
    "        # NOTE: this works only if X is instance of sparse.csc_matrix\n",
    "        \n",
    "        col_nnz = np.diff(X.indptr)\n",
    "        # then normalize the values in each column\n",
    "        X.data /= np.repeat(norm, col_nnz)\n",
    "        print(\"Normalized\")\n",
    "\n",
    "        # 2) compute the cosine similarity using the dot-product\n",
    "        print(\"Computing distance\")\n",
    "        dist = X * X.T\n",
    "        print(\"Computed\")\n",
    "    \n",
    "        # and apply the shrinkage\n",
    "        if self.shrinkage > 0:\n",
    "            dist = self.apply_shrinkage(X, dist)\n",
    "            print(\"Applied shrinkage\")    \n",
    "        \n",
    "        return dist\n",
    "\n",
    "    def apply_shrinkage(self, X, dist):\n",
    "        # create an \"indicator\" version of X (i.e. replace values in X with ones)\n",
    "        X_ind = X.copy()\n",
    "        X_ind.data = np.ones_like(X_ind.data)\n",
    "        # compute the co-rated counts\n",
    "        co_counts = X_ind * X_ind.T\n",
    "        # remove the diagonal\n",
    "#         co_counts = co_counts - scipy.sparse.dia_matrix((co_counts.diagonal()[scipy.newaxis, :], [0]), shape=co_counts.shape)\n",
    "        # compute the shrinkage factor as co_counts_ij / (co_counts_ij + shrinkage)\n",
    "        # then multiply dist with it\n",
    "        co_counts_shrink = co_counts.copy()\n",
    "        co_counts_shrink.data += self.shrinkage\n",
    "        co_counts.data /= co_counts_shrink.data\n",
    "        dist.data *= co_counts.data\n",
    "        return dist"
   ]
  },
  {
   "cell_type": "code",
   "execution_count": 21,
   "metadata": {},
   "outputs": [
    {
     "ename": "NameError",
     "evalue": "name 'Cosine' is not defined",
     "output_type": "error",
     "traceback": [
      "\u001b[0;31m---------------------------------------------------------------------------\u001b[0m",
      "\u001b[0;31mNameError\u001b[0m                                 Traceback (most recent call last)",
      "\u001b[0;32m<ipython-input-21-b7c3cfe8b162>\u001b[0m in \u001b[0;36m<module>\u001b[0;34m()\u001b[0m\n\u001b[0;32m----> 1\u001b[0;31m \u001b[0mdistance\u001b[0m \u001b[0;34m=\u001b[0m \u001b[0mCosine\u001b[0m\u001b[0;34m(\u001b[0m\u001b[0;34m)\u001b[0m\u001b[0;34m\u001b[0m\u001b[0m\n\u001b[0m\u001b[1;32m      2\u001b[0m \u001b[0mitem_similarity\u001b[0m \u001b[0;34m=\u001b[0m \u001b[0mdistance\u001b[0m\u001b[0;34m.\u001b[0m\u001b[0mcompute\u001b[0m\u001b[0;34m(\u001b[0m\u001b[0mICM\u001b[0m\u001b[0;34m)\u001b[0m\u001b[0;34m\u001b[0m\u001b[0m\n",
      "\u001b[0;31mNameError\u001b[0m: name 'Cosine' is not defined"
     ]
    }
   ],
   "source": [
    "distance = Cosine()\n",
    "item_similarity = distance.compute(ICM)"
   ]
  },
  {
   "cell_type": "code",
   "execution_count": 37,
   "metadata": {
    "collapsed": true
   },
   "outputs": [],
   "source": [
    "class Jaccard(ISimilarity):\n",
    "    def compute(self, X):\n",
    "        print(\"Jaccard sim Started\")\n",
    "        X = check_matrix(X, 'csr', dtype=np.float32)\n",
    "        cols_sum = X.getnnz(axis=0)\n",
    "        ab = X.T * X\n",
    "        # for rows\n",
    "        aa = np.repeat(cols_sum, ab.getnnz(axis=0))\n",
    "        # for columns\n",
    "        bb = cols_sum[ab.indices]\n",
    "\n",
    "        similarities = ab.copy()\n",
    "        similarities.data /= (aa + bb - ab.data)\n",
    "        print(\"Jaccard sim Finished\")\n",
    "        return similarities"
   ]
  },
  {
   "cell_type": "code",
   "execution_count": 38,
   "metadata": {
    "scrolled": true
   },
   "outputs": [
    {
     "name": "stdout",
     "output_type": "stream",
     "text": [
      "Jaccard sim Started\n",
      "Jaccard sim Finished\n"
     ]
    },
    {
     "name": "stderr",
     "output_type": "stream",
     "text": [
      "/Users/andreicapastru/anaconda/lib/python2.7/site-packages/ipykernel_launcher.py:13: RuntimeWarning: divide by zero encountered in divide\n",
      "  del sys.path[0]\n"
     ]
    }
   ],
   "source": [
    "distance = Jaccard()\n",
    "jac_item_similarity = distance.compute(ICM)"
   ]
  },
  {
   "cell_type": "code",
   "execution_count": null,
   "metadata": {
    "collapsed": true
   },
   "outputs": [],
   "source": [
    "from sklearn.metrics.pairwise import *\n",
    "ICM_csr = check_matrix(ICM, 'csr', dtype=np.float32)\n",
    "item_similarity = euclidean_distances(ICM_csr)\n",
    "print(item_similarity.shape)"
   ]
  },
  {
   "cell_type": "code",
   "execution_count": 47,
   "metadata": {},
   "outputs": [
    {
     "data": {
      "text/plain": [
       "<function gc.collect>"
      ]
     },
     "execution_count": 47,
     "metadata": {},
     "output_type": "execute_result"
    }
   ],
   "source": [
    "import gc\n",
    "gc.collect"
   ]
  },
  {
   "cell_type": "code",
   "execution_count": 26,
   "metadata": {
    "collapsed": true
   },
   "outputs": [],
   "source": [
    "class ContentBasedRecommender:\n",
    "    def __init__(self, to_predict=3):\n",
    "        self.to_predict = to_predict\n",
    "    \n",
    "    def fit(self, training_set, target_tracks, items_similarity):\n",
    "        self.training_set = training_set\n",
    "        self.items_similarity = items_similarity\n",
    "        \n",
    "        self.target_tracks_mask = np.zeros(self.items_similarity.shape[0])\n",
    "        for value in list(target_tracks['transformed_track_id']):\n",
    "            self.target_tracks_mask[value] = 1\n",
    "    \n",
    "    def recommend(self, target_playlists):\n",
    "        def make_recommendation(playlist):\n",
    "            tracks_on_playlist = self.training_set.loc[self.training_set['playlist_id'] == playlist['playlist_id']]\n",
    "            transformed_tracks_on_playlist = track_id_le.transform(list(tracks_on_playlist['track_id']))\n",
    "            tracks_on_playlist_mask = np.ones(self.items_similarity.shape[0])\n",
    "            for value in transformed_tracks_on_playlist:\n",
    "                tracks_on_playlist_mask[value] = 0\n",
    "            \n",
    "            correlation = np.squeeze(np.asarray(recommender.items_similarity[:, transformed_tracks_on_playlist].mean(axis=1)))\n",
    "            correlation = correlation * self.target_tracks_mask\n",
    "            correlation = correlation * tracks_on_playlist_mask\n",
    "            ind = np.argpartition(list(correlation), -self.to_predict)[-self.to_predict:]\n",
    "            scores = np.take(correlation, ind)\n",
    "        \n",
    "            ind, scores = zip(*sorted(zip(ind, scores), key=lambda x: x[1], reverse=True))\n",
    "\n",
    "            recommended_tracks = track_id_le.inverse_transform(ind)\n",
    "            playlist['recommendation'] = list(recommended_tracks)\n",
    "            playlist['scores'] = list(scores)\n",
    "            return playlist\n",
    "        recommended_items = target_playlists.apply(lambda playlist: make_recommendation(playlist), axis=1)\n",
    "        return recommended_items"
   ]
  },
  {
   "cell_type": "code",
   "execution_count": 27,
   "metadata": {},
   "outputs": [
    {
     "name": "stdout",
     "output_type": "stream",
     "text": [
      "Building model...\n",
      "Took 0.18721s\n"
     ]
    }
   ],
   "source": [
    "print('Building model...')\n",
    "begin = time.time()\n",
    "recommender = ContentBasedRecommender()\n",
    "recommender.fit(training_set, test_target_tracks, item_similarity)\n",
    "# recommender.fit(train_final, target_tracks, item_similarity)\n",
    "print('Took {0:.{digits}f}s'.format(time.time() - begin, digits=5))"
   ]
  },
  {
   "cell_type": "code",
   "execution_count": 30,
   "metadata": {
    "scrolled": true
   },
   "outputs": [
    {
     "name": "stdout",
     "output_type": "stream",
     "text": [
      "Recommending...\n",
      "Took 210.42463s\n",
      "recommended_items (1000, 3)\n",
      "   playlist_id              recommendation  \\\n",
      "0     10024884   [3789197, 820484, 291014]   \n",
      "1     10624787  [2790769, 3790474, 343990]   \n",
      "2      4891851   [557629, 3016360, 193077]   \n",
      "\n",
      "                                              scores  \n",
      "0  [0.0148110967129, 0.00980107765645, 0.00940569...  \n",
      "1  [0.019239038229, 0.0189084876329, 0.0152869420...  \n",
      "2  [0.0462393686175, 0.0395016781986, 0.037847351...  \n"
     ]
    }
   ],
   "source": [
    "print('Recommending...')\n",
    "begin = time.time()\n",
    "recommended_items = recommender.recommend(target_playlists.head(1000))\n",
    "print('Took {0:.{digits}f}s'.format(time.time() - begin, digits=5))\n",
    "\n",
    "print('recommended_items {}'.format(recommended_items.shape))\n",
    "print(recommended_items.head(3))"
   ]
  },
  {
   "cell_type": "code",
   "execution_count": 31,
   "metadata": {},
   "outputs": [
    {
     "name": "stdout",
     "output_type": "stream",
     "text": [
      "Evaluating...\n",
      "Precision: 0.08367, mAP: 0.09106, took 1.75589s\n"
     ]
    }
   ],
   "source": [
    "if not SUBMISSION:\n",
    "    evaluate(recommended_items, validation_set)"
   ]
  },
  {
   "cell_type": "code",
   "execution_count": 35,
   "metadata": {},
   "outputs": [
    {
     "name": "stdout",
     "output_type": "stream",
     "text": [
      "Printing...\n"
     ]
    }
   ],
   "source": [
    "def print_results(recommended_items, filename):\n",
    "    print('Printing...')\n",
    "    with open('./submissions/sub{}'.format(filename), 'w') as output_file:\n",
    "        output_file.write('playlist_id,track_ids\\n')\n",
    "        for index, recommendation in recommended_items.iterrows():\n",
    "            row = '{},'.format(recommendation['playlist_id'])\n",
    "            for track_id in pd.Series(recommendation['recommendation']).values:\n",
    "                row += ' {}'.format(track_id)\n",
    "            row += '\\n'\n",
    "            output_file.write(row)\n",
    "print_results(recommended_items, filename=SUBMISSION_FILENAME if SUBMISSION else TEST_FILENAME)"
   ]
  },
  {
   "cell_type": "code",
   "execution_count": 56,
   "metadata": {},
   "outputs": [
    {
     "name": "stdout",
     "output_type": "stream",
     "text": [
      "Printing...\n"
     ]
    }
   ],
   "source": [
    "def print_validation_set(validation_set):\n",
    "    print('Printing...')\n",
    "    with open('./submissions/validationset.csv', 'w') as output_file:\n",
    "        output_file.write('playlist_id,track_ids\\n')\n",
    "        for index, validation_row in validation_set.iterrows():\n",
    "            if index % 3 == 0:\n",
    "                playlist_id = '{},'.format(validation_row['playlist_id'])\n",
    "                output_file.write(playlist_id)\n",
    "            track_id = ' {}'.format(validation_row['track_id'])\n",
    "            output_file.write(track_id)\n",
    "\n",
    "            if index % 3 == 2:\n",
    "                output_file.write('\\n')\n",
    "print_validation_set(validation_set)"
   ]
  }
 ],
 "metadata": {
  "anaconda-cloud": {},
  "kernelspec": {
   "display_name": "Python 3",
   "language": "python",
   "name": "python3"
  },
  "language_info": {
   "codemirror_mode": {
    "name": "ipython",
    "version": 2
   },
   "file_extension": ".py",
   "mimetype": "text/x-python",
   "name": "python",
   "nbconvert_exporter": "python",
   "pygments_lexer": "ipython2",
   "version": "2.7.14"
  }
 },
 "nbformat": 4,
 "nbformat_minor": 1
}
