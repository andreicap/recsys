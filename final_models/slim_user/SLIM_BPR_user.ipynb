{
 "cells": [
  {
   "cell_type": "code",
   "execution_count": 1,
   "metadata": {
    "collapsed": false
   },
   "outputs": [],
   "source": [
    "import time\n",
    "import math\n",
    "import pandas as pd\n",
    "import numpy as np\n",
    "import scipy.sparse\n",
    "from sklearn import preprocessing\n",
    "import recommender\n",
    "import imp"
   ]
  },
  {
   "cell_type": "code",
   "execution_count": 2,
   "metadata": {
    "collapsed": false
   },
   "outputs": [],
   "source": [
    "from evaluation import *"
   ]
  },
  {
   "cell_type": "code",
   "execution_count": 3,
   "metadata": {
    "collapsed": true
   },
   "outputs": [],
   "source": [
    "SUBMISSION = False\n",
    "SUBMISSION_FILENAME = 'submission.csv'\n",
    "TEST_FILENAME = 'test.csv'"
   ]
  },
  {
   "cell_type": "code",
   "execution_count": 4,
   "metadata": {
    "collapsed": false
   },
   "outputs": [
    {
     "name": "stdout",
     "output_type": "stream",
     "text": [
      "Successfully read data\n"
     ]
    }
   ],
   "source": [
    "target_playlists = pd.read_csv('../../datasets/target_playlists.csv', sep='\\t')\n",
    "target_tracks = pd.read_csv('../../datasets/target_tracks.csv', sep='\\t')\n",
    "tracks_final = pd.read_csv('../../datasets/tracks_final.csv', sep='\\t')\n",
    "playlists_final = pd.read_csv('../../datasets/playlists_final.csv', sep='\\t')\n",
    "train_final = pd.read_csv('../../datasets/train_final.csv', sep='\\t')\n",
    "\n",
    "print('Successfully read data')"
   ]
  },
  {
   "cell_type": "code",
   "execution_count": 5,
   "metadata": {
    "collapsed": false
   },
   "outputs": [
    {
     "name": "stdout",
     "output_type": "stream",
     "text": [
      "Data info:\n",
      "Unique tracks count: 100000\n",
      "Unique playlist count: 57561\n",
      "Target tracks count: 32195\n",
      "Target playlists count: 10000\n"
     ]
    }
   ],
   "source": [
    "print('Data info:')\n",
    "print('Unique tracks count: {}'.format(tracks_final['track_id'].nunique()))\n",
    "print('Unique playlist count: {}'.format(playlists_final['playlist_id'].nunique()))\n",
    "print('Target tracks count: {}'.format(target_tracks['track_id'].nunique()))\n",
    "print('Target playlists count: {}'.format(target_playlists['playlist_id'].nunique()))"
   ]
  },
  {
   "cell_type": "code",
   "execution_count": 6,
   "metadata": {
    "collapsed": false
   },
   "outputs": [
    {
     "name": "stdout",
     "output_type": "stream",
     "text": [
      "track_id_le classes: 100000\n",
      "playlist_id_le classes: 57561\n"
     ]
    }
   ],
   "source": [
    "track_id_le = preprocessing.LabelEncoder()\n",
    "track_id_le.fit(list(tracks_final['track_id']))\n",
    "print('track_id_le classes: {}'.format(len(track_id_le.classes_)))\n",
    "\n",
    "playlist_id_le = preprocessing.LabelEncoder()\n",
    "playlist_id_le.fit(list(playlists_final['playlist_id']))\n",
    "print('playlist_id_le classes: {}'.format(len(playlist_id_le.classes_)))"
   ]
  },
  {
   "cell_type": "code",
   "execution_count": 7,
   "metadata": {
    "collapsed": false
   },
   "outputs": [
    {
     "name": "stdout",
     "output_type": "stream",
     "text": [
      "target_playlists_and_tracks (362661, 2)\n",
      "   playlist_id  track_id\n",
      "0     10024884   2879006\n",
      "1     10024884   1532328\n",
      "2     10024884   3027673\n",
      "3     10024884   3236144\n",
      "4     10024884   1563134\n",
      "5     10024884    435345\n",
      "6     10024884    353291\n",
      "7     10024884    247331\n",
      "8     10024884    161455\n",
      "9     10024884   3338954\n"
     ]
    }
   ],
   "source": [
    "# Playlist and tracks that belong to them\n",
    "target_playlists_and_tracks = pd.merge(target_playlists, train_final, on='playlist_id')\n",
    "print('target_playlists_and_tracks {}'.format(target_playlists_and_tracks.shape))\n",
    "print(target_playlists_and_tracks.head(10))"
   ]
  },
  {
   "cell_type": "code",
   "execution_count": 8,
   "metadata": {
    "collapsed": false
   },
   "outputs": [
    {
     "name": "stdout",
     "output_type": "stream",
     "text": [
      "training_set: (1010522, 4)\n",
      "   playlist_id  track_id  transformed_track_id  transformed_playlist_id\n",
      "0      3271849   2801526                 71058                     8890\n",
      "1      5616275    727878                 19741                    22426\n",
      "2     11267488   2805283                 71298                    54743\n",
      "3     10103900   1515105                 36851                    46970\n",
      "4      3836898   2945623                 76310                    11967\n",
      "validation_set: (30000, 2)\n",
      "   playlist_id  track_id\n",
      "0         7614   1609224\n",
      "1         7614   1614974\n",
      "2         7614   3711434\n",
      "3         7692   1232748\n",
      "4         7692     88210\n",
      "test_target_tracks: (21929, 2)\n",
      "   track_id  transformed_track_id\n",
      "0   1609224                 39285\n",
      "1   1614974                 39451\n",
      "2   3711434                 94876\n",
      "3   1232748                 30527\n",
      "4     88210                  1566\n"
     ]
    }
   ],
   "source": [
    "def split_training_data(train_final, target_playlists_and_tracks, random_state):\n",
    "    validation_set = target_playlists_and_tracks.groupby(['playlist_id'])\\\n",
    "                        .apply(lambda x: x.sample(n=3, random_state=random_state))\\\n",
    "                        .reset_index(drop=True)\n",
    "    df_concat = pd.concat([train_final, validation_set])\n",
    "    training_set = df_concat.drop_duplicates(keep=False)\n",
    "    return training_set, validation_set\n",
    "\n",
    "# Split dataset - from all target playlists remove randomly 3 tracks\n",
    "training_set, validation_set = split_training_data(train_final, target_playlists_and_tracks, random_state=5)\n",
    "test_target_tracks = validation_set['track_id'].drop_duplicates(keep='first').to_frame()\n",
    "test_target_tracks['transformed_track_id'] = track_id_le.transform(list(test_target_tracks['track_id']))\n",
    "target_tracks['transformed_track_id'] = track_id_le.transform(list(target_tracks['track_id']))\n",
    "target_playlists['transformed_playlist_id'] = playlist_id_le.transform(list(target_playlists['playlist_id']))\n",
    "\n",
    "training_set['transformed_track_id'] = track_id_le.transform(list(training_set['track_id']))\n",
    "training_set['transformed_playlist_id'] = playlist_id_le.transform(list(training_set['playlist_id']))\n",
    "\n",
    "train_final['transformed_track_id'] = track_id_le.transform(list(train_final['track_id']))\n",
    "train_final['transformed_playlist_id'] = playlist_id_le.transform(list(train_final['playlist_id']))\n",
    "\n",
    "print('training_set: {}'.format(training_set.shape))\n",
    "print(training_set.head(5))\n",
    "print('validation_set: {}'.format(validation_set.shape))\n",
    "print(validation_set.head(5))\n",
    "print('test_target_tracks: {}'.format(test_target_tracks.shape))\n",
    "print(test_target_tracks.head(5))"
   ]
  },
  {
   "cell_type": "code",
   "execution_count": 9,
   "metadata": {
    "collapsed": false
   },
   "outputs": [
    {
     "name": "stdout",
     "output_type": "stream",
     "text": [
      "urm_train_ones shape: (1010522,), vector: [ 1.  1.  1. ...,  1.  1.  1.]\n",
      "<class 'scipy.sparse.coo.coo_matrix'>\n",
      "(57561, 100000)\n",
      "playlists_per_track.shape (1, 100000)\n",
      "tracks_per_playlist.shape (57561, 1)\n"
     ]
    }
   ],
   "source": [
    "urm_train_ones = np.ones(training_set.shape[0])\n",
    "print('urm_train_ones shape: {}, vector: {}'.format(urm_train_ones.shape, urm_train_ones))\n",
    "\n",
    "URM_train = scipy.sparse.coo_matrix((urm_train_ones, (list(training_set['transformed_playlist_id']),\n",
    "                                                      list(training_set['transformed_track_id']))))\n",
    "print(type(URM_train))\n",
    "print(URM_train.shape)\n",
    "playlists_per_track = (URM_train > 0).sum(axis=0)\n",
    "tracks_per_playlist = (URM_train > 0).sum(axis=1)\n",
    "\n",
    "print('playlists_per_track.shape {}'.format(playlists_per_track.shape))\n",
    "print('tracks_per_playlist.shape {}'.format(tracks_per_playlist.shape))"
   ]
  },
  {
   "cell_type": "code",
   "execution_count": 10,
   "metadata": {
    "collapsed": false
   },
   "outputs": [
    {
     "name": "stdout",
     "output_type": "stream",
     "text": [
      "urm_test_ones shape: (1040522,), vector: [ 1.  1.  1. ...,  1.  1.  1.]\n",
      "<class 'scipy.sparse.coo.coo_matrix'>\n",
      "(57561, 100000)\n"
     ]
    }
   ],
   "source": [
    "urm_test_ones = np.ones(train_final.shape[0])\n",
    "print('urm_test_ones shape: {}, vector: {}'.format(urm_test_ones.shape, urm_test_ones))\n",
    "\n",
    "URM_test = scipy.sparse.coo_matrix((urm_test_ones, (list(train_final['transformed_playlist_id']),\n",
    "                                                    list(train_final['transformed_track_id']))))\n",
    "print(type(URM_train))\n",
    "print(URM_train.shape)"
   ]
  },
  {
   "cell_type": "code",
   "execution_count": 11,
   "metadata": {
    "collapsed": false
   },
   "outputs": [
    {
     "name": "stdout",
     "output_type": "stream",
     "text": [
      "(100000,)\n",
      "(57561,)\n"
     ]
    }
   ],
   "source": [
    "playlists_per_track = np.array(playlists_per_track).squeeze()\n",
    "tracks_per_playlist = np.array(tracks_per_playlist).squeeze()\n",
    "\n",
    "print(playlists_per_track.shape)\n",
    "print(tracks_per_playlist.shape)\n",
    "\n",
    "playlists_per_track = np.sort(playlists_per_track)\n",
    "tracks_per_playlist = np.sort(tracks_per_playlist)"
   ]
  },
  {
   "cell_type": "code",
   "execution_count": 12,
   "metadata": {
    "collapsed": false
   },
   "outputs": [
    {
     "data": {
      "image/png": "[encoded data removed]",
      "text/plain": [
       "<matplotlib.figure.Figure at 0x10eba9208>"
      ]
     },
     "metadata": {},
     "output_type": "display_data"
    }
   ],
   "source": [
    "import matplotlib.pyplot as pyplot\n",
    "%matplotlib inline  \n",
    "\n",
    "pyplot.plot(playlists_per_track, 'ro')\n",
    "pyplot.ylabel('Num of occurance')\n",
    "pyplot.xlabel('Track Index')\n",
    "pyplot.show()"
   ]
  },
  {
   "cell_type": "code",
   "execution_count": 13,
   "metadata": {
    "collapsed": false
   },
   "outputs": [
    {
     "data": {
      "image/png": "[encoded data removed]",
      "text/plain": [
       "<matplotlib.figure.Figure at 0x10f7dfe80>"
      ]
     },
     "metadata": {},
     "output_type": "display_data"
    }
   ],
   "source": [
    "pyplot.plot(tracks_per_playlist, 'ro')\n",
    "pyplot.ylabel('Num of Tracks')\n",
    "pyplot.xlabel('Playlist Index')\n",
    "pyplot.show()"
   ]
  },
  {
   "cell_type": "code",
   "execution_count": 14,
   "metadata": {
    "collapsed": false
   },
   "outputs": [
    {
     "name": "stdout",
     "output_type": "stream",
     "text": [
      "URM_mask before: 1010522\n",
      "URM_mask after: 1010522\n",
      "URM_mask shape: (57561, 100000)\n"
     ]
    },
    {
     "data": {
      "text/plain": [
       "<57561x100000 sparse matrix of type '<class 'numpy.float64'>'\n",
       "\twith 1010522 stored elements in Compressed Sparse Row format>"
      ]
     },
     "execution_count": 14,
     "metadata": {},
     "output_type": "execute_result"
    }
   ],
   "source": [
    "URM_mask = URM_train.copy().tocsr()\n",
    "print('URM_mask before: {}'.format(len(URM_mask.data)))\n",
    "URM_mask.eliminate_zeros()\n",
    "print('URM_mask after: {}'.format(len(URM_mask.data)))\n",
    "\n",
    "print('URM_mask shape: {}'.format(URM_mask.shape))\n",
    "URM_mask"
   ]
  },
  {
   "cell_type": "code",
   "execution_count": 17,
   "metadata": {
    "collapsed": false
   },
   "outputs": [
    {
     "name": "stdout",
     "output_type": "stream",
     "text": [
      "Building model...\n",
      "Took 0.48767s\n"
     ]
    }
   ],
   "source": [
    "imp.reload(recommender)\n",
    "print('Building model...')\n",
    "begin = time.time()\n",
    "rec = recommender.SLIM_BPR_Recommender_Cython_User(URM_train, test_target_tracks, test_target_tracks, target_playlists, track_id_le, training_set, sgd_mode='sgd')\n",
    "# rec = recommender.SLIM_BPR_Recommender_Cython_User(URM_test, test_target_tracks, target_tracks, target_playlists, track_id_le, training_set, sgd_mode='sgd')\n",
    "print('Took {0:.{digits}f}s'.format(time.time() - begin, digits=5))"
   ]
  },
  {
   "cell_type": "code",
   "execution_count": 18,
   "metadata": {
    "collapsed": false,
    "scrolled": true
   },
   "outputs": [
    {
     "name": "stdout",
     "output_type": "stream",
     "text": [
      "Training model...\n",
      "Processed 500000 ( 49.48% ) in 11.38 seconds. Sample per second: 43944\n",
      "Processed 1000000 ( 98.96% ) in 12.16 seconds. Sample per second: 43169\n",
      "Processed 1010522 ( 100.00% ) in 0.47 seconds. Sample per second: 43063\n",
      "Epoch 1 of 5 complete in 0.46 minutes\n",
      "Processed 500000 ( 49.48% ) in 10.45 seconds. Sample per second: 47827\n",
      "Processed 1000000 ( 98.96% ) in 11.32 seconds. Sample per second: 46908\n",
      "Processed 1010522 ( 100.00% ) in 0.57 seconds. Sample per second: 46852\n",
      "Evaluation begins...\n",
      "Test case: {'epoch': 2, 'lambda_j': 0.0002, 'batch': 1, 'lambda_i': 0.002, 'topK': 20, 'learn_rate': 1e-05}\n",
      "\n",
      "Precision: 0.02000, mAP: 0.02667, took 25.41497s\n",
      "Epoch 2 of 5 complete in 0.86 minutes\n",
      "Processed 500000 ( 49.48% ) in 10.89 seconds. Sample per second: 45921\n",
      "Processed 1000000 ( 98.96% ) in 12.02 seconds. Sample per second: 45407\n",
      "Processed 1010522 ( 100.00% ) in 0.27 seconds. Sample per second: 45379\n",
      "Evaluation begins...\n",
      "Test case: {'epoch': 3, 'lambda_j': 0.0002, 'batch': 1, 'lambda_i': 0.002, 'topK': 20, 'learn_rate': 1e-05}\n",
      "\n",
      "Precision: 0.01778, mAP: 0.02426, took 23.11293s\n",
      "Epoch 3 of 5 complete in 0.83 minutes\n",
      "Processed 500000 ( 49.48% ) in 10.46 seconds. Sample per second: 47790\n",
      "Processed 1000000 ( 98.96% ) in 12.61 seconds. Sample per second: 44234\n",
      "Processed 1010522 ( 100.00% ) in 0.84 seconds. Sample per second: 44241\n",
      "Evaluation begins...\n",
      "Test case: {'epoch': 4, 'lambda_j': 0.0002, 'batch': 1, 'lambda_i': 0.002, 'topK': 20, 'learn_rate': 1e-05}\n",
      "\n",
      "Precision: 0.01889, mAP: 0.02407, took 24.90452s\n",
      "Epoch 4 of 5 complete in 0.87 minutes\n",
      "Processed 500000 ( 49.48% ) in 12.94 seconds. Sample per second: 38632\n",
      "Processed 1000000 ( 98.96% ) in 14.44 seconds. Sample per second: 37824\n",
      "Processed 1010522 ( 100.00% ) in 0.70 seconds. Sample per second: 37847\n",
      "Evaluation begins...\n",
      "Test case: {'epoch': 5, 'lambda_j': 0.0002, 'batch': 1, 'lambda_i': 0.002, 'topK': 20, 'learn_rate': 1e-05}\n",
      "\n",
      "Precision: 0.02000, mAP: 0.02444, took 28.87025s\n",
      "Epoch 5 of 5 complete in 1.00 minutes\n",
      "Fit completed in 4.02 minutes\n",
      "Took 241.297s\n"
     ]
    }
   ],
   "source": [
    "print('Training model...')\n",
    "begin = time.time()\n",
    "rec.fit(epochs=5, learning_rate=0.00001, batch_size=1, target_playlists=target_playlists.head(300), validation_set=validation_set,\\\n",
    "        topK=20, validate_every_n_epochs=1, lambda_i=0.002, lambda_j=0.0002)\n",
    "print('Took {0:.{digits}f}s'.format(time.time() - begin, digits=3))"
   ]
  },
  {
   "cell_type": "code",
   "execution_count": 21,
   "metadata": {
    "collapsed": false
   },
   "outputs": [
    {
     "name": "stdout",
     "output_type": "stream",
     "text": [
      "Recommending...\n",
      "Took 44.37967s\n",
      "recommended_items (300, 4)\n",
      "   playlist_id  transformed_playlist_id               recommendation  \\\n",
      "0     10024884                    46297   [897771, 2971366, 3779477]   \n",
      "1     10624787                    50898  [2127224, 1563309, 2639723]   \n",
      "2      4891851                    17907   [2258669, 3554829, 498625]   \n",
      "\n",
      "                                              scores  \n",
      "0  [0.000854708017109, 0.000854708017109, 0.00081...  \n",
      "1  [0.000529918001727, 0.000529899777086, 0.00042...  \n",
      "2  [0.000564830886786, 0.000564830886786, 0.00056...  \n"
     ]
    }
   ],
   "source": [
    "print('Recommending...')\n",
    "begin = time.time()\n",
    "recommended_items = rec.recommend(target_playlists.head(300), k=15)\n",
    "print('Took {0:.{digits}f}s'.format(time.time() - begin, digits=5))\n",
    "\n",
    "print('recommended_items {}'.format(recommended_items.shape))\n",
    "print(recommended_items.head(3))"
   ]
  },
  {
   "cell_type": "code",
   "execution_count": 22,
   "metadata": {
    "collapsed": false
   },
   "outputs": [
    {
     "name": "stdout",
     "output_type": "stream",
     "text": [
      "Evaluating...\n",
      "Precision: 0.02556, mAP: 0.03074, took 0.44001s\n"
     ]
    }
   ],
   "source": [
    "if not SUBMISSION:\n",
    "    evaluate(recommended_items, validation_set)"
   ]
  },
  {
   "cell_type": "code",
   "execution_count": 23,
   "metadata": {
    "collapsed": true
   },
   "outputs": [],
   "source": [
    "scipy.sparse.save_npz('slim_user_20_5', rec.W_sparse)"
   ]
  },
  {
   "cell_type": "code",
   "execution_count": 49,
   "metadata": {
    "collapsed": false
   },
   "outputs": [],
   "source": [
    "# print(type(recommender.W_sparse))\n",
    "scipy.sparse.save_npz('slim_150_2', recommender.W_sparse)"
   ]
  },
  {
   "cell_type": "code",
   "execution_count": 40,
   "metadata": {
    "collapsed": false
   },
   "outputs": [
    {
     "name": "stdout",
     "output_type": "stream",
     "text": [
      "Printing...\n"
     ]
    }
   ],
   "source": [
    "def print_results(recommended_items, filename):\n",
    "    print('Printing...')\n",
    "    with open('../submissions/hybrid{}'.format(filename), 'w') as output_file:\n",
    "        output_file.write('playlist_id,track_ids\\n')\n",
    "        for index, recommendation in recommended_items.iterrows():\n",
    "            row = '{},'.format(recommendation['playlist_id'])\n",
    "            for track_id in pd.Series(recommendation['recommendation']).values:\n",
    "                row += ' {}'.format(track_id)\n",
    "            row += '\\n'\n",
    "            output_file.write(row)\n",
    "print_results(recommended_items, filename=SUBMISSION_FILENAME if SUBMISSION else TEST_FILENAME)"
   ]
  },
  {
   "cell_type": "code",
   "execution_count": 56,
   "metadata": {
    "collapsed": false
   },
   "outputs": [
    {
     "name": "stdout",
     "output_type": "stream",
     "text": [
      "Printing...\n"
     ]
    }
   ],
   "source": [
    "def print_validation_set(validation_set):\n",
    "    print('Printing...')\n",
    "    with open('./submissions/validationset.csv', 'w') as output_file:\n",
    "        output_file.write('playlist_id,track_ids\\n')\n",
    "        for index, validation_row in validation_set.iterrows():\n",
    "            if index % 3 == 0:\n",
    "                playlist_id = '{},'.format(validation_row['playlist_id'])\n",
    "                output_file.write(playlist_id)\n",
    "            track_id = ' {}'.format(validation_row['track_id'])\n",
    "            output_file.write(track_id)\n",
    "\n",
    "            if index % 3 == 2:\n",
    "                output_file.write('\\n')\n",
    "print_validation_set(validation_set)"
   ]
  }
 ],
 "metadata": {
  "anaconda-cloud": {},
  "kernelspec": {
   "display_name": "Python [Root]",
   "language": "python",
   "name": "Python [Root]"
  },
  "language_info": {
   "codemirror_mode": {
    "name": "ipython",
    "version": 3
   },
   "file_extension": ".py",
   "mimetype": "text/x-python",
   "name": "python",
   "nbconvert_exporter": "python",
   "pygments_lexer": "ipython3",
   "version": "3.5.2"
  }
 },
 "nbformat": 4,
 "nbformat_minor": 0
}
