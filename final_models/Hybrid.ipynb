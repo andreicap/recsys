{
 "cells": [
  {
   "cell_type": "code",
   "execution_count": 1,
   "metadata": {
    "collapsed": true
   },
   "outputs": [],
   "source": [
    "import time\n",
    "import pickle\n",
    "import math\n",
    "import pandas as pd\n",
    "import numpy as np\n",
    "import scipy.sparse\n",
    "from sklearn import preprocessing"
   ]
  },
  {
   "cell_type": "code",
   "execution_count": 2,
   "metadata": {
    "collapsed": true
   },
   "outputs": [],
   "source": [
    "SUBMISSION = False\n",
    "SUBMISSION_FILENAME = 'submission.csv'\n",
    "TEST_FILENAME = 'test.csv'"
   ]
  },
  {
   "cell_type": "code",
   "execution_count": 3,
   "metadata": {
    "collapsed": false
   },
   "outputs": [
    {
     "name": "stdout",
     "output_type": "stream",
     "text": [
      "Successfully read data\n"
     ]
    }
   ],
   "source": [
    "target_playlists = pd.read_csv('../datasets/target_playlists.csv', sep='\\t')\n",
    "target_tracks = pd.read_csv('../datasets/target_tracks.csv', sep='\\t')\n",
    "tracks_final = pd.read_csv('../datasets/tracks_final.csv', sep='\\t')\n",
    "playlists_final = pd.read_csv('../datasets/playlists_final.csv', sep='\\t')\n",
    "train_final = pd.read_csv('../datasets/train_final.csv', sep='\\t')\n",
    "\n",
    "print('Successfully read data')"
   ]
  },
  {
   "cell_type": "code",
   "execution_count": 4,
   "metadata": {
    "collapsed": true
   },
   "outputs": [],
   "source": [
    "def check_matrix(X, format='csc', dtype=np.float32):\n",
    "    if format == 'csc' and not isinstance(X, scipy.sparse.csc_matrix):\n",
    "        return X.tocsc().astype(dtype)\n",
    "    elif format == 'csr' and not isinstance(X, scipy.sparse.csr_matrix):\n",
    "        return X.tocsr().astype(dtype)\n",
    "    elif format == 'coo' and not isinstance(X, scipy.sparse.coo_matrix):\n",
    "        return X.tocoo().astype(dtype)\n",
    "    elif format == 'dok' and not isinstance(X, scipy.sparse.dok_matrix):\n",
    "        return X.todok().astype(dtype)\n",
    "    elif format == 'bsr' and not isinstance(X, scipy.sparse.bsr_matrix):\n",
    "        return X.tobsr().astype(dtype)\n",
    "    elif format == 'dia' and not isinstance(X, scipy.sparse.dia_matrix):\n",
    "        return X.todia().astype(dtype)\n",
    "    elif format == 'lil' and not isinstance(X, scipy.sparse.lil_matrix):\n",
    "        return X.tolil().astype(dtype)\n",
    "    else:\n",
    "        return X.astype(dtype)"
   ]
  },
  {
   "cell_type": "code",
   "execution_count": 5,
   "metadata": {
    "collapsed": true
   },
   "outputs": [],
   "source": [
    "def is_relevant(recommendation_item, validation_set):\n",
    "    validation_item = validation_set.loc[validation_set['playlist_id'] == recommendation_item['playlist_id']]\n",
    "    recommendation_item['recommendation'] = pd.Series(recommendation_item['recommendation'])\\\n",
    "                                                .isin(list(validation_item['track_id']))\n",
    "    return recommendation_item\n",
    "\n",
    "\n",
    "def precision(recommended_items_relevance):\n",
    "    precision_scores = recommended_items_relevance.sum(axis=1) / recommended_items_relevance.shape[1]\n",
    "    return precision_scores.mean()\n",
    "\n",
    "\n",
    "def mAP(recommended_items_relevance):\n",
    "    p_at_k = recommended_items_relevance.cumsum(axis=1) / (1 + np.arange(recommended_items_relevance.shape[1]))\n",
    "    recommended_items_mAP = p_at_k.sum(axis=1) / recommended_items_relevance.shape[1]\n",
    "    return recommended_items_mAP.mean()\n",
    "\n",
    "\n",
    "def evaluate_recommendations(recommended_items, validation_set):\n",
    "    items_relevance = recommended_items.apply(lambda recommendation_item: is_relevant(recommendation_item, validation_set), axis=1)\n",
    "    recommended_items_relevance = pd.DataFrame(list(items_relevance['recommendation']), index=items_relevance['recommendation'].index)\n",
    "    precision_score = precision(recommended_items_relevance)\n",
    "    mAP_score = mAP(recommended_items_relevance)\n",
    "    return precision_score, mAP_score\n",
    "\n",
    "def evaluate(recommended_items, validation_set):\n",
    "    print('Evaluating...')\n",
    "    begin = time.time()\n",
    "    precision_score, mAP_score = evaluate_recommendations(recommended_items, validation_set)\n",
    "    print('Precision: {0:.{digits}f}, mAP: {1:.{digits}f}, took {2:.{digits}f}s'\n",
    "          .format(precision_score, mAP_score, time.time() - begin, digits=5))"
   ]
  },
  {
   "cell_type": "code",
   "execution_count": 6,
   "metadata": {
    "collapsed": true
   },
   "outputs": [],
   "source": [
    "def str_tags_to_list(str_tags):\n",
    "    if str_tags == '[]':\n",
    "        return []\n",
    "    return list(map(int, str_tags.replace('[', '').replace(']', '').replace(' ', '').split(',')))\n",
    "\n",
    "\n",
    "def str_album_to_int(album):\n",
    "    if album == '[]' or album == '[None]':\n",
    "        return -1\n",
    "    return int(album.replace('[', '').replace(']', ''))"
   ]
  },
  {
   "cell_type": "code",
   "execution_count": 7,
   "metadata": {
    "collapsed": false
   },
   "outputs": [
    {
     "name": "stdout",
     "output_type": "stream",
     "text": [
      "tracks_tags (483501, 3)\n",
      "  track_id     tag  weight\n",
      "0  2972914   54087     2.5\n",
      "1  2972914    1757     2.0\n",
      "2  2972914    1718     1.6\n",
      "3  2972914  116712     1.2\n",
      "4  2972914  189631     1.0\n",
      "0  2750239  189631     2.5\n"
     ]
    }
   ],
   "source": [
    "def get_weight(i):\n",
    "    if i == 0:\n",
    "        return 2.5\n",
    "    if i == 1:\n",
    "        return 2.0\n",
    "    if i == 2:\n",
    "        return 1.6\n",
    "    if i == 3:\n",
    "        return 1.2\n",
    "    if i == 4:\n",
    "        return 1.0\n",
    "\n",
    "def get_tracks_tags(track_final):\n",
    "    track_tags_list = str_tags_to_list(track_final['tags'])\n",
    "    return [[track_final['track_id'], track_tag, get_weight(i)] for i, track_tag in enumerate(track_tags_list)]\n",
    "\n",
    "tracks_tags = pd.concat([pd.DataFrame(data=get_tracks_tags(track_final), columns=['track_id', 'tag', 'weight']) for index, track_final in tracks_final.iterrows()])\n",
    "print('tracks_tags {}'.format(tracks_tags.shape))\n",
    "print(tracks_tags.head(6))"
   ]
  },
  {
   "cell_type": "code",
   "execution_count": 8,
   "metadata": {
    "collapsed": false
   },
   "outputs": [
    {
     "name": "stdout",
     "output_type": "stream",
     "text": [
      "tracks_albums (73244, 2)\n",
      "   track_id  album\n",
      "0   2972914      7\n",
      "0   2750239      8\n",
      "0   1550729      9\n",
      "0   2169950      9\n",
      "0   2256817      9\n",
      "0   2561768     26\n"
     ]
    }
   ],
   "source": [
    "def get_track_album(track_final):\n",
    "    track_album = str_album_to_int(track_final['album'])\n",
    "    return [[track_final['track_id'], track_album]]\n",
    "\n",
    "tracks_albums = pd.concat([pd.DataFrame(data=get_track_album(track_final), columns=['track_id', 'album']) for index, track_final in tracks_final.iterrows()])\n",
    "# Remove tracks without album\n",
    "tracks_albums = tracks_albums[tracks_albums.album != -1]\n",
    "print('tracks_albums {}'.format(tracks_albums.shape))\n",
    "print(tracks_albums.head(6))"
   ]
  },
  {
   "cell_type": "code",
   "execution_count": 9,
   "metadata": {
    "collapsed": false
   },
   "outputs": [
    {
     "name": "stdout",
     "output_type": "stream",
     "text": [
      "tracks_artist (100000, 2)\n",
      "   track_id  artist_id\n",
      "0   2972914        144\n",
      "1   2750239        246\n",
      "2   1550729        144\n",
      "3   2169950        144\n",
      "4   1903709        144\n",
      "5   2256817        144\n"
     ]
    }
   ],
   "source": [
    "tracks_artist = pd.DataFrame()\n",
    "tracks_artist['track_id'] = tracks_final['track_id']\n",
    "tracks_artist['artist_id'] = tracks_final['artist_id']\n",
    "print('tracks_artist {}'.format(tracks_artist.shape))\n",
    "print(tracks_artist.head(6))"
   ]
  },
  {
   "cell_type": "code",
   "execution_count": 10,
   "metadata": {
    "collapsed": false
   },
   "outputs": [
    {
     "name": "stdout",
     "output_type": "stream",
     "text": [
      "playlist_titles (108382, 2)\n",
      "  playlist_id  title\n",
      "0      644838  12727\n",
      "0     3120683    183\n",
      "0     4278112  12389\n",
      "1     4278112  18698\n",
      "2     4278112  18925\n",
      "3     4278112  11695\n"
     ]
    }
   ],
   "source": [
    "def get_playlist_titles(playlist_final):\n",
    "    playlist_tags_list = str_tags_to_list(playlist_final['title'])\n",
    "    return [[playlist_final['playlist_id'], playlist_tag] for playlist_tag in playlist_tags_list]\n",
    "\n",
    "playlist_titles = pd.concat([pd.DataFrame(data=get_playlist_titles(playlist_final), columns=['playlist_id', 'title']) for index, playlist_final in playlists_final.iterrows()])\n",
    "print('playlist_titles {}'.format(playlist_titles.shape))\n",
    "print(playlist_titles.head(6))"
   ]
  },
  {
   "cell_type": "code",
   "execution_count": 11,
   "metadata": {
    "collapsed": false
   },
   "outputs": [
    {
     "name": "stdout",
     "output_type": "stream",
     "text": [
      "playlist_owner (57561, 2)\n",
      "   playlist_id  owner\n",
      "0       644838  41504\n",
      "1      7577564  41504\n",
      "2      3120683  44542\n",
      "3      4278112  44542\n",
      "4      8656823  44542\n",
      "5     10961458  44542\n"
     ]
    }
   ],
   "source": [
    "playlist_owner = pd.DataFrame()\n",
    "playlist_owner['playlist_id'] = playlists_final['playlist_id']\n",
    "playlist_owner['owner'] = playlists_final['owner']\n",
    "print('playlist_owner {}'.format(playlist_owner.shape))\n",
    "print(playlist_owner.head(6))"
   ]
  },
  {
   "cell_type": "code",
   "execution_count": 12,
   "metadata": {
    "collapsed": false
   },
   "outputs": [
    {
     "name": "stdout",
     "output_type": "stream",
     "text": [
      "Data info:\n",
      "Tracks with tags count: 97211\n",
      "Unique tags count: 31900\n",
      "\n",
      "Tracks with album count: 73244\n",
      "Unique album count: 27604\n",
      "\n",
      "Tracks with artists count: 100000\n",
      "Unique artists count: 17536\n",
      "\n",
      "Playlists with title count: 52384\n",
      "Unique titles count: 21064\n",
      "\n",
      "Playlist with owner count: 57561\n",
      "Unique owner count: 15264\n",
      "\n",
      "Unique tracks count: 100000\n",
      "Unique playlist count: 57561\n",
      "Target tracks count: 32195\n",
      "Target playlists count: 10000\n"
     ]
    }
   ],
   "source": [
    "print('Data info:')\n",
    "print('Tracks with tags count: {}'.format(tracks_tags['track_id'].nunique()))\n",
    "print('Unique tags count: {}\\n'.format(tracks_tags['tag'].nunique()))\n",
    "\n",
    "print('Tracks with album count: {}'.format(tracks_albums['track_id'].nunique()))\n",
    "print('Unique album count: {}\\n'.format(tracks_albums['album'].nunique()))\n",
    "\n",
    "print('Tracks with artists count: {}'.format(tracks_artist['track_id'].nunique()))\n",
    "print('Unique artists count: {}\\n'.format(tracks_artist['artist_id'].nunique()))\n",
    "\n",
    "print('Playlists with title count: {}'.format(playlist_titles['playlist_id'].nunique()))\n",
    "print('Unique titles count: {}\\n'.format(playlist_titles['title'].nunique()))\n",
    "\n",
    "print('Playlist with owner count: {}'.format(playlist_owner['playlist_id'].nunique()))\n",
    "print('Unique owner count: {}\\n'.format(playlist_owner['owner'].nunique()))\n",
    "\n",
    "print('Unique tracks count: {}'.format(tracks_final['track_id'].nunique()))\n",
    "print('Unique playlist count: {}'.format(playlists_final['playlist_id'].nunique()))\n",
    "print('Target tracks count: {}'.format(target_tracks['track_id'].nunique()))\n",
    "print('Target playlists count: {}'.format(target_playlists['playlist_id'].nunique()))"
   ]
  },
  {
   "cell_type": "code",
   "execution_count": 13,
   "metadata": {
    "collapsed": false
   },
   "outputs": [
    {
     "name": "stdout",
     "output_type": "stream",
     "text": [
      "track_id_le classes: 100000\n",
      "playlist_id_le classes: 57561\n",
      "title_le classes: 21064\n",
      "owner_le classes: 15264\n",
      "tags_le classes: 31900\n",
      "album_le classes: 27604\n",
      "artist_le classes: 17536\n"
     ]
    }
   ],
   "source": [
    "track_id_le = preprocessing.LabelEncoder()\n",
    "track_id_le.fit(list(tracks_final['track_id']))\n",
    "print('track_id_le classes: {}'.format(len(track_id_le.classes_)))\n",
    "\n",
    "playlist_id_le = preprocessing.LabelEncoder()\n",
    "playlist_id_le.fit(list(playlists_final['playlist_id']))\n",
    "print('playlist_id_le classes: {}'.format(len(playlist_id_le.classes_)))\n",
    "\n",
    "title_le = preprocessing.LabelEncoder()\n",
    "title_le.fit(list(playlist_titles['title']))\n",
    "print('title_le classes: {}'.format(len(title_le.classes_)))\n",
    "\n",
    "owner_le = preprocessing.LabelEncoder()\n",
    "owner_le.fit(list(playlist_owner['owner']))\n",
    "print('owner_le classes: {}'.format(len(owner_le.classes_)))\n",
    "\n",
    "tags_le = preprocessing.LabelEncoder()\n",
    "tags_le.fit(list(tracks_tags['tag']))\n",
    "print('tags_le classes: {}'.format(len(tags_le.classes_)))\n",
    "\n",
    "album_le = preprocessing.LabelEncoder()\n",
    "album_le.fit(list(tracks_albums['album']))\n",
    "print('album_le classes: {}'.format(len(album_le.classes_)))\n",
    "\n",
    "artist_le = preprocessing.LabelEncoder()\n",
    "artist_le.fit(list(tracks_artist['artist_id']))\n",
    "print('artist_le classes: {}'.format(len(artist_le.classes_)))"
   ]
  },
  {
   "cell_type": "code",
   "execution_count": 14,
   "metadata": {
    "collapsed": false
   },
   "outputs": [
    {
     "name": "stdout",
     "output_type": "stream",
     "text": [
      "target_playlists_and_tracks (362661, 2)\n",
      "   playlist_id  track_id\n",
      "0     10024884   2879006\n",
      "1     10024884   1532328\n",
      "2     10024884   3027673\n",
      "3     10024884   3236144\n",
      "4     10024884   1563134\n",
      "5     10024884    435345\n",
      "6     10024884    353291\n",
      "7     10024884    247331\n",
      "8     10024884    161455\n",
      "9     10024884   3338954\n"
     ]
    }
   ],
   "source": [
    "# Playlist and tracks that belong to them\n",
    "target_playlists_and_tracks = pd.merge(target_playlists, train_final, on='playlist_id')\n",
    "print('target_playlists_and_tracks {}'.format(target_playlists_and_tracks.shape))\n",
    "print(target_playlists_and_tracks.head(10))"
   ]
  },
  {
   "cell_type": "code",
   "execution_count": 15,
   "metadata": {
    "collapsed": false
   },
   "outputs": [
    {
     "name": "stdout",
     "output_type": "stream",
     "text": [
      "train_final: (1040522, 4)\n",
      "   playlist_id  track_id  transformed_track_id  transformed_playlist_id\n",
      "0      3271849   2801526                 71058                     8890\n",
      "1      5616275    727878                 19741                    22426\n",
      "2     11267488   2805283                 71298                    54743\n",
      "3     10103900   1515105                 36851                    46970\n",
      "4      3836898   2945623                 76310                    11967\n",
      "training_set: (1010522, 4)\n",
      "   playlist_id  track_id  transformed_track_id  transformed_playlist_id\n",
      "0      3271849   2801526                 71058                     8890\n",
      "1      5616275    727878                 19741                    22426\n",
      "2     11267488   2805283                 71298                    54743\n",
      "3     10103900   1515105                 36851                    46970\n",
      "4      3836898   2945623                 76310                    11967\n",
      "validation_set: (30000, 2)\n",
      "   playlist_id  track_id\n",
      "0         7614   2141817\n",
      "1         7614   3833025\n",
      "2         7614   3711434\n",
      "3         7692   2053595\n",
      "4         7692   2172361\n",
      "test_target_tracks: (21958, 2)\n",
      "   track_id  transformed_track_id\n",
      "0   2141817                 53522\n",
      "1   3833025                 97760\n",
      "2   3711434                 94876\n",
      "3   2053595                 51310\n",
      "4   2172361                 54282\n"
     ]
    }
   ],
   "source": [
    "def split_training_data(train_final, target_playlists_and_tracks, random_state):\n",
    "    validation_set = target_playlists_and_tracks.groupby(['playlist_id'])\\\n",
    "                        .apply(lambda x: x.sample(n=3, random_state=random_state))\\\n",
    "                        .reset_index(drop=True)\n",
    "    df_concat = pd.concat([train_final, validation_set])\n",
    "    training_set = df_concat.drop_duplicates(keep=False)\n",
    "    return training_set, validation_set\n",
    "\n",
    "# Split dataset - from all target playlists remove randomly 3 tracks\n",
    "training_set, validation_set = split_training_data(train_final, target_playlists_and_tracks, random_state=0)\n",
    "test_target_tracks = validation_set['track_id'].drop_duplicates(keep='first').to_frame()\n",
    "test_target_tracks['transformed_track_id'] = track_id_le.transform(list(test_target_tracks['track_id']))\n",
    "target_tracks['transformed_track_id'] = track_id_le.transform(list(target_tracks['track_id']))\n",
    "\n",
    "training_set['transformed_track_id'] = track_id_le.transform(list(training_set['track_id']))\n",
    "training_set['transformed_playlist_id'] = playlist_id_le.transform(list(training_set['playlist_id']))\n",
    "target_playlists['transformed_playlist_id'] = playlist_id_le.transform(list(target_playlists['playlist_id']))\n",
    "\n",
    "train_final['transformed_track_id'] = track_id_le.transform(list(train_final['track_id']))\n",
    "train_final['transformed_playlist_id'] = playlist_id_le.transform(list(train_final['playlist_id']))\n",
    "\n",
    "print('train_final: {}'.format(train_final.shape))\n",
    "print(train_final.head(5))\n",
    "print('training_set: {}'.format(training_set.shape))\n",
    "print(training_set.head(5))\n",
    "print('validation_set: {}'.format(validation_set.shape))\n",
    "print(validation_set.head(5))\n",
    "print('test_target_tracks: {}'.format(test_target_tracks.shape))\n",
    "print(test_target_tracks.head(5))"
   ]
  },
  {
   "cell_type": "code",
   "execution_count": 16,
   "metadata": {
    "collapsed": false
   },
   "outputs": [
    {
     "name": "stdout",
     "output_type": "stream",
     "text": [
      "playlist_titles\n",
      "  playlist_id  title  transformed_playlist_id  transformed_title_id\n",
      "0      644838  12727                     2514                112727\n",
      "0     3120683    183                     7829                100183\n",
      "0     4278112  12389                    14708                112389\n",
      "1     4278112  18698                    14708                118698\n",
      "playlist_owner\n",
      "   playlist_id  owner  transformed_playlist_id  transformed_owner\n",
      "0       644838  41504                     2514             132679\n",
      "1      7577564  41504                    35844             132679\n",
      "2      3120683  44542                     7829             135702\n",
      "3      4278112  44542                    14708             135702\n",
      "tracks_tags\n",
      "  track_id    tag  weight  transformed_track_id  transformed_tag\n",
      "0  2972914  54087     2.5                 77187             6683\n",
      "1  2972914   1757     2.0                 77187              257\n",
      "2  2972914   1718     1.6                 77187              254\n",
      "tracks_albums\n",
      "   track_id  album  transformed_track_id  transformed_album\n",
      "0   2972914      7                 77187              31901\n",
      "0   2750239      8                 69189              31902\n",
      "0   1550729      9                 37833              31903\n",
      "tracks_artist\n",
      "   track_id  artist_id  transformed_track_id  transformed_artist_id\n",
      "0   2972914        144                 77187                  59506\n",
      "1   2750239        246                 69189                  59508\n",
      "2   1550729        144                 37833                  59506\n"
     ]
    }
   ],
   "source": [
    "unique_tracks_count = tracks_final['track_id'].nunique()\n",
    "\n",
    "playlist_titles['transformed_playlist_id'] = playlist_id_le.transform(list(playlist_titles['playlist_id']))\n",
    "playlist_titles['transformed_title_id'] = list(map(lambda x: x + unique_tracks_count,\\\n",
    "                                                   title_le.transform(list(playlist_titles['title']))))\n",
    "print('playlist_titles')\n",
    "print(playlist_titles.head(4))\n",
    "\n",
    "playlist_owner['transformed_playlist_id'] = playlist_id_le.transform(list(playlist_owner['playlist_id']))\n",
    "playlist_owner['transformed_owner'] = list(map(lambda x: x + unique_tracks_count + len(title_le.classes_),\\\n",
    "                                                   owner_le.transform(list(playlist_owner['owner']))))\n",
    "print('playlist_owner')\n",
    "print(playlist_owner.head(4))\n",
    "\n",
    "tracks_tags['transformed_track_id'] = track_id_le.transform(list(tracks_tags['track_id']))\n",
    "tracks_tags['transformed_tag'] = tags_le.transform(list(tracks_tags['tag']))\n",
    "print('tracks_tags')\n",
    "print(tracks_tags.head(3))\n",
    "\n",
    "tracks_albums['transformed_track_id'] = track_id_le.transform(list(tracks_albums['track_id']))\n",
    "tracks_albums['transformed_album'] = list(map(lambda x: x + len(tags_le.classes_),\\\n",
    "                                  album_le.transform(list(tracks_albums['album']))))\n",
    "print('tracks_albums')\n",
    "print(tracks_albums.head(3))\n",
    "\n",
    "tracks_artist['transformed_track_id'] = track_id_le.transform(list(tracks_artist['track_id']))\n",
    "tracks_artist['transformed_artist_id'] = list(map(lambda x: x + len(tags_le.classes_) + len(album_le.classes_),\\\n",
    "                                                  artist_le.transform(list(tracks_artist['artist_id']))))\n",
    "print('tracks_artist')\n",
    "print(tracks_artist.head(3))"
   ]
  },
  {
   "cell_type": "code",
   "execution_count": 17,
   "metadata": {
    "collapsed": false
   },
   "outputs": [
    {
     "name": "stdout",
     "output_type": "stream",
     "text": [
      "urm_with_params_values shape: (1176465,), vector: [ 1.  1.  1. ...,  1.  1.  1.]\n",
      "(57561, 136328)\n",
      "tracks_per_playlist.shape (57561, 1)\n",
      "playlist_per_track.shape (1, 136328)\n"
     ]
    }
   ],
   "source": [
    "# urm_with_params_ones = np.ones(training_set.shape[0] + playlist_titles.shape[0] + playlist_owner.shape[0])\n",
    "training_set_v = np.ones(training_set.shape[0]) * 1.0\n",
    "playlist_titles_v = np.ones(playlist_titles.shape[0]) * 1.0\n",
    "playlist_owner_v = np.ones(playlist_owner.shape[0]) * 1.0\n",
    "urm_with_params_values = np.append(training_set_v, np.append(playlist_titles_v, playlist_owner_v))\n",
    "urm_with_params_ones = np.ones(train_final.shape[0] + playlist_titles.shape[0] + playlist_owner.shape[0])\n",
    "print('urm_with_params_values shape: {}, vector: {}'.format(urm_with_params_values.shape, urm_with_params_values))\n",
    "\n",
    "URM_with_params = scipy.sparse.coo_matrix((urm_with_params_ones, (list(train_final['transformed_playlist_id']) + list(playlist_titles['transformed_playlist_id']) + list(playlist_owner['transformed_playlist_id']),\n",
    "                                                                    list(train_final['transformed_track_id']) + list(playlist_titles['transformed_title_id']) + list(playlist_owner['transformed_owner']))))\n",
    "\n",
    "# URM_with_params = scipy.sparse.coo_matrix((urm_with_params_values, (list(training_set['transformed_playlist_id']) + list(playlist_titles['transformed_playlist_id']) + list(playlist_owner['transformed_playlist_id']),\n",
    "#                                                                     list(training_set['transformed_track_id']) + list(playlist_titles['transformed_title_id']) + list(playlist_owner['transformed_owner']))))\n",
    "URM_with_params = URM_with_params.tocsr()\n",
    "\n",
    "print(URM_with_params.shape)\n",
    "tracks_per_playlist = (URM_with_params > 0).sum(axis=1)\n",
    "playlist_per_track = (URM_with_params > 0).sum(axis=0)\n",
    "\n",
    "print('tracks_per_playlist.shape {}'.format(tracks_per_playlist.shape))\n",
    "print('playlist_per_track.shape {}'.format(playlist_per_track.shape))"
   ]
  },
  {
   "cell_type": "code",
   "execution_count": 18,
   "metadata": {
    "collapsed": false
   },
   "outputs": [
    {
     "name": "stdout",
     "output_type": "stream",
     "text": [
      "urm_ones shape: (1040522,), vector: [ 1.  1.  1. ...,  1.  1.  1.]\n",
      "(100000, 57561)\n"
     ]
    }
   ],
   "source": [
    "# urm_ones = np.ones(training_set.shape[0])\n",
    "urm_ones = np.ones(train_final.shape[0])\n",
    "print('urm_ones shape: {}, vector: {}'.format(urm_ones.shape, urm_ones))\n",
    "\n",
    "URM = scipy.sparse.coo_matrix((urm_ones, (list(train_final['transformed_track_id']),\n",
    "                                          list(train_final['transformed_playlist_id']))))\n",
    "\n",
    "# URM = scipy.sparse.coo_matrix((urm_ones, (list(training_set['transformed_track_id']),\n",
    "#                                           list(training_set['transformed_playlist_id']))))\n",
    "print(URM.shape)"
   ]
  },
  {
   "cell_type": "code",
   "execution_count": 19,
   "metadata": {
    "collapsed": false
   },
   "outputs": [
    {
     "name": "stdout",
     "output_type": "stream",
     "text": [
      "tracks_tags.shape (483501, 5)\n",
      "tracks_albums.shape (73244, 4)\n",
      "tracks_artist.shape (100000, 4)\n",
      "values shape: (656745,), vector: [ 2.5  2.   1.6 ...,  1.   1.   1. ]\n",
      "(100000, 77040)\n",
      "features_per_item.shape (100000, 1)\n",
      "items_per_feature.shape (1, 77040)\n"
     ]
    }
   ],
   "source": [
    "print('tracks_tags.shape {}'.format(tracks_tags.shape))\n",
    "print('tracks_albums.shape {}'.format(tracks_albums.shape))\n",
    "print('tracks_artist.shape {}'.format(tracks_artist.shape))\n",
    "\n",
    "tracks_albums_v = np.ones(tracks_albums.shape[0])\n",
    "tracks_artist_v = np.ones(tracks_artist.shape[0])\n",
    "values = np.append(tracks_tags['weight'], np.append(tracks_albums_v, tracks_artist_v))\n",
    "print('values shape: {}, vector: {}'.format(values.shape, values))\n",
    "\n",
    "ICM = scipy.sparse.coo_matrix((values, (list(tracks_tags['transformed_track_id']) + list(tracks_albums['transformed_track_id']) + list(tracks_artist['transformed_track_id']),\\\n",
    "                                        list(tracks_tags['transformed_tag']) + list(tracks_albums['transformed_album']) + list(tracks_artist['transformed_artist_id']))))\n",
    "\n",
    "print(ICM.shape)\n",
    "features_per_item = (ICM > 0).sum(axis=1)\n",
    "items_per_feature = (ICM > 0).sum(axis=0)\n",
    "\n",
    "print('features_per_item.shape {}'.format(features_per_item.shape))\n",
    "print('items_per_feature.shape {}'.format(items_per_feature.shape))"
   ]
  },
  {
   "cell_type": "code",
   "execution_count": 20,
   "metadata": {
    "collapsed": false
   },
   "outputs": [],
   "source": [
    "# num_tot_playlist = URM_with_params.shape[0]\n",
    "# IDF = np.array(np.log(num_tot_playlist / (playlist_per_track + 1)))[0]\n",
    "# URM_with_params_idf = URM_with_params.copy()\n",
    "# # compute the number of non-zeros in each col\n",
    "# # NOTE: this works only if X is instance of sparse.csc_matrix\n",
    "# col_nnz = np.diff(check_matrix(URM_with_params_idf, 'csc').indptr)\n",
    "# print(col_nnz.shape)\n",
    "# print(URM_with_params_idf.shape)\n",
    "# print(IDF.shape)\n",
    "# # then normalize the values in each col\n",
    "# URM_with_params_idf.data *= np.repeat(IDF, col_nnz)"
   ]
  },
  {
   "cell_type": "code",
   "execution_count": 21,
   "metadata": {
    "collapsed": false
   },
   "outputs": [
    {
     "name": "stdout",
     "output_type": "stream",
     "text": [
      "(100000,)\n",
      "(77040,)\n"
     ]
    }
   ],
   "source": [
    "features_per_item = np.array(features_per_item).squeeze()\n",
    "items_per_feature = np.array(items_per_feature).squeeze()\n",
    "\n",
    "print(features_per_item.shape)\n",
    "print(items_per_feature.shape)\n",
    "\n",
    "features_per_item = np.sort(features_per_item)\n",
    "items_per_feature = np.sort(items_per_feature)"
   ]
  },
  {
   "cell_type": "code",
   "execution_count": 22,
   "metadata": {
    "collapsed": false
   },
   "outputs": [
    {
     "data": {
      "image/png": "[encoded data removed]",
      "text/plain": [
       "<matplotlib.figure.Figure at 0x11c546b00>"
      ]
     },
     "metadata": {},
     "output_type": "display_data"
    }
   ],
   "source": [
    "import matplotlib.pyplot as pyplot\n",
    "%matplotlib inline  \n",
    "\n",
    "pyplot.plot(features_per_item, 'ro')\n",
    "pyplot.ylabel('Num features ')\n",
    "pyplot.xlabel('Item Index')\n",
    "pyplot.show()"
   ]
  },
  {
   "cell_type": "code",
   "execution_count": 23,
   "metadata": {
    "collapsed": false
   },
   "outputs": [
    {
     "data": {
      "image/png": "[encoded data removed]",
      "text/plain": [
       "<matplotlib.figure.Figure at 0x138537908>"
      ]
     },
     "metadata": {},
     "output_type": "display_data"
    }
   ],
   "source": [
    "pyplot.plot(items_per_feature, 'ro')\n",
    "pyplot.ylabel('Num items ')\n",
    "pyplot.xlabel('Feature Index')\n",
    "pyplot.show()"
   ]
  },
  {
   "cell_type": "code",
   "execution_count": 24,
   "metadata": {
    "collapsed": false
   },
   "outputs": [],
   "source": [
    "class ISimilarity(object):\n",
    "    \"\"\"Abstract interface for the similarity metrics\"\"\"\n",
    "\n",
    "    def __init__(self, shrinkage=10):\n",
    "        self.shrinkage = shrinkage\n",
    "\n",
    "    def compute(self, X):\n",
    "        pass\n",
    "\n",
    "\n",
    "class Cosine(ISimilarity):\n",
    "    def compute(self, X):\n",
    "        # convert to csc matrix for faster column-wise operations\n",
    "        X = check_matrix(X, 'csc', dtype=np.float32)\n",
    "\n",
    "        # 1) normalize the columns in X\n",
    "        # compute the column-wise norm\n",
    "        # NOTE: this is slightly inefficient. We must copy X to compute the column norms.\n",
    "        # A faster solution is to  normalize the matrix inplace with a Cython function.\n",
    "        Xsq = X.copy()\n",
    "        Xsq.data **= 2\n",
    "        norm = np.sqrt(Xsq.sum(axis=0))\n",
    "        norm = np.asarray(norm).ravel()\n",
    "        norm += 1e-6\n",
    "        # compute the number of non-zeros in each column\n",
    "        # NOTE: this works only if X is instance of sparse.csc_matrix\n",
    "        \n",
    "        col_nnz = np.diff(X.indptr)\n",
    "        # then normalize the values in each column\n",
    "        X.data /= np.repeat(norm, col_nnz)\n",
    "        print(\"Normalized\")\n",
    "\n",
    "        # 2) compute the cosine similarity using the dot-product\n",
    "        print(\"Computing distance\")\n",
    "        dist = X * X.T\n",
    "        print(\"Computed\")\n",
    "\n",
    "        # and apply the shrinkage\n",
    "        if self.shrinkage > 0:\n",
    "            dist = self.apply_shrinkage(X, dist)\n",
    "            print(\"Applied shrinkage\")    \n",
    "        \n",
    "        return dist\n",
    "\n",
    "    def apply_shrinkage(self, X, dist):\n",
    "        # create an \"indicator\" version of X (i.e. replace values in X with ones)\n",
    "        X_ind = X.copy()\n",
    "        X_ind.data = np.ones_like(X_ind.data)\n",
    "        # compute the co-rated counts\n",
    "        co_counts = X_ind * X_ind.T\n",
    "        # remove the diagonal\n",
    "#         co_counts = co_counts - scipy.sparse.dia_matrix((co_counts.diagonal()[scipy.newaxis, :], [0]), shape=co_counts.shape)\n",
    "        # compute the shrinkage factor as co_counts_ij / (co_counts_ij + shrinkage)\n",
    "        # then multiply dist with it\n",
    "        co_counts_shrink = co_counts.copy()\n",
    "        co_counts_shrink.data += self.shrinkage\n",
    "        co_counts.data /= co_counts_shrink.data\n",
    "        dist.data *= co_counts.data\n",
    "        return dist"
   ]
  },
  {
   "cell_type": "code",
   "execution_count": 25,
   "metadata": {
    "collapsed": false
   },
   "outputs": [
    {
     "name": "stdout",
     "output_type": "stream",
     "text": [
      "Normalized\n",
      "Computing distance\n",
      "Computed\n"
     ]
    }
   ],
   "source": [
    "distance = Cosine(shrinkage=0)\n",
    "# playlist_similarity = distance.compute(URM_with_params_idf)\n",
    "playlist_similarity = distance.compute(URM_with_params.copy())"
   ]
  },
  {
   "cell_type": "code",
   "execution_count": 26,
   "metadata": {
    "collapsed": false
   },
   "outputs": [
    {
     "name": "stdout",
     "output_type": "stream",
     "text": [
      "Normalized\n",
      "Computing distance\n",
      "Computed\n"
     ]
    }
   ],
   "source": [
    "distance = Cosine(shrinkage=0)\n",
    "# playlist_similarity = distance.compute(URM_with_params_idf)\n",
    "items_similarity_ICM = distance.compute(ICM.copy())"
   ]
  },
  {
   "cell_type": "code",
   "execution_count": 27,
   "metadata": {
    "collapsed": false
   },
   "outputs": [
    {
     "name": "stdout",
     "output_type": "stream",
     "text": [
      "Normalized\n",
      "Computing distance\n",
      "Computed\n"
     ]
    }
   ],
   "source": [
    "distance = Cosine(shrinkage=0)\n",
    "# playlist_similarity = distance.compute(URM_with_params_idf)\n",
    "items_similarity_URM = distance.compute(URM.copy())"
   ]
  },
  {
   "cell_type": "code",
   "execution_count": 28,
   "metadata": {
    "collapsed": false
   },
   "outputs": [
    {
     "name": "stdout",
     "output_type": "stream",
     "text": [
      "<class 'scipy.sparse.csr.csr_matrix'>\n"
     ]
    }
   ],
   "source": [
    "SLIM_ISM = scipy.sparse.load_npz('./slim/prod_slim_150.npz')\n",
    "print(type(SLIM_ISM))"
   ]
  },
  {
   "cell_type": "code",
   "execution_count": 29,
   "metadata": {
    "collapsed": false
   },
   "outputs": [
    {
     "name": "stdout",
     "output_type": "stream",
     "text": [
      "<class 'scipy.sparse.csc.csc_matrix'>\n",
      "<class 'scipy.sparse.csc.csc_matrix'>\n"
     ]
    }
   ],
   "source": [
    "# SLIM_ISM_csc = SLIM_ISM.tocsc()\n",
    "\n",
    "print(type(items_similarity_URM))\n",
    "print(type(playlist_similarity))"
   ]
  },
  {
   "cell_type": "code",
   "execution_count": 30,
   "metadata": {
    "collapsed": false
   },
   "outputs": [],
   "source": [
    "class HybridRecommender:\n",
    "    def __init__(self, k, to_predict=3):\n",
    "        self.k = k\n",
    "        self.to_predict = to_predict\n",
    "    \n",
    "    def fit(self, training_set, target_tracks, playlist_similarity, URM, items_similarity_ICM, items_similarity_URM, SLIM_ISM):\n",
    "        self.training_set = training_set\n",
    "        self.playlist_similarity = playlist_similarity\n",
    "        self.items_similarity_ICM = items_similarity_ICM\n",
    "        self.items_similarity_URM = items_similarity_URM\n",
    "        self.SLIM_ISM = SLIM_ISM\n",
    "        self.URM = check_matrix(URM, 'csc', dtype=np.float32)\n",
    "        \n",
    "        self.target_tracks_mask = np.zeros(self.items_similarity_ICM.shape[0])\n",
    "        for value in list(target_tracks['transformed_track_id']):\n",
    "            self.target_tracks_mask[value] = 1\n",
    "    \n",
    "    def recommend(self, target_playlists):\n",
    "        def make_recommendation(playlist):\n",
    "            tracks_on_playlist = self.training_set.loc[self.training_set['playlist_id'] == playlist['playlist_id']]\n",
    "            transformed_tracks_on_playlist = track_id_le.transform(list(tracks_on_playlist['track_id']))\n",
    "            tracks_on_playlist_mask = np.ones(self.items_similarity_ICM.shape[0])\n",
    "            for value in transformed_tracks_on_playlist:\n",
    "                tracks_on_playlist_mask[value] = 0\n",
    "\n",
    "            # ContentBased similarity\n",
    "            correlation = np.squeeze(np.asarray(self.items_similarity_ICM[:, transformed_tracks_on_playlist].mean(axis=1)))\n",
    "            \n",
    "            # ItemBased similarity\n",
    "#             correlation_URM = np.squeeze(np.asarray(self.items_similarity_URM[:, transformed_tracks_on_playlist].sum(axis=1)))\n",
    "#             correlation = correlation + correlation_URM * 0.0001\n",
    "            \n",
    "            # Slim similarity\n",
    "            correlation_SLIM = np.squeeze(np.asarray(self.SLIM_ISM[:, transformed_tracks_on_playlist].mean(axis=1)))\n",
    "            correlation = correlation + correlation_SLIM * 16\n",
    "    \n",
    "            # UserBased similarity\n",
    "            similar_playlists = np.squeeze(self.playlist_similarity.getcol(playlist['transformed_playlist_id']).toarray())\n",
    "            indices = np.argpartition(similar_playlists, -self.k)[-self.k:]\n",
    "            ub_scores = np.take(similar_playlists, indices)\n",
    "            correlation_UB = np.zeros(self.URM.shape[0])\n",
    "            for index, score in zip(indices, ub_scores):\n",
    "                correlation_UB += np.squeeze(self.URM.getcol(index).toarray()) * score\n",
    "            \n",
    "            correlation = correlation + correlation_UB * 0.18 / len(transformed_tracks_on_playlist)\n",
    "            correlation = correlation * self.target_tracks_mask\n",
    "            correlation = correlation * tracks_on_playlist_mask\n",
    "            ind = np.argpartition(list(correlation), -self.to_predict)[-self.to_predict:]\n",
    "            scores = np.take(correlation, ind)\n",
    "        \n",
    "            recommended_tracks = track_id_le.inverse_transform(ind)\n",
    "            playlist['recommendation'] = list(reversed(recommended_tracks))\n",
    "            playlist['scores'] = sorted(list(scores), reverse=True)\n",
    "            return playlist\n",
    "        recommended_items = target_playlists.apply(lambda playlist: make_recommendation(playlist), axis=1)\n",
    "        return recommended_items\n"
   ]
  },
  {
   "cell_type": "code",
   "execution_count": 33,
   "metadata": {
    "collapsed": false
   },
   "outputs": [
    {
     "name": "stdout",
     "output_type": "stream",
     "text": [
      "Building model...\n",
      "Took 0.03926s\n"
     ]
    }
   ],
   "source": [
    "print('Building model...')\n",
    "begin = time.time()\n",
    "recommender = HybridRecommender(k=7, to_predict=5)\n",
    "# recommender.fit(training_set, test_target_tracks, playlist_similarity, URM, items_similarity_ICM, items_similarity_URM, SLIM_ISM)\n",
    "recommender.fit(train_final, target_tracks, playlist_similarity, URM, items_similarity_ICM, items_similarity_URM, SLIM_ISM)\n",
    "print('Took {0:.{digits}f}s'.format(time.time() - begin, digits=5))"
   ]
  },
  {
   "cell_type": "code",
   "execution_count": 35,
   "metadata": {
    "collapsed": false
   },
   "outputs": [
    {
     "name": "stdout",
     "output_type": "stream",
     "text": [
      "Recommending...\n",
      "Took 3595.97870s\n",
      "recommended_items (10000, 4)\n",
      "   playlist_id  transformed_playlist_id  \\\n",
      "0     10024884                    46297   \n",
      "1     10624787                    50898   \n",
      "2      4891851                    17907   \n",
      "3      4267369                    14641   \n",
      "4        65078                      537   \n",
      "\n",
      "                                  recommendation  \\\n",
      "0    [1637241, 56817, 2971366, 3738046, 1320180]   \n",
      "1   [3779369, 194963, 2781579, 1546826, 1980691]   \n",
      "2   [2089117, 1371741, 2238571, 205321, 1406862]   \n",
      "3  [2740798, 1890831, 1689809, 1712316, 3004539]   \n",
      "4    [119305, 1742595, 2913000, 2512056, 431268]   \n",
      "\n",
      "                                              scores  \n",
      "0  [0.0164327062666, 0.0137192313607, 0.012401808...  \n",
      "1  [0.0225384344293, 0.0185208265235, 0.018448000...  \n",
      "2  [0.0556312093139, 0.0433824374088, 0.041438946...  \n",
      "3  [0.0103156276162, 0.0102194677233, 0.009216206...  \n",
      "4  [0.0155581170693, 0.0145458931644, 0.012703390...  \n"
     ]
    }
   ],
   "source": [
    "print('Recommending...')\n",
    "begin = time.time()\n",
    "recommended_items = recommender.recommend(target_playlists)\n",
    "print('Took {0:.{digits}f}s'.format(time.time() - begin, digits=5))\n",
    "\n",
    "print('recommended_items {}'.format(recommended_items.shape))\n",
    "print(recommended_items.head(5))"
   ]
  },
  {
   "cell_type": "code",
   "execution_count": 84,
   "metadata": {
    "collapsed": false
   },
   "outputs": [
    {
     "name": "stdout",
     "output_type": "stream",
     "text": [
      "Evaluating...\n",
      "Precision: 0.10000, mAP: 0.10300, took 0.74419s\n"
     ]
    }
   ],
   "source": [
    "if not SUBMISSION:\n",
    "    evaluate(recommended_items, validation_set)"
   ]
  },
  {
   "cell_type": "code",
   "execution_count": 36,
   "metadata": {
    "collapsed": false
   },
   "outputs": [
    {
     "name": "stdout",
     "output_type": "stream",
     "text": [
      "Printing...\n"
     ]
    }
   ],
   "source": [
    "def print_results(recommended_items, filename):\n",
    "    print('Printing...')\n",
    "    with open('../submissions/hybrid4{}'.format(filename), 'w') as output_file:\n",
    "        output_file.write('playlist_id,track_ids\\n')\n",
    "        for index, recommendation in recommended_items.iterrows():\n",
    "            row = '{},'.format(recommendation['playlist_id'])\n",
    "            for track_id in pd.Series(recommendation['recommendation']).values:\n",
    "                row += ' {}'.format(track_id)\n",
    "            row += '\\n'\n",
    "            output_file.write(row)\n",
    "print_results(recommended_items, filename=SUBMISSION_FILENAME if SUBMISSION else TEST_FILENAME)"
   ]
  }
 ],
 "metadata": {
  "anaconda-cloud": {},
  "kernelspec": {
   "display_name": "Python [Root]",
   "language": "python",
   "name": "Python [Root]"
  },
  "language_info": {
   "codemirror_mode": {
    "name": "ipython",
    "version": 3
   },
   "file_extension": ".py",
   "mimetype": "text/x-python",
   "name": "python",
   "nbconvert_exporter": "python",
   "pygments_lexer": "ipython3",
   "version": "3.5.2"
  }
 },
 "nbformat": 4,
 "nbformat_minor": 0
}
