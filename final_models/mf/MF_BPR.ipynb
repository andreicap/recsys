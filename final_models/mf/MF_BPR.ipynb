{
 "cells": [
  {
   "cell_type": "code",
   "execution_count": 1,
   "metadata": {
    "collapsed": true
   },
   "outputs": [],
   "source": [
    "import time\n",
    "import math\n",
    "import pandas as pd\n",
    "import numpy as np\n",
    "import scipy.sparse\n",
    "from sklearn import preprocessing\n",
    "import recommender\n",
    "from evaluation import *\n",
    "import imp"
   ]
  },
  {
   "cell_type": "code",
   "execution_count": 2,
   "metadata": {
    "collapsed": true
   },
   "outputs": [],
   "source": [
    "SUBMISSION = False\n",
    "SUBMISSION_FILENAME = 'submission.csv'\n",
    "TEST_FILENAME = 'test.csv'"
   ]
  },
  {
   "cell_type": "code",
   "execution_count": 3,
   "metadata": {
    "collapsed": false
   },
   "outputs": [
    {
     "name": "stdout",
     "output_type": "stream",
     "text": [
      "Successfully read data\n"
     ]
    }
   ],
   "source": [
    "target_playlists = pd.read_csv('../../datasets/target_playlists.csv', sep='\\t')\n",
    "target_tracks = pd.read_csv('../../datasets/target_tracks.csv', sep='\\t')\n",
    "tracks_final = pd.read_csv('../../datasets/tracks_final.csv', sep='\\t')\n",
    "playlists_final = pd.read_csv('../../datasets/playlists_final.csv', sep='\\t')\n",
    "train_final = pd.read_csv('../../datasets/train_final.csv', sep='\\t')\n",
    "\n",
    "print('Successfully read data')"
   ]
  },
  {
   "cell_type": "code",
   "execution_count": 4,
   "metadata": {
    "collapsed": false
   },
   "outputs": [
    {
     "name": "stdout",
     "output_type": "stream",
     "text": [
      "Data info:\n",
      "Unique tracks count: 100000\n",
      "Unique playlist count: 57561\n",
      "Target tracks count: 32195\n",
      "Target playlists count: 10000\n"
     ]
    }
   ],
   "source": [
    "print('Data info:')\n",
    "print('Unique tracks count: {}'.format(tracks_final['track_id'].nunique()))\n",
    "print('Unique playlist count: {}'.format(playlists_final['playlist_id'].nunique()))\n",
    "print('Target tracks count: {}'.format(target_tracks['track_id'].nunique()))\n",
    "print('Target playlists count: {}'.format(target_playlists['playlist_id'].nunique()))"
   ]
  },
  {
   "cell_type": "code",
   "execution_count": 5,
   "metadata": {
    "collapsed": false
   },
   "outputs": [
    {
     "name": "stdout",
     "output_type": "stream",
     "text": [
      "track_id_le classes: 100000\n",
      "playlist_id_le classes: 57561\n"
     ]
    }
   ],
   "source": [
    "track_id_le = preprocessing.LabelEncoder()\n",
    "track_id_le.fit(list(tracks_final['track_id']))\n",
    "print('track_id_le classes: {}'.format(len(track_id_le.classes_)))\n",
    "\n",
    "playlist_id_le = preprocessing.LabelEncoder()\n",
    "playlist_id_le.fit(list(playlists_final['playlist_id']))\n",
    "print('playlist_id_le classes: {}'.format(len(playlist_id_le.classes_)))"
   ]
  },
  {
   "cell_type": "code",
   "execution_count": 6,
   "metadata": {
    "collapsed": false
   },
   "outputs": [
    {
     "name": "stdout",
     "output_type": "stream",
     "text": [
      "target_playlists_and_tracks (362661, 2)\n",
      "   playlist_id  track_id\n",
      "0     10024884   2879006\n",
      "1     10024884   1532328\n",
      "2     10024884   3027673\n",
      "3     10024884   3236144\n",
      "4     10024884   1563134\n",
      "5     10024884    435345\n",
      "6     10024884    353291\n",
      "7     10024884    247331\n",
      "8     10024884    161455\n",
      "9     10024884   3338954\n"
     ]
    }
   ],
   "source": [
    "# Playlist and tracks that belong to them\n",
    "target_playlists_and_tracks = pd.merge(target_playlists, train_final, on='playlist_id')\n",
    "print('target_playlists_and_tracks {}'.format(target_playlists_and_tracks.shape))\n",
    "print(target_playlists_and_tracks.head(10))"
   ]
  },
  {
   "cell_type": "code",
   "execution_count": 7,
   "metadata": {
    "collapsed": false
   },
   "outputs": [
    {
     "name": "stdout",
     "output_type": "stream",
     "text": [
      "training_set: (1010522, 4)\n",
      "   playlist_id  track_id  transformed_track_id  transformed_playlist_id\n",
      "0      3271849   2801526                 71058                     8890\n",
      "1      5616275    727878                 19741                    22426\n",
      "2     11267488   2805283                 71298                    54743\n",
      "3     10103900   1515105                 36851                    46970\n",
      "4      3836898   2945623                 76310                    11967\n",
      "validation_set: (30000, 2)\n",
      "   playlist_id  track_id\n",
      "0         7614   2141817\n",
      "1         7614   3833025\n",
      "2         7614   3711434\n",
      "3         7692   2053595\n",
      "4         7692   2172361\n",
      "test_target_tracks: (21958, 2)\n",
      "   track_id  transformed_track_id\n",
      "0   2141817                 53522\n",
      "1   3833025                 97760\n",
      "2   3711434                 94876\n",
      "3   2053595                 51310\n",
      "4   2172361                 54282\n"
     ]
    }
   ],
   "source": [
    "def split_training_data(train_final, target_playlists_and_tracks, random_state):\n",
    "    validation_set = target_playlists_and_tracks.groupby(['playlist_id'])\\\n",
    "                        .apply(lambda x: x.sample(n=3, random_state=random_state))\\\n",
    "                        .reset_index(drop=True)\n",
    "    df_concat = pd.concat([train_final, validation_set])\n",
    "    training_set = df_concat.drop_duplicates(keep=False)\n",
    "    return training_set, validation_set\n",
    "\n",
    "# Split dataset - from all target playlists remove randomly 3 tracks\n",
    "training_set, validation_set = split_training_data(train_final, target_playlists_and_tracks, random_state=0)\n",
    "test_target_tracks = validation_set['track_id'].drop_duplicates(keep='first').to_frame()\n",
    "test_target_tracks['transformed_track_id'] = track_id_le.transform(list(test_target_tracks['track_id']))\n",
    "target_tracks['transformed_track_id'] = track_id_le.transform(list(target_tracks['track_id']))\n",
    "target_playlists['transformed_playlist_id'] = playlist_id_le.transform(list(target_playlists['playlist_id']))\n",
    "\n",
    "training_set['transformed_track_id'] = track_id_le.transform(list(training_set['track_id']))\n",
    "training_set['transformed_playlist_id'] = playlist_id_le.transform(list(training_set['playlist_id']))\n",
    "\n",
    "train_final['transformed_track_id'] = track_id_le.transform(list(train_final['track_id']))\n",
    "train_final['transformed_playlist_id'] = playlist_id_le.transform(list(train_final['playlist_id']))\n",
    "\n",
    "print('training_set: {}'.format(training_set.shape))\n",
    "print(training_set.head(5))\n",
    "print('validation_set: {}'.format(validation_set.shape))\n",
    "print(validation_set.head(5))\n",
    "print('test_target_tracks: {}'.format(test_target_tracks.shape))\n",
    "print(test_target_tracks.head(5))"
   ]
  },
  {
   "cell_type": "code",
   "execution_count": 8,
   "metadata": {
    "collapsed": false
   },
   "outputs": [
    {
     "name": "stdout",
     "output_type": "stream",
     "text": [
      "urm_train_ones shape: (1010522,), vector: [ 1.  1.  1. ...,  1.  1.  1.]\n",
      "<class 'scipy.sparse.coo.coo_matrix'>\n",
      "(57561, 100000)\n",
      "playlists_per_track.shape (1, 100000)\n",
      "tracks_per_playlist.shape (57561, 1)\n"
     ]
    }
   ],
   "source": [
    "urm_train_ones = np.ones(training_set.shape[0])\n",
    "print('urm_train_ones shape: {}, vector: {}'.format(urm_train_ones.shape, urm_train_ones))\n",
    "\n",
    "URM_train = scipy.sparse.coo_matrix((urm_train_ones, (list(training_set['transformed_playlist_id']),\n",
    "                                                      list(training_set['transformed_track_id']))))\n",
    "print(type(URM_train))\n",
    "print(URM_train.shape)\n",
    "playlists_per_track = (URM_train > 0).sum(axis=0)\n",
    "tracks_per_playlist = (URM_train > 0).sum(axis=1)\n",
    "\n",
    "print('playlists_per_track.shape {}'.format(playlists_per_track.shape))\n",
    "print('tracks_per_playlist.shape {}'.format(tracks_per_playlist.shape))"
   ]
  },
  {
   "cell_type": "code",
   "execution_count": 9,
   "metadata": {
    "collapsed": false
   },
   "outputs": [
    {
     "name": "stdout",
     "output_type": "stream",
     "text": [
      "urm_test_ones shape: (1040522,), vector: [ 1.  1.  1. ...,  1.  1.  1.]\n",
      "<class 'scipy.sparse.coo.coo_matrix'>\n",
      "(57561, 100000)\n"
     ]
    }
   ],
   "source": [
    "urm_test_ones = np.ones(train_final.shape[0])\n",
    "print('urm_test_ones shape: {}, vector: {}'.format(urm_test_ones.shape, urm_test_ones))\n",
    "\n",
    "URM_test = scipy.sparse.coo_matrix((urm_test_ones, (list(train_final['transformed_playlist_id']),\n",
    "                                                    list(train_final['transformed_track_id']))))\n",
    "print(type(URM_train))\n",
    "print(URM_train.shape)"
   ]
  },
  {
   "cell_type": "code",
   "execution_count": 10,
   "metadata": {
    "collapsed": false
   },
   "outputs": [
    {
     "name": "stdout",
     "output_type": "stream",
     "text": [
      "(100000,)\n",
      "(57561,)\n"
     ]
    }
   ],
   "source": [
    "playlists_per_track = np.array(playlists_per_track).squeeze()\n",
    "tracks_per_playlist = np.array(tracks_per_playlist).squeeze()\n",
    "\n",
    "print(playlists_per_track.shape)\n",
    "print(tracks_per_playlist.shape)\n",
    "\n",
    "playlists_per_track = np.sort(playlists_per_track)\n",
    "tracks_per_playlist = np.sort(tracks_per_playlist)"
   ]
  },
  {
   "cell_type": "code",
   "execution_count": 11,
   "metadata": {
    "collapsed": false
   },
   "outputs": [
    {
     "data": {
      "image/png": "[encoded data removed]",
      "text/plain": [
       "<matplotlib.figure.Figure at 0x10f53a208>"
      ]
     },
     "metadata": {},
     "output_type": "display_data"
    }
   ],
   "source": [
    "import matplotlib.pyplot as pyplot\n",
    "%matplotlib inline  \n",
    "\n",
    "pyplot.plot(playlists_per_track, 'ro')\n",
    "pyplot.ylabel('Num of occurance')\n",
    "pyplot.xlabel('Track Index')\n",
    "pyplot.show()"
   ]
  },
  {
   "cell_type": "code",
   "execution_count": 12,
   "metadata": {
    "collapsed": false
   },
   "outputs": [
    {
     "data": {
      "image/png": "[encoded data removed]",
      "text/plain": [
       "<matplotlib.figure.Figure at 0x111204ef0>"
      ]
     },
     "metadata": {},
     "output_type": "display_data"
    }
   ],
   "source": [
    "pyplot.plot(tracks_per_playlist, 'ro')\n",
    "pyplot.ylabel('Num of Tracks')\n",
    "pyplot.xlabel('Playlist Index')\n",
    "pyplot.show()"
   ]
  },
  {
   "cell_type": "code",
   "execution_count": 13,
   "metadata": {
    "collapsed": false
   },
   "outputs": [
    {
     "name": "stdout",
     "output_type": "stream",
     "text": [
      "URM_mask before: 1010522\n",
      "URM_mask after: 1010522\n",
      "URM_mask shape: (57561, 100000)\n"
     ]
    },
    {
     "data": {
      "text/plain": [
       "<57561x100000 sparse matrix of type '<class 'numpy.float64'>'\n",
       "\twith 1010522 stored elements in Compressed Sparse Row format>"
      ]
     },
     "execution_count": 13,
     "metadata": {},
     "output_type": "execute_result"
    }
   ],
   "source": [
    "URM_mask = URM_train.copy().tocsr()\n",
    "print('URM_mask before: {}'.format(len(URM_mask.data)))\n",
    "URM_mask.eliminate_zeros()\n",
    "print('URM_mask after: {}'.format(len(URM_mask.data)))\n",
    "\n",
    "print('URM_mask shape: {}'.format(URM_mask.shape))\n",
    "URM_mask"
   ]
  },
  {
   "cell_type": "code",
   "execution_count": 15,
   "metadata": {
    "collapsed": false
   },
   "outputs": [
    {
     "name": "stdout",
     "output_type": "stream",
     "text": [
      "Building model...\n",
      "Took 0.65330s\n"
     ]
    }
   ],
   "source": [
    "imp.reload(recommender)\n",
    "print('Building model...')\n",
    "begin = time.time()\n",
    "rec = recommender.MF_BPR_Cython(URM_train, test_target_tracks, target_playlists, track_id_le, playlist_id_le,\\\n",
    "                                training_set, num_factors=50)\n",
    "print('Took {0:.{digits}f}s'.format(time.time() - begin, digits=5))"
   ]
  },
  {
   "cell_type": "code",
   "execution_count": 19,
   "metadata": {
    "collapsed": false,
    "scrolled": true
   },
   "outputs": [
    {
     "name": "stdout",
     "output_type": "stream",
     "text": [
      "Training model...\n",
      "Evaluation begins...\n",
      "Test case: {'learn_rate': 0.05, 'positive_reg': 0.0025, 'negative_reg': 0.00025, 'epoch': 300, 'num_factors': 50, 'sgd_mode': 'sgd', 'user_reg': 0.0025}\n",
      "\n",
      "Precision: 0.00940, mAP: 0.01066, took 22.70983s\n",
      "Evaluation begins...\n",
      "Test case: {'learn_rate': 0.05, 'positive_reg': 0.0025, 'negative_reg': 0.00025, 'epoch': 600, 'num_factors': 50, 'sgd_mode': 'sgd', 'user_reg': 0.0025}\n",
      "\n",
      "Precision: 0.00900, mAP: 0.01139, took 19.41960s\n",
      "Evaluation begins...\n",
      "Test case: {'learn_rate': 0.05, 'positive_reg': 0.0025, 'negative_reg': 0.00025, 'epoch': 900, 'num_factors': 50, 'sgd_mode': 'sgd', 'user_reg': 0.0025}\n",
      "\n",
      "Precision: 0.00960, mAP: 0.01295, took 20.26876s\n",
      "Evaluation begins...\n",
      "Test case: {'learn_rate': 0.05, 'positive_reg': 0.0025, 'negative_reg': 0.00025, 'epoch': 1200, 'num_factors': 50, 'sgd_mode': 'sgd', 'user_reg': 0.0025}\n",
      "\n",
      "Precision: 0.01000, mAP: 0.01538, took 17.57520s\n",
      "Evaluation begins...\n",
      "Test case: {'learn_rate': 0.05, 'positive_reg': 0.0025, 'negative_reg': 0.00025, 'epoch': 1500, 'num_factors': 50, 'sgd_mode': 'sgd', 'user_reg': 0.0025}\n",
      "\n",
      "Precision: 0.01080, mAP: 0.01380, took 19.75377s\n",
      "Evaluation begins...\n",
      "Test case: {'learn_rate': 0.05, 'positive_reg': 0.0025, 'negative_reg': 0.00025, 'epoch': 1800, 'num_factors': 50, 'sgd_mode': 'sgd', 'user_reg': 0.0025}\n",
      "\n",
      "Precision: 0.01080, mAP: 0.01313, took 18.74724s\n",
      "Evaluation begins...\n",
      "Test case: {'learn_rate': 0.05, 'positive_reg': 0.0025, 'negative_reg': 0.00025, 'epoch': 2100, 'num_factors': 50, 'sgd_mode': 'sgd', 'user_reg': 0.0025}\n",
      "\n",
      "Precision: 0.01120, mAP: 0.01377, took 23.26837s\n"
     ]
    },
    {
     "ename": "KeyboardInterrupt",
     "evalue": "",
     "output_type": "error",
     "traceback": [
      "\u001b[0;31m---------------------------------------------------------------------------\u001b[0m",
      "\u001b[0;31mKeyboardInterrupt\u001b[0m                         Traceback (most recent call last)",
      "\u001b[0;32m<ipython-input-19-ca955ecc686e>\u001b[0m in \u001b[0;36m<module>\u001b[0;34m()\u001b[0m\n\u001b[1;32m      1\u001b[0m \u001b[0mprint\u001b[0m\u001b[0;34m(\u001b[0m\u001b[0;34m'Training model...'\u001b[0m\u001b[0;34m)\u001b[0m\u001b[0;34m\u001b[0m\u001b[0m\n\u001b[1;32m      2\u001b[0m \u001b[0mbegin\u001b[0m \u001b[0;34m=\u001b[0m \u001b[0mtime\u001b[0m\u001b[0;34m.\u001b[0m\u001b[0mtime\u001b[0m\u001b[0;34m(\u001b[0m\u001b[0;34m)\u001b[0m\u001b[0;34m\u001b[0m\u001b[0m\n\u001b[0;32m----> 3\u001b[0;31m \u001b[0mrec\u001b[0m\u001b[0;34m.\u001b[0m\u001b[0mfit\u001b[0m\u001b[0;34m(\u001b[0m\u001b[0mepochs\u001b[0m\u001b[0;34m=\u001b[0m\u001b[0;36m21000\u001b[0m\u001b[0;34m,\u001b[0m \u001b[0mlearning_rate\u001b[0m\u001b[0;34m=\u001b[0m\u001b[0;36m0.05\u001b[0m\u001b[0;34m,\u001b[0m \u001b[0mtarget_playlists\u001b[0m\u001b[0;34m=\u001b[0m\u001b[0mtarget_playlists\u001b[0m\u001b[0;34m.\u001b[0m\u001b[0mhead\u001b[0m\u001b[0;34m(\u001b[0m\u001b[0;36m500\u001b[0m\u001b[0;34m)\u001b[0m\u001b[0;34m,\u001b[0m \u001b[0mvalidation_set\u001b[0m\u001b[0;34m=\u001b[0m\u001b[0mvalidation_set\u001b[0m\u001b[0;34m,\u001b[0m        \u001b[0mvalidate_every_n_epochs\u001b[0m\u001b[0;34m=\u001b[0m\u001b[0;36m300\u001b[0m\u001b[0;34m,\u001b[0m \u001b[0mbias_reg\u001b[0m\u001b[0;34m=\u001b[0m\u001b[0;36m0.5\u001b[0m\u001b[0;34m,\u001b[0m \u001b[0muser_reg\u001b[0m\u001b[0;34m=\u001b[0m\u001b[0;36m0.0025\u001b[0m\u001b[0;34m,\u001b[0m \u001b[0mpositive_reg\u001b[0m\u001b[0;34m=\u001b[0m\u001b[0;36m0.0025\u001b[0m\u001b[0;34m,\u001b[0m \u001b[0mnegative_reg\u001b[0m\u001b[0;34m=\u001b[0m\u001b[0;36m0.00025\u001b[0m\u001b[0;34m)\u001b[0m\u001b[0;34m\u001b[0m\u001b[0m\n\u001b[0m\u001b[1;32m      4\u001b[0m \u001b[0mprint\u001b[0m\u001b[0;34m(\u001b[0m\u001b[0;34m'Took {0:.{digits}f}s'\u001b[0m\u001b[0;34m.\u001b[0m\u001b[0mformat\u001b[0m\u001b[0;34m(\u001b[0m\u001b[0mtime\u001b[0m\u001b[0;34m.\u001b[0m\u001b[0mtime\u001b[0m\u001b[0;34m(\u001b[0m\u001b[0;34m)\u001b[0m \u001b[0;34m-\u001b[0m \u001b[0mbegin\u001b[0m\u001b[0;34m,\u001b[0m \u001b[0mdigits\u001b[0m\u001b[0;34m=\u001b[0m\u001b[0;36m3\u001b[0m\u001b[0;34m)\u001b[0m\u001b[0;34m)\u001b[0m\u001b[0;34m\u001b[0m\u001b[0m\n",
      "\u001b[0;32m/Users/marcin/dev/competiton/RecSys/workbench/my_mf/recommender.py\u001b[0m in \u001b[0;36mfit\u001b[0;34m(self, epochs, target_playlists, validation_set, validate_every_n_epochs, learning_rate, bias_reg, user_reg, positive_reg, negative_reg)\u001b[0m\n\u001b[1;32m     65\u001b[0m                                                      \u001b[0muser_reg\u001b[0m\u001b[0;34m=\u001b[0m\u001b[0mself\u001b[0m\u001b[0;34m.\u001b[0m\u001b[0muser_reg\u001b[0m\u001b[0;34m,\u001b[0m\u001b[0;34m\u001b[0m\u001b[0m\n\u001b[1;32m     66\u001b[0m                                                      \u001b[0mpositive_reg\u001b[0m\u001b[0;34m=\u001b[0m\u001b[0mself\u001b[0m\u001b[0;34m.\u001b[0m\u001b[0mpositive_reg\u001b[0m\u001b[0;34m,\u001b[0m\u001b[0;34m\u001b[0m\u001b[0m\n\u001b[0;32m---> 67\u001b[0;31m                                                      negative_reg=self.negative_reg)\n\u001b[0m\u001b[1;32m     68\u001b[0m \u001b[0;34m\u001b[0m\u001b[0m\n\u001b[1;32m     69\u001b[0m             \u001b[0;32mif\u001b[0m \u001b[0mtarget_playlists\u001b[0m \u001b[0;32mis\u001b[0m \u001b[0;32mnot\u001b[0m \u001b[0;32mNone\u001b[0m \u001b[0;32mand\u001b[0m \u001b[0;34m(\u001b[0m\u001b[0;34m(\u001b[0m\u001b[0mcurrent_epoch\u001b[0m \u001b[0;34m+\u001b[0m \u001b[0;36m1\u001b[0m\u001b[0;34m)\u001b[0m \u001b[0;34m%\u001b[0m \u001b[0mvalidate_every_n_epochs\u001b[0m \u001b[0;34m==\u001b[0m \u001b[0;36m0\u001b[0m\u001b[0;34m)\u001b[0m \u001b[0;32mand\u001b[0m \u001b[0mcurrent_epoch\u001b[0m \u001b[0;34m!=\u001b[0m \u001b[0;36m0\u001b[0m\u001b[0;34m:\u001b[0m\u001b[0;34m\u001b[0m\u001b[0m\n",
      "\u001b[0;31mKeyboardInterrupt\u001b[0m: "
     ]
    }
   ],
   "source": [
    "print('Training model...')\n",
    "begin = time.time()\n",
    "rec.fit(epochs=21000, learning_rate=0.05, target_playlists=target_playlists.head(500), validation_set=validation_set,\\\n",
    "        validate_every_n_epochs=300, bias_reg=0.5, user_reg=0.0025, positive_reg=0.0025, negative_reg=0.00025)\n",
    "print('Took {0:.{digits}f}s'.format(time.time() - begin, digits=3))"
   ]
  },
  {
   "cell_type": "code",
   "execution_count": 22,
   "metadata": {
    "collapsed": false
   },
   "outputs": [],
   "source": [
    "# print(recommender.W.shape)\n",
    "# print(recommender.H.shape)\n",
    "\n",
    "np.save('./models/W_50_0.020', rec.W)\n",
    "np.save('./models/H_50_0.020', rec.H)\n",
    "# print(recommender.W.max())\n",
    "# print(recommender.W.min())\n",
    "# print(recommender.H.max())\n",
    "# print(recommender.H.min())"
   ]
  },
  {
   "cell_type": "code",
   "execution_count": 20,
   "metadata": {
    "collapsed": false
   },
   "outputs": [
    {
     "name": "stdout",
     "output_type": "stream",
     "text": [
      "Recommending...\n",
      "Took 18.49940s\n",
      "recommended_items (500, 4)\n",
      "   playlist_id  transformed_playlist_id               recommendation  \\\n",
      "0     10024884                    46297  [2550703, 2384203, 2938199]   \n",
      "1     10624787                    50898    [254370, 551651, 1044821]   \n",
      "2      4891851                    17907  [2290010, 2413921, 3327572]   \n",
      "\n",
      "                                          scores  \n",
      "0    [5.30851758955, 4.9515516536, 4.6845367752]  \n",
      "1  [4.37368430569, 4.28735335522, 4.27800349525]  \n",
      "2  [4.72937677853, 4.15676068723, 4.09045036125]  \n"
     ]
    }
   ],
   "source": [
    "print('Recommending...')\n",
    "begin = time.time()\n",
    "recommended_items = rec.recommend(target_playlists.head(500))\n",
    "print('Took {0:.{digits}f}s'.format(time.time() - begin, digits=5))\n",
    "\n",
    "print('recommended_items {}'.format(recommended_items.shape))\n",
    "print(recommended_items.head(3))"
   ]
  },
  {
   "cell_type": "code",
   "execution_count": 21,
   "metadata": {
    "collapsed": false
   },
   "outputs": [
    {
     "name": "stdout",
     "output_type": "stream",
     "text": [
      "Evaluating...\n",
      "Precision: 0.01867, mAP: 0.02089, took 0.63332s\n"
     ]
    }
   ],
   "source": [
    "if not SUBMISSION:\n",
    "    evaluate(recommended_items, validation_set)"
   ]
  },
  {
   "cell_type": "code",
   "execution_count": 40,
   "metadata": {
    "collapsed": false
   },
   "outputs": [
    {
     "name": "stdout",
     "output_type": "stream",
     "text": [
      "Printing...\n"
     ]
    }
   ],
   "source": [
    "def print_results(recommended_items, filename):\n",
    "    print('Printing...')\n",
    "    with open('../submissions/hybrid{}'.format(filename), 'w') as output_file:\n",
    "        output_file.write('playlist_id,track_ids\\n')\n",
    "        for index, recommendation in recommended_items.iterrows():\n",
    "            row = '{},'.format(recommendation['playlist_id'])\n",
    "            for track_id in pd.Series(recommendation['recommendation']).values:\n",
    "                row += ' {}'.format(track_id)\n",
    "            row += '\\n'\n",
    "            output_file.write(row)\n",
    "print_results(recommended_items, filename=SUBMISSION_FILENAME if SUBMISSION else TEST_FILENAME)"
   ]
  },
  {
   "cell_type": "code",
   "execution_count": 24,
   "metadata": {
    "collapsed": false
   },
   "outputs": [
    {
     "name": "stdout",
     "output_type": "stream",
     "text": [
      "Printing...\n"
     ]
    }
   ],
   "source": [
    "def print_validation_set(validation_set):\n",
    "    print('Printing...')\n",
    "    with open('../../submissions/validationset.csv', 'w') as output_file:\n",
    "        output_file.write('playlist_id,track_ids\\n')\n",
    "        for index, validation_row in validation_set.iterrows():\n",
    "            if index % 3 == 0:\n",
    "                playlist_id = '{},'.format(validation_row['playlist_id'])\n",
    "                output_file.write(playlist_id)\n",
    "            track_id = ' {}'.format(validation_row['track_id'])\n",
    "            output_file.write(track_id)\n",
    "\n",
    "            if index % 3 == 2:\n",
    "                output_file.write('\\n')\n",
    "print_validation_set(validation_set)"
   ]
  },
  {
   "cell_type": "code",
   "execution_count": null,
   "metadata": {
    "collapsed": true
   },
   "outputs": [],
   "source": []
  }
 ],
 "metadata": {
  "anaconda-cloud": {},
  "kernelspec": {
   "display_name": "Python [Root]",
   "language": "python",
   "name": "Python [Root]"
  },
  "language_info": {
   "codemirror_mode": {
    "name": "ipython",
    "version": 3
   },
   "file_extension": ".py",
   "mimetype": "text/x-python",
   "name": "python",
   "nbconvert_exporter": "python",
   "pygments_lexer": "ipython3",
   "version": "3.5.2"
  }
 },
 "nbformat": 4,
 "nbformat_minor": 0
}
